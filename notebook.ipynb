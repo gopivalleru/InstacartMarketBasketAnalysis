{
 "cells": [
  {
   "cell_type": "markdown",
   "id": "e7340f3e-e709-4703-842a-5035e73abb2a",
   "metadata": {},
   "source": [
    "# Instacart Market Basket Analysis\n",
    "\n",
    "\n",
    "https://www.kaggle.com/c/instacart-market-basket-analysis\n",
    "\n",
    "\n",
    "## Description\n",
    "\n",
    "Whether you shop from meticulously planned grocery lists or let whimsy guide your grazing, our unique food rituals define who we are. Instacart, a grocery ordering and delivery app, aims to make it easy to fill your refrigerator and pantry with your personal favorites and staples when you need them. After selecting products through the Instacart app, personal shoppers review your order and do the in-store shopping and delivery for you.\n",
    "\n",
    "## Determine business objectives\n",
    "\n",
    "### <span style=\"color:orange;\">Which products will an Instacart consumer purchase again?\n",
    "\n",
    "<span style=\"color:green;\">Use the data on customer orders over time to predict which previously purchased products will be in a user’s next order.\n",
    "\n",
    "## Dataset Description \n",
    "\n",
    "\n",
    "ref: https://gist.github.com/jeremystan/c3b39d947d9b88b3ccff3147dbcf6c6b\n",
    "\n",
    "\n",
    "The dataset is a relational set of files describing customers' orders over time. The dataset is anonymized and contains a sample of over 3 million grocery orders from more than 200,000 Instacart users. For each user, there is between 4 and 100 of their orders, with the sequence of products purchased in each order. It also contains the week and hour of day the order was placed, and a relative measure of time between orders.\n",
    "\n",
    "### <span style=\"color:green;\">orders (3.4m rows, 206k users)\n",
    "* `order_id`: order identifier\n",
    "* `user_id`: customer identifier\n",
    "* `eval_set`: which evaluation set this order belongs in (see `SET` described below)\n",
    "* `order_number`: the order sequence number for this user (1 = first, n = nth)\n",
    "* `order_dow`: the day of the week the order was placed on\n",
    "* `order_hour_of_day`: the hour of the day the order was placed on\n",
    "* `days_since_prior`: days since the last order, capped at 30 (with NAs for `order_number` = 1)\n",
    "\n",
    "### <span style=\"color:green;\">products (50k rows)\n",
    "* `product_id`: product identifier\n",
    "* `product_name`: name of the product\n",
    "* `aisle_id`: foreign key\n",
    "* `department_id`: foreign key\n",
    "\n",
    "### <span style=\"color:green;\">aisles (134 rows):\n",
    "* `aisle_id`: aisle identifier\n",
    "* `aisle`: the name of the aisle\n",
    "\n",
    "### <span style=\"color:green;\">deptartments (21 rows):\n",
    "* `department_id`: department identifier\n",
    "* `department`: the name of the department\n",
    "\n",
    "### <span style=\"color:green;\">order_products__SET (30m+ rows):\n",
    "* `order_id`: foreign key\n",
    "* `product_id`: foreign key\n",
    "* `add_to_cart_order`: order in which each product was added to cart\n",
    "* `reordered`: 1 if this product has been ordered by this user in the past, 0 otherwise\n",
    "\n",
    "where `SET` is one of the four following evaluation sets (`eval_set` in `orders`):\n",
    "* `\"prior\"`: orders prior to that users most recent order (~3.2m orders)\n",
    "* `\"train\"`: training data supplied to participants (~131k orders)\n",
    "* `\"test\"`: test data reserved for machine learning competitions (~75k orders)\n",
    "\n",
    "\n",
    "## Result\n",
    "\n",
    "For each order_id in the test set, you should predict a space-delimited list of product_ids for that order. If you wish to predict an empty order, you should submit an explicit `None` value. You may combine `None` with product_ids. The spelling of `None` is case sensitive in the scoring metric. The file should have a header and look like the following:\n",
    "\n",
    "```\n",
    "order_id,products  \n",
    "17,1 2  \n",
    "34,None  \n",
    "137,1 2 3  \n",
    "etc.\n",
    "```\n",
    "\n"
   ]
  },
  {
   "cell_type": "code",
   "execution_count": 2,
   "id": "e0586f0d-e9ee-4583-8523-2e034296cd67",
   "metadata": {},
   "outputs": [],
   "source": [
    "import numpy as np\n",
    "import pandas as pd\n",
    "\n",
    "import matplotlib.pyplot as plt\n",
    "import seaborn as sns\n",
    "import squarify"
   ]
  },
  {
   "cell_type": "code",
   "execution_count": 3,
   "id": "2b77c738-c11e-4085-ad47-9111438466d9",
   "metadata": {},
   "outputs": [],
   "source": [
    "#%config Completer.use_jedi = True"
   ]
  },
  {
   "cell_type": "markdown",
   "id": "c85087d1-1391-4e54-a955-3637e7fe7725",
   "metadata": {},
   "source": [
    "# Data Understanding"
   ]
  },
  {
   "cell_type": "markdown",
   "id": "645ab912-8e9e-4823-9ecc-c2f941c48dac",
   "metadata": {},
   "source": [
    "## Collecting Initial Data"
   ]
  },
  {
   "cell_type": "code",
   "execution_count": 6,
   "id": "be931bd6-35ea-4630-a7fd-73d557354842",
   "metadata": {},
   "outputs": [
    {
     "name": "stdout",
     "output_type": "stream",
     "text": [
      "CPU times: user 7.28 s, sys: 2.03 s, total: 9.31 s\n",
      "Wall time: 9.39 s\n"
     ]
    }
   ],
   "source": [
    "%%time\n",
    "aisles = pd.read_csv('data/aisles.csv')\n",
    "departments = pd.read_csv('data/departments.csv')\n",
    "orders = pd.read_csv('data/orders.csv')\n",
    "products = pd.read_csv('data/products.csv')\n",
    "orders_products_prior = pd.read_csv('data/order_products__prior.csv')\n",
    "orders_products_train = pd.read_csv('data/order_products__train.csv')"
   ]
  },
  {
   "cell_type": "markdown",
   "id": "f98b3a60-a00a-47c8-acd5-802bcc739ff9",
   "metadata": {},
   "source": [
    "## Describe Data"
   ]
  },
  {
   "cell_type": "markdown",
   "id": "12e3f7b8-c178-400d-83d4-11df6ad88e06",
   "metadata": {},
   "source": [
    "### aisles"
   ]
  },
  {
   "cell_type": "code",
   "execution_count": 16,
   "id": "ee722111-9274-426f-bc1c-ab6966c2f3a4",
   "metadata": {},
   "outputs": [
    {
     "data": {
      "text/html": [
       "<div>\n",
       "<style scoped>\n",
       "    .dataframe tbody tr th:only-of-type {\n",
       "        vertical-align: middle;\n",
       "    }\n",
       "\n",
       "    .dataframe tbody tr th {\n",
       "        vertical-align: top;\n",
       "    }\n",
       "\n",
       "    .dataframe thead th {\n",
       "        text-align: right;\n",
       "    }\n",
       "</style>\n",
       "<table border=\"1\" class=\"dataframe\">\n",
       "  <thead>\n",
       "    <tr style=\"text-align: right;\">\n",
       "      <th></th>\n",
       "      <th>aisle_id</th>\n",
       "      <th>aisle</th>\n",
       "    </tr>\n",
       "  </thead>\n",
       "  <tbody>\n",
       "    <tr>\n",
       "      <th>0</th>\n",
       "      <td>1</td>\n",
       "      <td>prepared soups salads</td>\n",
       "    </tr>\n",
       "    <tr>\n",
       "      <th>1</th>\n",
       "      <td>2</td>\n",
       "      <td>specialty cheeses</td>\n",
       "    </tr>\n",
       "    <tr>\n",
       "      <th>2</th>\n",
       "      <td>3</td>\n",
       "      <td>energy granola bars</td>\n",
       "    </tr>\n",
       "    <tr>\n",
       "      <th>3</th>\n",
       "      <td>4</td>\n",
       "      <td>instant foods</td>\n",
       "    </tr>\n",
       "    <tr>\n",
       "      <th>4</th>\n",
       "      <td>5</td>\n",
       "      <td>marinades meat preparation</td>\n",
       "    </tr>\n",
       "  </tbody>\n",
       "</table>\n",
       "</div>"
      ],
      "text/plain": [
       "   aisle_id                       aisle\n",
       "0         1       prepared soups salads\n",
       "1         2           specialty cheeses\n",
       "2         3         energy granola bars\n",
       "3         4               instant foods\n",
       "4         5  marinades meat preparation"
      ]
     },
     "execution_count": 16,
     "metadata": {},
     "output_type": "execute_result"
    }
   ],
   "source": [
    "aisles.head()"
   ]
  },
  {
   "cell_type": "code",
   "execution_count": 18,
   "id": "5dffb232-242d-4562-b5d7-f3d84f2c75e5",
   "metadata": {},
   "outputs": [
    {
     "name": "stdout",
     "output_type": "stream",
     "text": [
      "<class 'pandas.core.frame.DataFrame'>\n",
      "RangeIndex: 134 entries, 0 to 133\n",
      "Data columns (total 2 columns):\n",
      " #   Column    Non-Null Count  Dtype \n",
      "---  ------    --------------  ----- \n",
      " 0   aisle_id  134 non-null    int64 \n",
      " 1   aisle     134 non-null    object\n",
      "dtypes: int64(1), object(1)\n",
      "memory usage: 2.2+ KB\n"
     ]
    }
   ],
   "source": [
    "aisles.info()"
   ]
  },
  {
   "cell_type": "code",
   "execution_count": 20,
   "id": "87f249c8-f7cf-412f-ab0e-5031e5745187",
   "metadata": {},
   "outputs": [
    {
     "data": {
      "text/plain": [
       "aisle_id    0\n",
       "aisle       0\n",
       "dtype: int64"
      ]
     },
     "execution_count": 20,
     "metadata": {},
     "output_type": "execute_result"
    }
   ],
   "source": [
    "aisles.isnull().sum()"
   ]
  },
  {
   "cell_type": "code",
   "execution_count": 22,
   "id": "0208e67e-ab61-4e41-8628-0a6210b1d578",
   "metadata": {},
   "outputs": [
    {
     "data": {
      "text/plain": [
       "0"
      ]
     },
     "execution_count": 22,
     "metadata": {},
     "output_type": "execute_result"
    }
   ],
   "source": [
    "aisles.duplicated().sum()"
   ]
  },
  {
   "cell_type": "code",
   "execution_count": 24,
   "id": "7893b489-6029-412c-aadd-649a23bbe54e",
   "metadata": {},
   "outputs": [
    {
     "data": {
      "text/plain": [
       "aisle_id    134\n",
       "aisle       134\n",
       "dtype: int64"
      ]
     },
     "execution_count": 24,
     "metadata": {},
     "output_type": "execute_result"
    }
   ],
   "source": [
    "aisles.nunique()"
   ]
  },
  {
   "cell_type": "code",
   "execution_count": 26,
   "id": "913ebc82-3551-4808-964e-88212fd5720a",
   "metadata": {},
   "outputs": [
    {
     "data": {
      "text/html": [
       "<div>\n",
       "<style scoped>\n",
       "    .dataframe tbody tr th:only-of-type {\n",
       "        vertical-align: middle;\n",
       "    }\n",
       "\n",
       "    .dataframe tbody tr th {\n",
       "        vertical-align: top;\n",
       "    }\n",
       "\n",
       "    .dataframe thead th {\n",
       "        text-align: right;\n",
       "    }\n",
       "</style>\n",
       "<table border=\"1\" class=\"dataframe\">\n",
       "  <thead>\n",
       "    <tr style=\"text-align: right;\">\n",
       "      <th></th>\n",
       "      <th>aisle_id</th>\n",
       "    </tr>\n",
       "  </thead>\n",
       "  <tbody>\n",
       "    <tr>\n",
       "      <th>count</th>\n",
       "      <td>134.000000</td>\n",
       "    </tr>\n",
       "    <tr>\n",
       "      <th>mean</th>\n",
       "      <td>67.500000</td>\n",
       "    </tr>\n",
       "    <tr>\n",
       "      <th>std</th>\n",
       "      <td>38.826537</td>\n",
       "    </tr>\n",
       "    <tr>\n",
       "      <th>min</th>\n",
       "      <td>1.000000</td>\n",
       "    </tr>\n",
       "    <tr>\n",
       "      <th>25%</th>\n",
       "      <td>34.250000</td>\n",
       "    </tr>\n",
       "    <tr>\n",
       "      <th>50%</th>\n",
       "      <td>67.500000</td>\n",
       "    </tr>\n",
       "    <tr>\n",
       "      <th>75%</th>\n",
       "      <td>100.750000</td>\n",
       "    </tr>\n",
       "    <tr>\n",
       "      <th>max</th>\n",
       "      <td>134.000000</td>\n",
       "    </tr>\n",
       "  </tbody>\n",
       "</table>\n",
       "</div>"
      ],
      "text/plain": [
       "         aisle_id\n",
       "count  134.000000\n",
       "mean    67.500000\n",
       "std     38.826537\n",
       "min      1.000000\n",
       "25%     34.250000\n",
       "50%     67.500000\n",
       "75%    100.750000\n",
       "max    134.000000"
      ]
     },
     "execution_count": 26,
     "metadata": {},
     "output_type": "execute_result"
    }
   ],
   "source": [
    "aisles.describe()"
   ]
  },
  {
   "cell_type": "code",
   "execution_count": 28,
   "id": "3b1f194f-e776-4cfa-926c-72c5e5cd9560",
   "metadata": {},
   "outputs": [
    {
     "data": {
      "text/html": [
       "<div>\n",
       "<style scoped>\n",
       "    .dataframe tbody tr th:only-of-type {\n",
       "        vertical-align: middle;\n",
       "    }\n",
       "\n",
       "    .dataframe tbody tr th {\n",
       "        vertical-align: top;\n",
       "    }\n",
       "\n",
       "    .dataframe thead th {\n",
       "        text-align: right;\n",
       "    }\n",
       "</style>\n",
       "<table border=\"1\" class=\"dataframe\">\n",
       "  <thead>\n",
       "    <tr style=\"text-align: right;\">\n",
       "      <th></th>\n",
       "      <th>aisle</th>\n",
       "    </tr>\n",
       "  </thead>\n",
       "  <tbody>\n",
       "    <tr>\n",
       "      <th>count</th>\n",
       "      <td>134</td>\n",
       "    </tr>\n",
       "    <tr>\n",
       "      <th>unique</th>\n",
       "      <td>134</td>\n",
       "    </tr>\n",
       "    <tr>\n",
       "      <th>top</th>\n",
       "      <td>prepared soups salads</td>\n",
       "    </tr>\n",
       "    <tr>\n",
       "      <th>freq</th>\n",
       "      <td>1</td>\n",
       "    </tr>\n",
       "  </tbody>\n",
       "</table>\n",
       "</div>"
      ],
      "text/plain": [
       "                        aisle\n",
       "count                     134\n",
       "unique                    134\n",
       "top     prepared soups salads\n",
       "freq                        1"
      ]
     },
     "execution_count": 28,
     "metadata": {},
     "output_type": "execute_result"
    }
   ],
   "source": [
    "aisles.describe(include=[object])"
   ]
  },
  {
   "cell_type": "markdown",
   "id": "3e266677-c2b7-4249-8659-1209dc2ed3b5",
   "metadata": {},
   "source": [
    "### Departments"
   ]
  },
  {
   "cell_type": "code",
   "execution_count": 31,
   "id": "cbbd85da-142b-41b4-844c-92931fddc9ac",
   "metadata": {},
   "outputs": [
    {
     "data": {
      "text/html": [
       "<div>\n",
       "<style scoped>\n",
       "    .dataframe tbody tr th:only-of-type {\n",
       "        vertical-align: middle;\n",
       "    }\n",
       "\n",
       "    .dataframe tbody tr th {\n",
       "        vertical-align: top;\n",
       "    }\n",
       "\n",
       "    .dataframe thead th {\n",
       "        text-align: right;\n",
       "    }\n",
       "</style>\n",
       "<table border=\"1\" class=\"dataframe\">\n",
       "  <thead>\n",
       "    <tr style=\"text-align: right;\">\n",
       "      <th></th>\n",
       "      <th>department_id</th>\n",
       "      <th>department</th>\n",
       "    </tr>\n",
       "  </thead>\n",
       "  <tbody>\n",
       "    <tr>\n",
       "      <th>0</th>\n",
       "      <td>1</td>\n",
       "      <td>frozen</td>\n",
       "    </tr>\n",
       "    <tr>\n",
       "      <th>1</th>\n",
       "      <td>2</td>\n",
       "      <td>other</td>\n",
       "    </tr>\n",
       "    <tr>\n",
       "      <th>2</th>\n",
       "      <td>3</td>\n",
       "      <td>bakery</td>\n",
       "    </tr>\n",
       "    <tr>\n",
       "      <th>3</th>\n",
       "      <td>4</td>\n",
       "      <td>produce</td>\n",
       "    </tr>\n",
       "    <tr>\n",
       "      <th>4</th>\n",
       "      <td>5</td>\n",
       "      <td>alcohol</td>\n",
       "    </tr>\n",
       "  </tbody>\n",
       "</table>\n",
       "</div>"
      ],
      "text/plain": [
       "   department_id department\n",
       "0              1     frozen\n",
       "1              2      other\n",
       "2              3     bakery\n",
       "3              4    produce\n",
       "4              5    alcohol"
      ]
     },
     "execution_count": 31,
     "metadata": {},
     "output_type": "execute_result"
    }
   ],
   "source": [
    "departments.head()"
   ]
  },
  {
   "cell_type": "code",
   "execution_count": 33,
   "id": "bfab8858-ac6c-4480-805c-c444a63dc422",
   "metadata": {},
   "outputs": [
    {
     "name": "stdout",
     "output_type": "stream",
     "text": [
      "<class 'pandas.core.frame.DataFrame'>\n",
      "RangeIndex: 21 entries, 0 to 20\n",
      "Data columns (total 2 columns):\n",
      " #   Column         Non-Null Count  Dtype \n",
      "---  ------         --------------  ----- \n",
      " 0   department_id  21 non-null     int64 \n",
      " 1   department     21 non-null     object\n",
      "dtypes: int64(1), object(1)\n",
      "memory usage: 468.0+ bytes\n"
     ]
    }
   ],
   "source": [
    "departments.info()"
   ]
  },
  {
   "cell_type": "code",
   "execution_count": 35,
   "id": "9e9c9baf-b47a-446c-8fe6-c067a443fda4",
   "metadata": {},
   "outputs": [
    {
     "data": {
      "text/plain": [
       "department_id    0\n",
       "department       0\n",
       "dtype: int64"
      ]
     },
     "execution_count": 35,
     "metadata": {},
     "output_type": "execute_result"
    }
   ],
   "source": [
    "departments.isnull().sum()"
   ]
  },
  {
   "cell_type": "code",
   "execution_count": 37,
   "id": "f1c532cd-ae96-4433-9c5b-a6fa4cf6d839",
   "metadata": {},
   "outputs": [
    {
     "data": {
      "text/plain": [
       "0"
      ]
     },
     "execution_count": 37,
     "metadata": {},
     "output_type": "execute_result"
    }
   ],
   "source": [
    "departments.duplicated().sum()"
   ]
  },
  {
   "cell_type": "code",
   "execution_count": 39,
   "id": "638a4b44-b144-4aab-98c2-1928d9f3e73f",
   "metadata": {},
   "outputs": [
    {
     "data": {
      "text/plain": [
       "department_id    21\n",
       "department       21\n",
       "dtype: int64"
      ]
     },
     "execution_count": 39,
     "metadata": {},
     "output_type": "execute_result"
    }
   ],
   "source": [
    "departments.nunique()"
   ]
  },
  {
   "cell_type": "code",
   "execution_count": 41,
   "id": "047d3ba5-4395-4495-8406-0cbaba54dfb1",
   "metadata": {},
   "outputs": [
    {
     "data": {
      "text/html": [
       "<div>\n",
       "<style scoped>\n",
       "    .dataframe tbody tr th:only-of-type {\n",
       "        vertical-align: middle;\n",
       "    }\n",
       "\n",
       "    .dataframe tbody tr th {\n",
       "        vertical-align: top;\n",
       "    }\n",
       "\n",
       "    .dataframe thead th {\n",
       "        text-align: right;\n",
       "    }\n",
       "</style>\n",
       "<table border=\"1\" class=\"dataframe\">\n",
       "  <thead>\n",
       "    <tr style=\"text-align: right;\">\n",
       "      <th></th>\n",
       "      <th>department_id</th>\n",
       "    </tr>\n",
       "  </thead>\n",
       "  <tbody>\n",
       "    <tr>\n",
       "      <th>count</th>\n",
       "      <td>21.000000</td>\n",
       "    </tr>\n",
       "    <tr>\n",
       "      <th>mean</th>\n",
       "      <td>11.000000</td>\n",
       "    </tr>\n",
       "    <tr>\n",
       "      <th>std</th>\n",
       "      <td>6.204837</td>\n",
       "    </tr>\n",
       "    <tr>\n",
       "      <th>min</th>\n",
       "      <td>1.000000</td>\n",
       "    </tr>\n",
       "    <tr>\n",
       "      <th>25%</th>\n",
       "      <td>6.000000</td>\n",
       "    </tr>\n",
       "    <tr>\n",
       "      <th>50%</th>\n",
       "      <td>11.000000</td>\n",
       "    </tr>\n",
       "    <tr>\n",
       "      <th>75%</th>\n",
       "      <td>16.000000</td>\n",
       "    </tr>\n",
       "    <tr>\n",
       "      <th>max</th>\n",
       "      <td>21.000000</td>\n",
       "    </tr>\n",
       "  </tbody>\n",
       "</table>\n",
       "</div>"
      ],
      "text/plain": [
       "       department_id\n",
       "count      21.000000\n",
       "mean       11.000000\n",
       "std         6.204837\n",
       "min         1.000000\n",
       "25%         6.000000\n",
       "50%        11.000000\n",
       "75%        16.000000\n",
       "max        21.000000"
      ]
     },
     "execution_count": 41,
     "metadata": {},
     "output_type": "execute_result"
    }
   ],
   "source": [
    "departments.describe()"
   ]
  },
  {
   "cell_type": "code",
   "execution_count": 43,
   "id": "9b84e41e-5aad-442b-8184-5c2dd1971fea",
   "metadata": {},
   "outputs": [
    {
     "data": {
      "text/html": [
       "<div>\n",
       "<style scoped>\n",
       "    .dataframe tbody tr th:only-of-type {\n",
       "        vertical-align: middle;\n",
       "    }\n",
       "\n",
       "    .dataframe tbody tr th {\n",
       "        vertical-align: top;\n",
       "    }\n",
       "\n",
       "    .dataframe thead th {\n",
       "        text-align: right;\n",
       "    }\n",
       "</style>\n",
       "<table border=\"1\" class=\"dataframe\">\n",
       "  <thead>\n",
       "    <tr style=\"text-align: right;\">\n",
       "      <th></th>\n",
       "      <th>department</th>\n",
       "    </tr>\n",
       "  </thead>\n",
       "  <tbody>\n",
       "    <tr>\n",
       "      <th>count</th>\n",
       "      <td>21</td>\n",
       "    </tr>\n",
       "    <tr>\n",
       "      <th>unique</th>\n",
       "      <td>21</td>\n",
       "    </tr>\n",
       "    <tr>\n",
       "      <th>top</th>\n",
       "      <td>frozen</td>\n",
       "    </tr>\n",
       "    <tr>\n",
       "      <th>freq</th>\n",
       "      <td>1</td>\n",
       "    </tr>\n",
       "  </tbody>\n",
       "</table>\n",
       "</div>"
      ],
      "text/plain": [
       "       department\n",
       "count          21\n",
       "unique         21\n",
       "top        frozen\n",
       "freq            1"
      ]
     },
     "execution_count": 43,
     "metadata": {},
     "output_type": "execute_result"
    }
   ],
   "source": [
    "departments.describe(include=[object])"
   ]
  },
  {
   "cell_type": "markdown",
   "id": "cae53509-ff33-4cd6-80e5-9ec69d33f07e",
   "metadata": {},
   "source": [
    "### Orders"
   ]
  },
  {
   "cell_type": "code",
   "execution_count": 46,
   "id": "0eeb75b7-4ae2-4d4c-93db-427cfde9b4a5",
   "metadata": {},
   "outputs": [
    {
     "data": {
      "text/html": [
       "<div>\n",
       "<style scoped>\n",
       "    .dataframe tbody tr th:only-of-type {\n",
       "        vertical-align: middle;\n",
       "    }\n",
       "\n",
       "    .dataframe tbody tr th {\n",
       "        vertical-align: top;\n",
       "    }\n",
       "\n",
       "    .dataframe thead th {\n",
       "        text-align: right;\n",
       "    }\n",
       "</style>\n",
       "<table border=\"1\" class=\"dataframe\">\n",
       "  <thead>\n",
       "    <tr style=\"text-align: right;\">\n",
       "      <th></th>\n",
       "      <th>order_id</th>\n",
       "      <th>user_id</th>\n",
       "      <th>eval_set</th>\n",
       "      <th>order_number</th>\n",
       "      <th>order_dow</th>\n",
       "      <th>order_hour_of_day</th>\n",
       "      <th>days_since_prior_order</th>\n",
       "    </tr>\n",
       "  </thead>\n",
       "  <tbody>\n",
       "    <tr>\n",
       "      <th>0</th>\n",
       "      <td>2539329</td>\n",
       "      <td>1</td>\n",
       "      <td>prior</td>\n",
       "      <td>1</td>\n",
       "      <td>2</td>\n",
       "      <td>8</td>\n",
       "      <td>NaN</td>\n",
       "    </tr>\n",
       "    <tr>\n",
       "      <th>1</th>\n",
       "      <td>2398795</td>\n",
       "      <td>1</td>\n",
       "      <td>prior</td>\n",
       "      <td>2</td>\n",
       "      <td>3</td>\n",
       "      <td>7</td>\n",
       "      <td>15.0</td>\n",
       "    </tr>\n",
       "    <tr>\n",
       "      <th>2</th>\n",
       "      <td>473747</td>\n",
       "      <td>1</td>\n",
       "      <td>prior</td>\n",
       "      <td>3</td>\n",
       "      <td>3</td>\n",
       "      <td>12</td>\n",
       "      <td>21.0</td>\n",
       "    </tr>\n",
       "    <tr>\n",
       "      <th>3</th>\n",
       "      <td>2254736</td>\n",
       "      <td>1</td>\n",
       "      <td>prior</td>\n",
       "      <td>4</td>\n",
       "      <td>4</td>\n",
       "      <td>7</td>\n",
       "      <td>29.0</td>\n",
       "    </tr>\n",
       "    <tr>\n",
       "      <th>4</th>\n",
       "      <td>431534</td>\n",
       "      <td>1</td>\n",
       "      <td>prior</td>\n",
       "      <td>5</td>\n",
       "      <td>4</td>\n",
       "      <td>15</td>\n",
       "      <td>28.0</td>\n",
       "    </tr>\n",
       "    <tr>\n",
       "      <th>5</th>\n",
       "      <td>3367565</td>\n",
       "      <td>1</td>\n",
       "      <td>prior</td>\n",
       "      <td>6</td>\n",
       "      <td>2</td>\n",
       "      <td>7</td>\n",
       "      <td>19.0</td>\n",
       "    </tr>\n",
       "    <tr>\n",
       "      <th>6</th>\n",
       "      <td>550135</td>\n",
       "      <td>1</td>\n",
       "      <td>prior</td>\n",
       "      <td>7</td>\n",
       "      <td>1</td>\n",
       "      <td>9</td>\n",
       "      <td>20.0</td>\n",
       "    </tr>\n",
       "    <tr>\n",
       "      <th>7</th>\n",
       "      <td>3108588</td>\n",
       "      <td>1</td>\n",
       "      <td>prior</td>\n",
       "      <td>8</td>\n",
       "      <td>1</td>\n",
       "      <td>14</td>\n",
       "      <td>14.0</td>\n",
       "    </tr>\n",
       "    <tr>\n",
       "      <th>8</th>\n",
       "      <td>2295261</td>\n",
       "      <td>1</td>\n",
       "      <td>prior</td>\n",
       "      <td>9</td>\n",
       "      <td>1</td>\n",
       "      <td>16</td>\n",
       "      <td>0.0</td>\n",
       "    </tr>\n",
       "    <tr>\n",
       "      <th>9</th>\n",
       "      <td>2550362</td>\n",
       "      <td>1</td>\n",
       "      <td>prior</td>\n",
       "      <td>10</td>\n",
       "      <td>4</td>\n",
       "      <td>8</td>\n",
       "      <td>30.0</td>\n",
       "    </tr>\n",
       "    <tr>\n",
       "      <th>10</th>\n",
       "      <td>1187899</td>\n",
       "      <td>1</td>\n",
       "      <td>train</td>\n",
       "      <td>11</td>\n",
       "      <td>4</td>\n",
       "      <td>8</td>\n",
       "      <td>14.0</td>\n",
       "    </tr>\n",
       "    <tr>\n",
       "      <th>11</th>\n",
       "      <td>2168274</td>\n",
       "      <td>2</td>\n",
       "      <td>prior</td>\n",
       "      <td>1</td>\n",
       "      <td>2</td>\n",
       "      <td>11</td>\n",
       "      <td>NaN</td>\n",
       "    </tr>\n",
       "  </tbody>\n",
       "</table>\n",
       "</div>"
      ],
      "text/plain": [
       "    order_id  user_id eval_set  order_number  order_dow  order_hour_of_day  \\\n",
       "0    2539329        1    prior             1          2                  8   \n",
       "1    2398795        1    prior             2          3                  7   \n",
       "2     473747        1    prior             3          3                 12   \n",
       "3    2254736        1    prior             4          4                  7   \n",
       "4     431534        1    prior             5          4                 15   \n",
       "5    3367565        1    prior             6          2                  7   \n",
       "6     550135        1    prior             7          1                  9   \n",
       "7    3108588        1    prior             8          1                 14   \n",
       "8    2295261        1    prior             9          1                 16   \n",
       "9    2550362        1    prior            10          4                  8   \n",
       "10   1187899        1    train            11          4                  8   \n",
       "11   2168274        2    prior             1          2                 11   \n",
       "\n",
       "    days_since_prior_order  \n",
       "0                      NaN  \n",
       "1                     15.0  \n",
       "2                     21.0  \n",
       "3                     29.0  \n",
       "4                     28.0  \n",
       "5                     19.0  \n",
       "6                     20.0  \n",
       "7                     14.0  \n",
       "8                      0.0  \n",
       "9                     30.0  \n",
       "10                    14.0  \n",
       "11                     NaN  "
      ]
     },
     "execution_count": 46,
     "metadata": {},
     "output_type": "execute_result"
    }
   ],
   "source": [
    "orders.head(12)"
   ]
  },
  {
   "cell_type": "code",
   "execution_count": 48,
   "id": "5ab0aea5-160f-4477-ab00-a7bae384e991",
   "metadata": {},
   "outputs": [
    {
     "name": "stdout",
     "output_type": "stream",
     "text": [
      "<class 'pandas.core.frame.DataFrame'>\n",
      "RangeIndex: 3421083 entries, 0 to 3421082\n",
      "Data columns (total 7 columns):\n",
      " #   Column                  Dtype  \n",
      "---  ------                  -----  \n",
      " 0   order_id                int64  \n",
      " 1   user_id                 int64  \n",
      " 2   eval_set                object \n",
      " 3   order_number            int64  \n",
      " 4   order_dow               int64  \n",
      " 5   order_hour_of_day       int64  \n",
      " 6   days_since_prior_order  float64\n",
      "dtypes: float64(1), int64(5), object(1)\n",
      "memory usage: 182.7+ MB\n"
     ]
    }
   ],
   "source": [
    "orders.info()"
   ]
  },
  {
   "cell_type": "code",
   "execution_count": 50,
   "id": "1c68f6b4-eaa1-4a16-8a03-22d1b76138f8",
   "metadata": {},
   "outputs": [
    {
     "data": {
      "text/plain": [
       "order_id                       0\n",
       "user_id                        0\n",
       "eval_set                       0\n",
       "order_number                   0\n",
       "order_dow                      0\n",
       "order_hour_of_day              0\n",
       "days_since_prior_order    206209\n",
       "dtype: int64"
      ]
     },
     "execution_count": 50,
     "metadata": {},
     "output_type": "execute_result"
    }
   ],
   "source": [
    "orders.isnull().sum()"
   ]
  },
  {
   "cell_type": "code",
   "execution_count": 52,
   "id": "0085fb35-47ff-47a6-86a5-a16b059d9884",
   "metadata": {},
   "outputs": [
    {
     "data": {
      "text/plain": [
       "order_id                  0\n",
       "user_id                   0\n",
       "eval_set                  0\n",
       "order_number              0\n",
       "order_dow                 0\n",
       "order_hour_of_day         0\n",
       "days_since_prior_order    0\n",
       "dtype: int64"
      ]
     },
     "execution_count": 52,
     "metadata": {},
     "output_type": "execute_result"
    }
   ],
   "source": [
    "# days_since_prior_order is expected to have null when order_number is 1. Lets do this again ignoring order_number = 1\n",
    "orders.loc[orders['order_number'] != 1].isnull().sum()"
   ]
  },
  {
   "cell_type": "code",
   "execution_count": 54,
   "id": "1e2c0a81-cda1-472d-ad17-b1304a2b0484",
   "metadata": {},
   "outputs": [
    {
     "data": {
      "text/plain": [
       "0"
      ]
     },
     "execution_count": 54,
     "metadata": {},
     "output_type": "execute_result"
    }
   ],
   "source": [
    "orders.duplicated().sum()"
   ]
  },
  {
   "cell_type": "code",
   "execution_count": 56,
   "id": "a2fc2ebf-9d5d-468f-a75c-d4e821640b23",
   "metadata": {},
   "outputs": [
    {
     "data": {
      "text/plain": [
       "order_id                  3421083\n",
       "user_id                    206209\n",
       "eval_set                        3\n",
       "order_number                  100\n",
       "order_dow                       7\n",
       "order_hour_of_day              24\n",
       "days_since_prior_order         31\n",
       "dtype: int64"
      ]
     },
     "execution_count": 56,
     "metadata": {},
     "output_type": "execute_result"
    }
   ],
   "source": [
    "orders.nunique()"
   ]
  },
  {
   "cell_type": "code",
   "execution_count": 58,
   "id": "b008d56f-a85f-4aaf-b8c1-4277686f22e9",
   "metadata": {},
   "outputs": [
    {
     "data": {
      "text/html": [
       "<div>\n",
       "<style scoped>\n",
       "    .dataframe tbody tr th:only-of-type {\n",
       "        vertical-align: middle;\n",
       "    }\n",
       "\n",
       "    .dataframe tbody tr th {\n",
       "        vertical-align: top;\n",
       "    }\n",
       "\n",
       "    .dataframe thead th {\n",
       "        text-align: right;\n",
       "    }\n",
       "</style>\n",
       "<table border=\"1\" class=\"dataframe\">\n",
       "  <thead>\n",
       "    <tr style=\"text-align: right;\">\n",
       "      <th></th>\n",
       "      <th>order_id</th>\n",
       "      <th>user_id</th>\n",
       "      <th>order_number</th>\n",
       "      <th>order_dow</th>\n",
       "      <th>order_hour_of_day</th>\n",
       "      <th>days_since_prior_order</th>\n",
       "    </tr>\n",
       "  </thead>\n",
       "  <tbody>\n",
       "    <tr>\n",
       "      <th>count</th>\n",
       "      <td>3.421083e+06</td>\n",
       "      <td>3.421083e+06</td>\n",
       "      <td>3.421083e+06</td>\n",
       "      <td>3.421083e+06</td>\n",
       "      <td>3.421083e+06</td>\n",
       "      <td>3.214874e+06</td>\n",
       "    </tr>\n",
       "    <tr>\n",
       "      <th>mean</th>\n",
       "      <td>1.710542e+06</td>\n",
       "      <td>1.029782e+05</td>\n",
       "      <td>1.715486e+01</td>\n",
       "      <td>2.776219e+00</td>\n",
       "      <td>1.345202e+01</td>\n",
       "      <td>1.111484e+01</td>\n",
       "    </tr>\n",
       "    <tr>\n",
       "      <th>std</th>\n",
       "      <td>9.875817e+05</td>\n",
       "      <td>5.953372e+04</td>\n",
       "      <td>1.773316e+01</td>\n",
       "      <td>2.046829e+00</td>\n",
       "      <td>4.226088e+00</td>\n",
       "      <td>9.206737e+00</td>\n",
       "    </tr>\n",
       "    <tr>\n",
       "      <th>min</th>\n",
       "      <td>1.000000e+00</td>\n",
       "      <td>1.000000e+00</td>\n",
       "      <td>1.000000e+00</td>\n",
       "      <td>0.000000e+00</td>\n",
       "      <td>0.000000e+00</td>\n",
       "      <td>0.000000e+00</td>\n",
       "    </tr>\n",
       "    <tr>\n",
       "      <th>25%</th>\n",
       "      <td>8.552715e+05</td>\n",
       "      <td>5.139400e+04</td>\n",
       "      <td>5.000000e+00</td>\n",
       "      <td>1.000000e+00</td>\n",
       "      <td>1.000000e+01</td>\n",
       "      <td>4.000000e+00</td>\n",
       "    </tr>\n",
       "    <tr>\n",
       "      <th>50%</th>\n",
       "      <td>1.710542e+06</td>\n",
       "      <td>1.026890e+05</td>\n",
       "      <td>1.100000e+01</td>\n",
       "      <td>3.000000e+00</td>\n",
       "      <td>1.300000e+01</td>\n",
       "      <td>7.000000e+00</td>\n",
       "    </tr>\n",
       "    <tr>\n",
       "      <th>75%</th>\n",
       "      <td>2.565812e+06</td>\n",
       "      <td>1.543850e+05</td>\n",
       "      <td>2.300000e+01</td>\n",
       "      <td>5.000000e+00</td>\n",
       "      <td>1.600000e+01</td>\n",
       "      <td>1.500000e+01</td>\n",
       "    </tr>\n",
       "    <tr>\n",
       "      <th>max</th>\n",
       "      <td>3.421083e+06</td>\n",
       "      <td>2.062090e+05</td>\n",
       "      <td>1.000000e+02</td>\n",
       "      <td>6.000000e+00</td>\n",
       "      <td>2.300000e+01</td>\n",
       "      <td>3.000000e+01</td>\n",
       "    </tr>\n",
       "  </tbody>\n",
       "</table>\n",
       "</div>"
      ],
      "text/plain": [
       "           order_id       user_id  order_number     order_dow  \\\n",
       "count  3.421083e+06  3.421083e+06  3.421083e+06  3.421083e+06   \n",
       "mean   1.710542e+06  1.029782e+05  1.715486e+01  2.776219e+00   \n",
       "std    9.875817e+05  5.953372e+04  1.773316e+01  2.046829e+00   \n",
       "min    1.000000e+00  1.000000e+00  1.000000e+00  0.000000e+00   \n",
       "25%    8.552715e+05  5.139400e+04  5.000000e+00  1.000000e+00   \n",
       "50%    1.710542e+06  1.026890e+05  1.100000e+01  3.000000e+00   \n",
       "75%    2.565812e+06  1.543850e+05  2.300000e+01  5.000000e+00   \n",
       "max    3.421083e+06  2.062090e+05  1.000000e+02  6.000000e+00   \n",
       "\n",
       "       order_hour_of_day  days_since_prior_order  \n",
       "count       3.421083e+06            3.214874e+06  \n",
       "mean        1.345202e+01            1.111484e+01  \n",
       "std         4.226088e+00            9.206737e+00  \n",
       "min         0.000000e+00            0.000000e+00  \n",
       "25%         1.000000e+01            4.000000e+00  \n",
       "50%         1.300000e+01            7.000000e+00  \n",
       "75%         1.600000e+01            1.500000e+01  \n",
       "max         2.300000e+01            3.000000e+01  "
      ]
     },
     "execution_count": 58,
     "metadata": {},
     "output_type": "execute_result"
    }
   ],
   "source": [
    "orders.describe()"
   ]
  },
  {
   "cell_type": "code",
   "execution_count": 60,
   "id": "9ecd2ffc-6cdf-43fc-b6ff-546d5d52a8f0",
   "metadata": {},
   "outputs": [
    {
     "data": {
      "text/html": [
       "<div>\n",
       "<style scoped>\n",
       "    .dataframe tbody tr th:only-of-type {\n",
       "        vertical-align: middle;\n",
       "    }\n",
       "\n",
       "    .dataframe tbody tr th {\n",
       "        vertical-align: top;\n",
       "    }\n",
       "\n",
       "    .dataframe thead th {\n",
       "        text-align: right;\n",
       "    }\n",
       "</style>\n",
       "<table border=\"1\" class=\"dataframe\">\n",
       "  <thead>\n",
       "    <tr style=\"text-align: right;\">\n",
       "      <th></th>\n",
       "      <th>eval_set</th>\n",
       "    </tr>\n",
       "  </thead>\n",
       "  <tbody>\n",
       "    <tr>\n",
       "      <th>count</th>\n",
       "      <td>3421083</td>\n",
       "    </tr>\n",
       "    <tr>\n",
       "      <th>unique</th>\n",
       "      <td>3</td>\n",
       "    </tr>\n",
       "    <tr>\n",
       "      <th>top</th>\n",
       "      <td>prior</td>\n",
       "    </tr>\n",
       "    <tr>\n",
       "      <th>freq</th>\n",
       "      <td>3214874</td>\n",
       "    </tr>\n",
       "  </tbody>\n",
       "</table>\n",
       "</div>"
      ],
      "text/plain": [
       "       eval_set\n",
       "count   3421083\n",
       "unique        3\n",
       "top       prior\n",
       "freq    3214874"
      ]
     },
     "execution_count": 60,
     "metadata": {},
     "output_type": "execute_result"
    }
   ],
   "source": [
    "orders.describe(include=[object])"
   ]
  },
  {
   "cell_type": "markdown",
   "id": "0e8417ea-3b70-4172-9e49-9724116f9cee",
   "metadata": {},
   "source": [
    "### Products"
   ]
  },
  {
   "cell_type": "code",
   "execution_count": 63,
   "id": "d641e3cd-73f5-4042-a2af-5445a9913c2c",
   "metadata": {},
   "outputs": [
    {
     "data": {
      "text/html": [
       "<div>\n",
       "<style scoped>\n",
       "    .dataframe tbody tr th:only-of-type {\n",
       "        vertical-align: middle;\n",
       "    }\n",
       "\n",
       "    .dataframe tbody tr th {\n",
       "        vertical-align: top;\n",
       "    }\n",
       "\n",
       "    .dataframe thead th {\n",
       "        text-align: right;\n",
       "    }\n",
       "</style>\n",
       "<table border=\"1\" class=\"dataframe\">\n",
       "  <thead>\n",
       "    <tr style=\"text-align: right;\">\n",
       "      <th></th>\n",
       "      <th>product_id</th>\n",
       "      <th>product_name</th>\n",
       "      <th>aisle_id</th>\n",
       "      <th>department_id</th>\n",
       "    </tr>\n",
       "  </thead>\n",
       "  <tbody>\n",
       "    <tr>\n",
       "      <th>0</th>\n",
       "      <td>1</td>\n",
       "      <td>Chocolate Sandwich Cookies</td>\n",
       "      <td>61</td>\n",
       "      <td>19</td>\n",
       "    </tr>\n",
       "    <tr>\n",
       "      <th>1</th>\n",
       "      <td>2</td>\n",
       "      <td>All-Seasons Salt</td>\n",
       "      <td>104</td>\n",
       "      <td>13</td>\n",
       "    </tr>\n",
       "    <tr>\n",
       "      <th>2</th>\n",
       "      <td>3</td>\n",
       "      <td>Robust Golden Unsweetened Oolong Tea</td>\n",
       "      <td>94</td>\n",
       "      <td>7</td>\n",
       "    </tr>\n",
       "    <tr>\n",
       "      <th>3</th>\n",
       "      <td>4</td>\n",
       "      <td>Smart Ones Classic Favorites Mini Rigatoni Wit...</td>\n",
       "      <td>38</td>\n",
       "      <td>1</td>\n",
       "    </tr>\n",
       "    <tr>\n",
       "      <th>4</th>\n",
       "      <td>5</td>\n",
       "      <td>Green Chile Anytime Sauce</td>\n",
       "      <td>5</td>\n",
       "      <td>13</td>\n",
       "    </tr>\n",
       "  </tbody>\n",
       "</table>\n",
       "</div>"
      ],
      "text/plain": [
       "   product_id                                       product_name  aisle_id  \\\n",
       "0           1                         Chocolate Sandwich Cookies        61   \n",
       "1           2                                   All-Seasons Salt       104   \n",
       "2           3               Robust Golden Unsweetened Oolong Tea        94   \n",
       "3           4  Smart Ones Classic Favorites Mini Rigatoni Wit...        38   \n",
       "4           5                          Green Chile Anytime Sauce         5   \n",
       "\n",
       "   department_id  \n",
       "0             19  \n",
       "1             13  \n",
       "2              7  \n",
       "3              1  \n",
       "4             13  "
      ]
     },
     "execution_count": 63,
     "metadata": {},
     "output_type": "execute_result"
    }
   ],
   "source": [
    "products.head()"
   ]
  },
  {
   "cell_type": "code",
   "execution_count": 65,
   "id": "a58ccedb-24bf-48bc-87c1-5af047156a66",
   "metadata": {},
   "outputs": [
    {
     "name": "stdout",
     "output_type": "stream",
     "text": [
      "<class 'pandas.core.frame.DataFrame'>\n",
      "RangeIndex: 49688 entries, 0 to 49687\n",
      "Data columns (total 4 columns):\n",
      " #   Column         Non-Null Count  Dtype \n",
      "---  ------         --------------  ----- \n",
      " 0   product_id     49688 non-null  int64 \n",
      " 1   product_name   49688 non-null  object\n",
      " 2   aisle_id       49688 non-null  int64 \n",
      " 3   department_id  49688 non-null  int64 \n",
      "dtypes: int64(3), object(1)\n",
      "memory usage: 1.5+ MB\n"
     ]
    }
   ],
   "source": [
    "products.info()"
   ]
  },
  {
   "cell_type": "code",
   "execution_count": 67,
   "id": "956d10f9-ecbb-4f11-afa9-51f7332d4f78",
   "metadata": {},
   "outputs": [
    {
     "data": {
      "text/plain": [
       "product_id       0\n",
       "product_name     0\n",
       "aisle_id         0\n",
       "department_id    0\n",
       "dtype: int64"
      ]
     },
     "execution_count": 67,
     "metadata": {},
     "output_type": "execute_result"
    }
   ],
   "source": [
    "products.isnull().sum()"
   ]
  },
  {
   "cell_type": "code",
   "execution_count": 69,
   "id": "c1e2776a-3740-4b24-968a-fe81b4a12b6f",
   "metadata": {},
   "outputs": [
    {
     "data": {
      "text/plain": [
       "0"
      ]
     },
     "execution_count": 69,
     "metadata": {},
     "output_type": "execute_result"
    }
   ],
   "source": [
    "products.duplicated().sum()"
   ]
  },
  {
   "cell_type": "code",
   "execution_count": 71,
   "id": "6324348b-e785-410a-a52d-1b856e520bbe",
   "metadata": {},
   "outputs": [
    {
     "data": {
      "text/plain": [
       "product_id       49688\n",
       "product_name     49688\n",
       "aisle_id           134\n",
       "department_id       21\n",
       "dtype: int64"
      ]
     },
     "execution_count": 71,
     "metadata": {},
     "output_type": "execute_result"
    }
   ],
   "source": [
    "products.nunique()"
   ]
  },
  {
   "cell_type": "code",
   "execution_count": 73,
   "id": "b1afd08d-cd98-44f5-a652-b3d9a32b74f9",
   "metadata": {},
   "outputs": [
    {
     "data": {
      "text/html": [
       "<div>\n",
       "<style scoped>\n",
       "    .dataframe tbody tr th:only-of-type {\n",
       "        vertical-align: middle;\n",
       "    }\n",
       "\n",
       "    .dataframe tbody tr th {\n",
       "        vertical-align: top;\n",
       "    }\n",
       "\n",
       "    .dataframe thead th {\n",
       "        text-align: right;\n",
       "    }\n",
       "</style>\n",
       "<table border=\"1\" class=\"dataframe\">\n",
       "  <thead>\n",
       "    <tr style=\"text-align: right;\">\n",
       "      <th></th>\n",
       "      <th>product_id</th>\n",
       "      <th>aisle_id</th>\n",
       "      <th>department_id</th>\n",
       "    </tr>\n",
       "  </thead>\n",
       "  <tbody>\n",
       "    <tr>\n",
       "      <th>count</th>\n",
       "      <td>49688.000000</td>\n",
       "      <td>49688.000000</td>\n",
       "      <td>49688.000000</td>\n",
       "    </tr>\n",
       "    <tr>\n",
       "      <th>mean</th>\n",
       "      <td>24844.500000</td>\n",
       "      <td>67.769582</td>\n",
       "      <td>11.728687</td>\n",
       "    </tr>\n",
       "    <tr>\n",
       "      <th>std</th>\n",
       "      <td>14343.834425</td>\n",
       "      <td>38.316162</td>\n",
       "      <td>5.850410</td>\n",
       "    </tr>\n",
       "    <tr>\n",
       "      <th>min</th>\n",
       "      <td>1.000000</td>\n",
       "      <td>1.000000</td>\n",
       "      <td>1.000000</td>\n",
       "    </tr>\n",
       "    <tr>\n",
       "      <th>25%</th>\n",
       "      <td>12422.750000</td>\n",
       "      <td>35.000000</td>\n",
       "      <td>7.000000</td>\n",
       "    </tr>\n",
       "    <tr>\n",
       "      <th>50%</th>\n",
       "      <td>24844.500000</td>\n",
       "      <td>69.000000</td>\n",
       "      <td>13.000000</td>\n",
       "    </tr>\n",
       "    <tr>\n",
       "      <th>75%</th>\n",
       "      <td>37266.250000</td>\n",
       "      <td>100.000000</td>\n",
       "      <td>17.000000</td>\n",
       "    </tr>\n",
       "    <tr>\n",
       "      <th>max</th>\n",
       "      <td>49688.000000</td>\n",
       "      <td>134.000000</td>\n",
       "      <td>21.000000</td>\n",
       "    </tr>\n",
       "  </tbody>\n",
       "</table>\n",
       "</div>"
      ],
      "text/plain": [
       "         product_id      aisle_id  department_id\n",
       "count  49688.000000  49688.000000   49688.000000\n",
       "mean   24844.500000     67.769582      11.728687\n",
       "std    14343.834425     38.316162       5.850410\n",
       "min        1.000000      1.000000       1.000000\n",
       "25%    12422.750000     35.000000       7.000000\n",
       "50%    24844.500000     69.000000      13.000000\n",
       "75%    37266.250000    100.000000      17.000000\n",
       "max    49688.000000    134.000000      21.000000"
      ]
     },
     "execution_count": 73,
     "metadata": {},
     "output_type": "execute_result"
    }
   ],
   "source": [
    "products.describe()"
   ]
  },
  {
   "cell_type": "code",
   "execution_count": 75,
   "id": "b971508e-3c38-4266-a929-046025e12e72",
   "metadata": {},
   "outputs": [
    {
     "data": {
      "text/html": [
       "<div>\n",
       "<style scoped>\n",
       "    .dataframe tbody tr th:only-of-type {\n",
       "        vertical-align: middle;\n",
       "    }\n",
       "\n",
       "    .dataframe tbody tr th {\n",
       "        vertical-align: top;\n",
       "    }\n",
       "\n",
       "    .dataframe thead th {\n",
       "        text-align: right;\n",
       "    }\n",
       "</style>\n",
       "<table border=\"1\" class=\"dataframe\">\n",
       "  <thead>\n",
       "    <tr style=\"text-align: right;\">\n",
       "      <th></th>\n",
       "      <th>product_name</th>\n",
       "    </tr>\n",
       "  </thead>\n",
       "  <tbody>\n",
       "    <tr>\n",
       "      <th>count</th>\n",
       "      <td>49688</td>\n",
       "    </tr>\n",
       "    <tr>\n",
       "      <th>unique</th>\n",
       "      <td>49688</td>\n",
       "    </tr>\n",
       "    <tr>\n",
       "      <th>top</th>\n",
       "      <td>Chocolate Sandwich Cookies</td>\n",
       "    </tr>\n",
       "    <tr>\n",
       "      <th>freq</th>\n",
       "      <td>1</td>\n",
       "    </tr>\n",
       "  </tbody>\n",
       "</table>\n",
       "</div>"
      ],
      "text/plain": [
       "                      product_name\n",
       "count                        49688\n",
       "unique                       49688\n",
       "top     Chocolate Sandwich Cookies\n",
       "freq                             1"
      ]
     },
     "execution_count": 75,
     "metadata": {},
     "output_type": "execute_result"
    }
   ],
   "source": [
    "products.describe(include=[object])"
   ]
  },
  {
   "cell_type": "markdown",
   "id": "b61aae6d-ec9c-4657-b66a-c5099fb3a9fd",
   "metadata": {},
   "source": [
    "### Orders Products prior to that users most recent order"
   ]
  },
  {
   "cell_type": "code",
   "execution_count": 78,
   "id": "abc076d1-b205-496b-b7f6-62db249a4d68",
   "metadata": {},
   "outputs": [
    {
     "data": {
      "text/html": [
       "<div>\n",
       "<style scoped>\n",
       "    .dataframe tbody tr th:only-of-type {\n",
       "        vertical-align: middle;\n",
       "    }\n",
       "\n",
       "    .dataframe tbody tr th {\n",
       "        vertical-align: top;\n",
       "    }\n",
       "\n",
       "    .dataframe thead th {\n",
       "        text-align: right;\n",
       "    }\n",
       "</style>\n",
       "<table border=\"1\" class=\"dataframe\">\n",
       "  <thead>\n",
       "    <tr style=\"text-align: right;\">\n",
       "      <th></th>\n",
       "      <th>order_id</th>\n",
       "      <th>product_id</th>\n",
       "      <th>add_to_cart_order</th>\n",
       "      <th>reordered</th>\n",
       "    </tr>\n",
       "  </thead>\n",
       "  <tbody>\n",
       "    <tr>\n",
       "      <th>0</th>\n",
       "      <td>2</td>\n",
       "      <td>33120</td>\n",
       "      <td>1</td>\n",
       "      <td>1</td>\n",
       "    </tr>\n",
       "    <tr>\n",
       "      <th>1</th>\n",
       "      <td>2</td>\n",
       "      <td>28985</td>\n",
       "      <td>2</td>\n",
       "      <td>1</td>\n",
       "    </tr>\n",
       "    <tr>\n",
       "      <th>2</th>\n",
       "      <td>2</td>\n",
       "      <td>9327</td>\n",
       "      <td>3</td>\n",
       "      <td>0</td>\n",
       "    </tr>\n",
       "    <tr>\n",
       "      <th>3</th>\n",
       "      <td>2</td>\n",
       "      <td>45918</td>\n",
       "      <td>4</td>\n",
       "      <td>1</td>\n",
       "    </tr>\n",
       "    <tr>\n",
       "      <th>4</th>\n",
       "      <td>2</td>\n",
       "      <td>30035</td>\n",
       "      <td>5</td>\n",
       "      <td>0</td>\n",
       "    </tr>\n",
       "    <tr>\n",
       "      <th>5</th>\n",
       "      <td>2</td>\n",
       "      <td>17794</td>\n",
       "      <td>6</td>\n",
       "      <td>1</td>\n",
       "    </tr>\n",
       "    <tr>\n",
       "      <th>6</th>\n",
       "      <td>2</td>\n",
       "      <td>40141</td>\n",
       "      <td>7</td>\n",
       "      <td>1</td>\n",
       "    </tr>\n",
       "    <tr>\n",
       "      <th>7</th>\n",
       "      <td>2</td>\n",
       "      <td>1819</td>\n",
       "      <td>8</td>\n",
       "      <td>1</td>\n",
       "    </tr>\n",
       "    <tr>\n",
       "      <th>8</th>\n",
       "      <td>2</td>\n",
       "      <td>43668</td>\n",
       "      <td>9</td>\n",
       "      <td>0</td>\n",
       "    </tr>\n",
       "    <tr>\n",
       "      <th>9</th>\n",
       "      <td>3</td>\n",
       "      <td>33754</td>\n",
       "      <td>1</td>\n",
       "      <td>1</td>\n",
       "    </tr>\n",
       "    <tr>\n",
       "      <th>10</th>\n",
       "      <td>3</td>\n",
       "      <td>24838</td>\n",
       "      <td>2</td>\n",
       "      <td>1</td>\n",
       "    </tr>\n",
       "    <tr>\n",
       "      <th>11</th>\n",
       "      <td>3</td>\n",
       "      <td>17704</td>\n",
       "      <td>3</td>\n",
       "      <td>1</td>\n",
       "    </tr>\n",
       "    <tr>\n",
       "      <th>12</th>\n",
       "      <td>3</td>\n",
       "      <td>21903</td>\n",
       "      <td>4</td>\n",
       "      <td>1</td>\n",
       "    </tr>\n",
       "    <tr>\n",
       "      <th>13</th>\n",
       "      <td>3</td>\n",
       "      <td>17668</td>\n",
       "      <td>5</td>\n",
       "      <td>1</td>\n",
       "    </tr>\n",
       "    <tr>\n",
       "      <th>14</th>\n",
       "      <td>3</td>\n",
       "      <td>46667</td>\n",
       "      <td>6</td>\n",
       "      <td>1</td>\n",
       "    </tr>\n",
       "    <tr>\n",
       "      <th>15</th>\n",
       "      <td>3</td>\n",
       "      <td>17461</td>\n",
       "      <td>7</td>\n",
       "      <td>1</td>\n",
       "    </tr>\n",
       "    <tr>\n",
       "      <th>16</th>\n",
       "      <td>3</td>\n",
       "      <td>32665</td>\n",
       "      <td>8</td>\n",
       "      <td>1</td>\n",
       "    </tr>\n",
       "    <tr>\n",
       "      <th>17</th>\n",
       "      <td>4</td>\n",
       "      <td>46842</td>\n",
       "      <td>1</td>\n",
       "      <td>0</td>\n",
       "    </tr>\n",
       "    <tr>\n",
       "      <th>18</th>\n",
       "      <td>4</td>\n",
       "      <td>26434</td>\n",
       "      <td>2</td>\n",
       "      <td>1</td>\n",
       "    </tr>\n",
       "    <tr>\n",
       "      <th>19</th>\n",
       "      <td>4</td>\n",
       "      <td>39758</td>\n",
       "      <td>3</td>\n",
       "      <td>1</td>\n",
       "    </tr>\n",
       "  </tbody>\n",
       "</table>\n",
       "</div>"
      ],
      "text/plain": [
       "    order_id  product_id  add_to_cart_order  reordered\n",
       "0          2       33120                  1          1\n",
       "1          2       28985                  2          1\n",
       "2          2        9327                  3          0\n",
       "3          2       45918                  4          1\n",
       "4          2       30035                  5          0\n",
       "5          2       17794                  6          1\n",
       "6          2       40141                  7          1\n",
       "7          2        1819                  8          1\n",
       "8          2       43668                  9          0\n",
       "9          3       33754                  1          1\n",
       "10         3       24838                  2          1\n",
       "11         3       17704                  3          1\n",
       "12         3       21903                  4          1\n",
       "13         3       17668                  5          1\n",
       "14         3       46667                  6          1\n",
       "15         3       17461                  7          1\n",
       "16         3       32665                  8          1\n",
       "17         4       46842                  1          0\n",
       "18         4       26434                  2          1\n",
       "19         4       39758                  3          1"
      ]
     },
     "execution_count": 78,
     "metadata": {},
     "output_type": "execute_result"
    }
   ],
   "source": [
    "orders_products_prior.head(20)"
   ]
  },
  {
   "cell_type": "code",
   "execution_count": 80,
   "id": "f7954fe3-e02a-49a3-900a-2fd77dea6b6a",
   "metadata": {},
   "outputs": [
    {
     "name": "stdout",
     "output_type": "stream",
     "text": [
      "<class 'pandas.core.frame.DataFrame'>\n",
      "RangeIndex: 32434489 entries, 0 to 32434488\n",
      "Data columns (total 4 columns):\n",
      " #   Column             Dtype\n",
      "---  ------             -----\n",
      " 0   order_id           int64\n",
      " 1   product_id         int64\n",
      " 2   add_to_cart_order  int64\n",
      " 3   reordered          int64\n",
      "dtypes: int64(4)\n",
      "memory usage: 989.8 MB\n"
     ]
    }
   ],
   "source": [
    "orders_products_prior.info()"
   ]
  },
  {
   "cell_type": "code",
   "execution_count": 82,
   "id": "ab5aa0f8-36a0-44d8-8129-6b0299b1f509",
   "metadata": {},
   "outputs": [
    {
     "data": {
      "text/plain": [
       "order_id             0\n",
       "product_id           0\n",
       "add_to_cart_order    0\n",
       "reordered            0\n",
       "dtype: int64"
      ]
     },
     "execution_count": 82,
     "metadata": {},
     "output_type": "execute_result"
    }
   ],
   "source": [
    "orders_products_prior.isnull().sum()"
   ]
  },
  {
   "cell_type": "code",
   "execution_count": 86,
   "id": "724232fc-4c79-4b79-a96d-cc8304f2a42d",
   "metadata": {},
   "outputs": [
    {
     "name": "stdout",
     "output_type": "stream",
     "text": [
      "CPU times: user 7.71 s, sys: 1.8 s, total: 9.51 s\n",
      "Wall time: 9.6 s\n"
     ]
    },
    {
     "data": {
      "text/plain": [
       "0"
      ]
     },
     "execution_count": 86,
     "metadata": {},
     "output_type": "execute_result"
    }
   ],
   "source": [
    "%%time\n",
    "orders_products_prior.duplicated().sum()"
   ]
  },
  {
   "cell_type": "code",
   "execution_count": 88,
   "id": "21dbd7c5-d15d-4ad0-b20d-27d2a4c2bb25",
   "metadata": {},
   "outputs": [
    {
     "data": {
      "text/plain": [
       "order_id             3214874\n",
       "product_id             49677\n",
       "add_to_cart_order        145\n",
       "reordered                  2\n",
       "dtype: int64"
      ]
     },
     "execution_count": 88,
     "metadata": {},
     "output_type": "execute_result"
    }
   ],
   "source": [
    "orders_products_prior.nunique()"
   ]
  },
  {
   "cell_type": "code",
   "execution_count": 90,
   "id": "fc4f8f68-cf7c-4517-af88-2dbafec35180",
   "metadata": {},
   "outputs": [
    {
     "data": {
      "text/html": [
       "<div>\n",
       "<style scoped>\n",
       "    .dataframe tbody tr th:only-of-type {\n",
       "        vertical-align: middle;\n",
       "    }\n",
       "\n",
       "    .dataframe tbody tr th {\n",
       "        vertical-align: top;\n",
       "    }\n",
       "\n",
       "    .dataframe thead th {\n",
       "        text-align: right;\n",
       "    }\n",
       "</style>\n",
       "<table border=\"1\" class=\"dataframe\">\n",
       "  <thead>\n",
       "    <tr style=\"text-align: right;\">\n",
       "      <th></th>\n",
       "      <th>order_id</th>\n",
       "      <th>product_id</th>\n",
       "      <th>add_to_cart_order</th>\n",
       "      <th>reordered</th>\n",
       "    </tr>\n",
       "  </thead>\n",
       "  <tbody>\n",
       "    <tr>\n",
       "      <th>count</th>\n",
       "      <td>3.243449e+07</td>\n",
       "      <td>3.243449e+07</td>\n",
       "      <td>3.243449e+07</td>\n",
       "      <td>3.243449e+07</td>\n",
       "    </tr>\n",
       "    <tr>\n",
       "      <th>mean</th>\n",
       "      <td>1.710749e+06</td>\n",
       "      <td>2.557634e+04</td>\n",
       "      <td>8.351076e+00</td>\n",
       "      <td>5.896975e-01</td>\n",
       "    </tr>\n",
       "    <tr>\n",
       "      <th>std</th>\n",
       "      <td>9.873007e+05</td>\n",
       "      <td>1.409669e+04</td>\n",
       "      <td>7.126671e+00</td>\n",
       "      <td>4.918886e-01</td>\n",
       "    </tr>\n",
       "    <tr>\n",
       "      <th>min</th>\n",
       "      <td>2.000000e+00</td>\n",
       "      <td>1.000000e+00</td>\n",
       "      <td>1.000000e+00</td>\n",
       "      <td>0.000000e+00</td>\n",
       "    </tr>\n",
       "    <tr>\n",
       "      <th>25%</th>\n",
       "      <td>8.559430e+05</td>\n",
       "      <td>1.353000e+04</td>\n",
       "      <td>3.000000e+00</td>\n",
       "      <td>0.000000e+00</td>\n",
       "    </tr>\n",
       "    <tr>\n",
       "      <th>50%</th>\n",
       "      <td>1.711048e+06</td>\n",
       "      <td>2.525600e+04</td>\n",
       "      <td>6.000000e+00</td>\n",
       "      <td>1.000000e+00</td>\n",
       "    </tr>\n",
       "    <tr>\n",
       "      <th>75%</th>\n",
       "      <td>2.565514e+06</td>\n",
       "      <td>3.793500e+04</td>\n",
       "      <td>1.100000e+01</td>\n",
       "      <td>1.000000e+00</td>\n",
       "    </tr>\n",
       "    <tr>\n",
       "      <th>max</th>\n",
       "      <td>3.421083e+06</td>\n",
       "      <td>4.968800e+04</td>\n",
       "      <td>1.450000e+02</td>\n",
       "      <td>1.000000e+00</td>\n",
       "    </tr>\n",
       "  </tbody>\n",
       "</table>\n",
       "</div>"
      ],
      "text/plain": [
       "           order_id    product_id  add_to_cart_order     reordered\n",
       "count  3.243449e+07  3.243449e+07       3.243449e+07  3.243449e+07\n",
       "mean   1.710749e+06  2.557634e+04       8.351076e+00  5.896975e-01\n",
       "std    9.873007e+05  1.409669e+04       7.126671e+00  4.918886e-01\n",
       "min    2.000000e+00  1.000000e+00       1.000000e+00  0.000000e+00\n",
       "25%    8.559430e+05  1.353000e+04       3.000000e+00  0.000000e+00\n",
       "50%    1.711048e+06  2.525600e+04       6.000000e+00  1.000000e+00\n",
       "75%    2.565514e+06  3.793500e+04       1.100000e+01  1.000000e+00\n",
       "max    3.421083e+06  4.968800e+04       1.450000e+02  1.000000e+00"
      ]
     },
     "execution_count": 90,
     "metadata": {},
     "output_type": "execute_result"
    }
   ],
   "source": [
    "orders_products_prior.describe()"
   ]
  },
  {
   "cell_type": "markdown",
   "id": "9023a848-e5d9-410d-8971-d6bb13261431",
   "metadata": {},
   "source": [
    "### Orders Products training data"
   ]
  },
  {
   "cell_type": "code",
   "execution_count": 98,
   "id": "f495526c-f97e-4f17-a497-27fd809d1ab2",
   "metadata": {},
   "outputs": [
    {
     "data": {
      "text/html": [
       "<div>\n",
       "<style scoped>\n",
       "    .dataframe tbody tr th:only-of-type {\n",
       "        vertical-align: middle;\n",
       "    }\n",
       "\n",
       "    .dataframe tbody tr th {\n",
       "        vertical-align: top;\n",
       "    }\n",
       "\n",
       "    .dataframe thead th {\n",
       "        text-align: right;\n",
       "    }\n",
       "</style>\n",
       "<table border=\"1\" class=\"dataframe\">\n",
       "  <thead>\n",
       "    <tr style=\"text-align: right;\">\n",
       "      <th></th>\n",
       "      <th>order_id</th>\n",
       "      <th>product_id</th>\n",
       "      <th>add_to_cart_order</th>\n",
       "      <th>reordered</th>\n",
       "    </tr>\n",
       "  </thead>\n",
       "  <tbody>\n",
       "    <tr>\n",
       "      <th>0</th>\n",
       "      <td>1</td>\n",
       "      <td>49302</td>\n",
       "      <td>1</td>\n",
       "      <td>1</td>\n",
       "    </tr>\n",
       "    <tr>\n",
       "      <th>1</th>\n",
       "      <td>1</td>\n",
       "      <td>11109</td>\n",
       "      <td>2</td>\n",
       "      <td>1</td>\n",
       "    </tr>\n",
       "    <tr>\n",
       "      <th>2</th>\n",
       "      <td>1</td>\n",
       "      <td>10246</td>\n",
       "      <td>3</td>\n",
       "      <td>0</td>\n",
       "    </tr>\n",
       "    <tr>\n",
       "      <th>3</th>\n",
       "      <td>1</td>\n",
       "      <td>49683</td>\n",
       "      <td>4</td>\n",
       "      <td>0</td>\n",
       "    </tr>\n",
       "    <tr>\n",
       "      <th>4</th>\n",
       "      <td>1</td>\n",
       "      <td>43633</td>\n",
       "      <td>5</td>\n",
       "      <td>1</td>\n",
       "    </tr>\n",
       "    <tr>\n",
       "      <th>5</th>\n",
       "      <td>1</td>\n",
       "      <td>13176</td>\n",
       "      <td>6</td>\n",
       "      <td>0</td>\n",
       "    </tr>\n",
       "    <tr>\n",
       "      <th>6</th>\n",
       "      <td>1</td>\n",
       "      <td>47209</td>\n",
       "      <td>7</td>\n",
       "      <td>0</td>\n",
       "    </tr>\n",
       "    <tr>\n",
       "      <th>7</th>\n",
       "      <td>1</td>\n",
       "      <td>22035</td>\n",
       "      <td>8</td>\n",
       "      <td>1</td>\n",
       "    </tr>\n",
       "    <tr>\n",
       "      <th>8</th>\n",
       "      <td>36</td>\n",
       "      <td>39612</td>\n",
       "      <td>1</td>\n",
       "      <td>0</td>\n",
       "    </tr>\n",
       "    <tr>\n",
       "      <th>9</th>\n",
       "      <td>36</td>\n",
       "      <td>19660</td>\n",
       "      <td>2</td>\n",
       "      <td>1</td>\n",
       "    </tr>\n",
       "    <tr>\n",
       "      <th>10</th>\n",
       "      <td>36</td>\n",
       "      <td>49235</td>\n",
       "      <td>3</td>\n",
       "      <td>0</td>\n",
       "    </tr>\n",
       "    <tr>\n",
       "      <th>11</th>\n",
       "      <td>36</td>\n",
       "      <td>43086</td>\n",
       "      <td>4</td>\n",
       "      <td>1</td>\n",
       "    </tr>\n",
       "    <tr>\n",
       "      <th>12</th>\n",
       "      <td>36</td>\n",
       "      <td>46620</td>\n",
       "      <td>5</td>\n",
       "      <td>1</td>\n",
       "    </tr>\n",
       "    <tr>\n",
       "      <th>13</th>\n",
       "      <td>36</td>\n",
       "      <td>34497</td>\n",
       "      <td>6</td>\n",
       "      <td>1</td>\n",
       "    </tr>\n",
       "    <tr>\n",
       "      <th>14</th>\n",
       "      <td>36</td>\n",
       "      <td>48679</td>\n",
       "      <td>7</td>\n",
       "      <td>1</td>\n",
       "    </tr>\n",
       "    <tr>\n",
       "      <th>15</th>\n",
       "      <td>36</td>\n",
       "      <td>46979</td>\n",
       "      <td>8</td>\n",
       "      <td>1</td>\n",
       "    </tr>\n",
       "    <tr>\n",
       "      <th>16</th>\n",
       "      <td>38</td>\n",
       "      <td>11913</td>\n",
       "      <td>1</td>\n",
       "      <td>0</td>\n",
       "    </tr>\n",
       "    <tr>\n",
       "      <th>17</th>\n",
       "      <td>38</td>\n",
       "      <td>18159</td>\n",
       "      <td>2</td>\n",
       "      <td>0</td>\n",
       "    </tr>\n",
       "    <tr>\n",
       "      <th>18</th>\n",
       "      <td>38</td>\n",
       "      <td>4461</td>\n",
       "      <td>3</td>\n",
       "      <td>0</td>\n",
       "    </tr>\n",
       "    <tr>\n",
       "      <th>19</th>\n",
       "      <td>38</td>\n",
       "      <td>21616</td>\n",
       "      <td>4</td>\n",
       "      <td>1</td>\n",
       "    </tr>\n",
       "  </tbody>\n",
       "</table>\n",
       "</div>"
      ],
      "text/plain": [
       "    order_id  product_id  add_to_cart_order  reordered\n",
       "0          1       49302                  1          1\n",
       "1          1       11109                  2          1\n",
       "2          1       10246                  3          0\n",
       "3          1       49683                  4          0\n",
       "4          1       43633                  5          1\n",
       "5          1       13176                  6          0\n",
       "6          1       47209                  7          0\n",
       "7          1       22035                  8          1\n",
       "8         36       39612                  1          0\n",
       "9         36       19660                  2          1\n",
       "10        36       49235                  3          0\n",
       "11        36       43086                  4          1\n",
       "12        36       46620                  5          1\n",
       "13        36       34497                  6          1\n",
       "14        36       48679                  7          1\n",
       "15        36       46979                  8          1\n",
       "16        38       11913                  1          0\n",
       "17        38       18159                  2          0\n",
       "18        38        4461                  3          0\n",
       "19        38       21616                  4          1"
      ]
     },
     "execution_count": 98,
     "metadata": {},
     "output_type": "execute_result"
    }
   ],
   "source": [
    "orders_products_train.head(20)"
   ]
  },
  {
   "cell_type": "code",
   "execution_count": 100,
   "id": "780050d7-4d77-45ee-849b-14b86b1487c7",
   "metadata": {},
   "outputs": [
    {
     "name": "stdout",
     "output_type": "stream",
     "text": [
      "<class 'pandas.core.frame.DataFrame'>\n",
      "RangeIndex: 1384617 entries, 0 to 1384616\n",
      "Data columns (total 4 columns):\n",
      " #   Column             Non-Null Count    Dtype\n",
      "---  ------             --------------    -----\n",
      " 0   order_id           1384617 non-null  int64\n",
      " 1   product_id         1384617 non-null  int64\n",
      " 2   add_to_cart_order  1384617 non-null  int64\n",
      " 3   reordered          1384617 non-null  int64\n",
      "dtypes: int64(4)\n",
      "memory usage: 42.3 MB\n"
     ]
    }
   ],
   "source": [
    "orders_products_train.info()"
   ]
  },
  {
   "cell_type": "code",
   "execution_count": 102,
   "id": "a589a577-e3e4-4b9d-953c-f0f27a6376d7",
   "metadata": {},
   "outputs": [
    {
     "data": {
      "text/plain": [
       "order_id             0\n",
       "product_id           0\n",
       "add_to_cart_order    0\n",
       "reordered            0\n",
       "dtype: int64"
      ]
     },
     "execution_count": 102,
     "metadata": {},
     "output_type": "execute_result"
    }
   ],
   "source": [
    "orders_products_train.isnull().sum()"
   ]
  },
  {
   "cell_type": "code",
   "execution_count": 104,
   "id": "1271d872-1766-4d33-9712-6484d44a4447",
   "metadata": {},
   "outputs": [
    {
     "data": {
      "text/plain": [
       "0"
      ]
     },
     "execution_count": 104,
     "metadata": {},
     "output_type": "execute_result"
    }
   ],
   "source": [
    "orders_products_train.duplicated().sum()"
   ]
  },
  {
   "cell_type": "code",
   "execution_count": 106,
   "id": "e05dc753-49ec-4579-953d-da8de44cbdf5",
   "metadata": {},
   "outputs": [
    {
     "data": {
      "text/plain": [
       "order_id             131209\n",
       "product_id            39123\n",
       "add_to_cart_order        80\n",
       "reordered                 2\n",
       "dtype: int64"
      ]
     },
     "execution_count": 106,
     "metadata": {},
     "output_type": "execute_result"
    }
   ],
   "source": [
    "orders_products_train.nunique()"
   ]
  },
  {
   "cell_type": "code",
   "execution_count": 108,
   "id": "c6801176-78c7-4e35-840f-2b906e5ed084",
   "metadata": {},
   "outputs": [
    {
     "data": {
      "text/html": [
       "<div>\n",
       "<style scoped>\n",
       "    .dataframe tbody tr th:only-of-type {\n",
       "        vertical-align: middle;\n",
       "    }\n",
       "\n",
       "    .dataframe tbody tr th {\n",
       "        vertical-align: top;\n",
       "    }\n",
       "\n",
       "    .dataframe thead th {\n",
       "        text-align: right;\n",
       "    }\n",
       "</style>\n",
       "<table border=\"1\" class=\"dataframe\">\n",
       "  <thead>\n",
       "    <tr style=\"text-align: right;\">\n",
       "      <th></th>\n",
       "      <th>order_id</th>\n",
       "      <th>product_id</th>\n",
       "      <th>add_to_cart_order</th>\n",
       "      <th>reordered</th>\n",
       "    </tr>\n",
       "  </thead>\n",
       "  <tbody>\n",
       "    <tr>\n",
       "      <th>count</th>\n",
       "      <td>1.384617e+06</td>\n",
       "      <td>1.384617e+06</td>\n",
       "      <td>1.384617e+06</td>\n",
       "      <td>1.384617e+06</td>\n",
       "    </tr>\n",
       "    <tr>\n",
       "      <th>mean</th>\n",
       "      <td>1.706298e+06</td>\n",
       "      <td>2.555624e+04</td>\n",
       "      <td>8.758044e+00</td>\n",
       "      <td>5.985944e-01</td>\n",
       "    </tr>\n",
       "    <tr>\n",
       "      <th>std</th>\n",
       "      <td>9.897326e+05</td>\n",
       "      <td>1.412127e+04</td>\n",
       "      <td>7.423936e+00</td>\n",
       "      <td>4.901829e-01</td>\n",
       "    </tr>\n",
       "    <tr>\n",
       "      <th>min</th>\n",
       "      <td>1.000000e+00</td>\n",
       "      <td>1.000000e+00</td>\n",
       "      <td>1.000000e+00</td>\n",
       "      <td>0.000000e+00</td>\n",
       "    </tr>\n",
       "    <tr>\n",
       "      <th>25%</th>\n",
       "      <td>8.433700e+05</td>\n",
       "      <td>1.338000e+04</td>\n",
       "      <td>3.000000e+00</td>\n",
       "      <td>0.000000e+00</td>\n",
       "    </tr>\n",
       "    <tr>\n",
       "      <th>50%</th>\n",
       "      <td>1.701880e+06</td>\n",
       "      <td>2.529800e+04</td>\n",
       "      <td>7.000000e+00</td>\n",
       "      <td>1.000000e+00</td>\n",
       "    </tr>\n",
       "    <tr>\n",
       "      <th>75%</th>\n",
       "      <td>2.568023e+06</td>\n",
       "      <td>3.794000e+04</td>\n",
       "      <td>1.200000e+01</td>\n",
       "      <td>1.000000e+00</td>\n",
       "    </tr>\n",
       "    <tr>\n",
       "      <th>max</th>\n",
       "      <td>3.421070e+06</td>\n",
       "      <td>4.968800e+04</td>\n",
       "      <td>8.000000e+01</td>\n",
       "      <td>1.000000e+00</td>\n",
       "    </tr>\n",
       "  </tbody>\n",
       "</table>\n",
       "</div>"
      ],
      "text/plain": [
       "           order_id    product_id  add_to_cart_order     reordered\n",
       "count  1.384617e+06  1.384617e+06       1.384617e+06  1.384617e+06\n",
       "mean   1.706298e+06  2.555624e+04       8.758044e+00  5.985944e-01\n",
       "std    9.897326e+05  1.412127e+04       7.423936e+00  4.901829e-01\n",
       "min    1.000000e+00  1.000000e+00       1.000000e+00  0.000000e+00\n",
       "25%    8.433700e+05  1.338000e+04       3.000000e+00  0.000000e+00\n",
       "50%    1.701880e+06  2.529800e+04       7.000000e+00  1.000000e+00\n",
       "75%    2.568023e+06  3.794000e+04       1.200000e+01  1.000000e+00\n",
       "max    3.421070e+06  4.968800e+04       8.000000e+01  1.000000e+00"
      ]
     },
     "execution_count": 108,
     "metadata": {},
     "output_type": "execute_result"
    }
   ],
   "source": [
    "orders_products_train.describe()"
   ]
  },
  {
   "cell_type": "markdown",
   "id": "4d2e958c-886c-4b20-b7f8-adab3fe99850",
   "metadata": {},
   "source": [
    "## Pre EDA"
   ]
  },
  {
   "cell_type": "markdown",
   "id": "66d4eb86-6966-4c80-b78c-79c17846a289",
   "metadata": {},
   "source": [
    "### combining orders_products_prior and orders_products_train as orders_products"
   ]
  },
  {
   "cell_type": "code",
   "execution_count": 116,
   "id": "e748f091-9576-4be4-b508-e944e8686ea6",
   "metadata": {},
   "outputs": [],
   "source": [
    "# combining train and prior orders_products\n",
    "orders_products = pd.concat(objs=[orders_products_train, orders_products_prior])"
   ]
  },
  {
   "cell_type": "code",
   "execution_count": 118,
   "id": "4633c720-e83d-478c-b9c9-98e2697389e2",
   "metadata": {},
   "outputs": [
    {
     "data": {
      "text/html": [
       "<div>\n",
       "<style scoped>\n",
       "    .dataframe tbody tr th:only-of-type {\n",
       "        vertical-align: middle;\n",
       "    }\n",
       "\n",
       "    .dataframe tbody tr th {\n",
       "        vertical-align: top;\n",
       "    }\n",
       "\n",
       "    .dataframe thead th {\n",
       "        text-align: right;\n",
       "    }\n",
       "</style>\n",
       "<table border=\"1\" class=\"dataframe\">\n",
       "  <thead>\n",
       "    <tr style=\"text-align: right;\">\n",
       "      <th></th>\n",
       "      <th>order_id</th>\n",
       "      <th>product_id</th>\n",
       "      <th>add_to_cart_order</th>\n",
       "      <th>reordered</th>\n",
       "    </tr>\n",
       "  </thead>\n",
       "  <tbody>\n",
       "    <tr>\n",
       "      <th>0</th>\n",
       "      <td>1</td>\n",
       "      <td>49302</td>\n",
       "      <td>1</td>\n",
       "      <td>1</td>\n",
       "    </tr>\n",
       "    <tr>\n",
       "      <th>1</th>\n",
       "      <td>1</td>\n",
       "      <td>11109</td>\n",
       "      <td>2</td>\n",
       "      <td>1</td>\n",
       "    </tr>\n",
       "    <tr>\n",
       "      <th>2</th>\n",
       "      <td>1</td>\n",
       "      <td>10246</td>\n",
       "      <td>3</td>\n",
       "      <td>0</td>\n",
       "    </tr>\n",
       "    <tr>\n",
       "      <th>3</th>\n",
       "      <td>1</td>\n",
       "      <td>49683</td>\n",
       "      <td>4</td>\n",
       "      <td>0</td>\n",
       "    </tr>\n",
       "    <tr>\n",
       "      <th>4</th>\n",
       "      <td>1</td>\n",
       "      <td>43633</td>\n",
       "      <td>5</td>\n",
       "      <td>1</td>\n",
       "    </tr>\n",
       "  </tbody>\n",
       "</table>\n",
       "</div>"
      ],
      "text/plain": [
       "   order_id  product_id  add_to_cart_order  reordered\n",
       "0         1       49302                  1          1\n",
       "1         1       11109                  2          1\n",
       "2         1       10246                  3          0\n",
       "3         1       49683                  4          0\n",
       "4         1       43633                  5          1"
      ]
     },
     "execution_count": 118,
     "metadata": {},
     "output_type": "execute_result"
    }
   ],
   "source": [
    "orders_products.head()"
   ]
  },
  {
   "cell_type": "code",
   "execution_count": 120,
   "id": "071ceff7-23bd-425a-a637-767481831101",
   "metadata": {},
   "outputs": [
    {
     "name": "stdout",
     "output_type": "stream",
     "text": [
      "<class 'pandas.core.frame.DataFrame'>\n",
      "Index: 33819106 entries, 0 to 32434488\n",
      "Data columns (total 4 columns):\n",
      " #   Column             Dtype\n",
      "---  ------             -----\n",
      " 0   order_id           int64\n",
      " 1   product_id         int64\n",
      " 2   add_to_cart_order  int64\n",
      " 3   reordered          int64\n",
      "dtypes: int64(4)\n",
      "memory usage: 1.3 GB\n"
     ]
    }
   ],
   "source": [
    "orders_products.info()"
   ]
  },
  {
   "cell_type": "code",
   "execution_count": 122,
   "id": "5e3be718-a426-4bf9-a9f9-384fa4ce47ce",
   "metadata": {},
   "outputs": [
    {
     "data": {
      "text/plain": [
       "order_id             0\n",
       "product_id           0\n",
       "add_to_cart_order    0\n",
       "reordered            0\n",
       "dtype: int64"
      ]
     },
     "execution_count": 122,
     "metadata": {},
     "output_type": "execute_result"
    }
   ],
   "source": [
    "orders_products.isnull().sum()"
   ]
  },
  {
   "cell_type": "code",
   "execution_count": 126,
   "id": "bf8c6333-a5ec-4141-8ebf-4e186e8ed4d7",
   "metadata": {},
   "outputs": [
    {
     "name": "stdout",
     "output_type": "stream",
     "text": [
      "CPU times: user 7.18 s, sys: 1.55 s, total: 8.73 s\n",
      "Wall time: 8.89 s\n"
     ]
    },
    {
     "data": {
      "text/plain": [
       "0"
      ]
     },
     "execution_count": 126,
     "metadata": {},
     "output_type": "execute_result"
    }
   ],
   "source": [
    "%%time\n",
    "orders_products.duplicated().sum()"
   ]
  },
  {
   "cell_type": "code",
   "execution_count": 128,
   "id": "b59d87f0-c5f9-4efd-8fc8-d0789929f8c5",
   "metadata": {},
   "outputs": [
    {
     "data": {
      "text/plain": [
       "order_id             3346083\n",
       "product_id             49685\n",
       "add_to_cart_order        145\n",
       "reordered                  2\n",
       "dtype: int64"
      ]
     },
     "execution_count": 128,
     "metadata": {},
     "output_type": "execute_result"
    }
   ],
   "source": [
    "orders_products.nunique()"
   ]
  },
  {
   "cell_type": "code",
   "execution_count": 130,
   "id": "15217947-b55c-4c75-90b0-e3c3536d5cf4",
   "metadata": {},
   "outputs": [
    {
     "data": {
      "text/html": [
       "<div>\n",
       "<style scoped>\n",
       "    .dataframe tbody tr th:only-of-type {\n",
       "        vertical-align: middle;\n",
       "    }\n",
       "\n",
       "    .dataframe tbody tr th {\n",
       "        vertical-align: top;\n",
       "    }\n",
       "\n",
       "    .dataframe thead th {\n",
       "        text-align: right;\n",
       "    }\n",
       "</style>\n",
       "<table border=\"1\" class=\"dataframe\">\n",
       "  <thead>\n",
       "    <tr style=\"text-align: right;\">\n",
       "      <th></th>\n",
       "      <th>order_id</th>\n",
       "      <th>product_id</th>\n",
       "      <th>add_to_cart_order</th>\n",
       "      <th>reordered</th>\n",
       "    </tr>\n",
       "  </thead>\n",
       "  <tbody>\n",
       "    <tr>\n",
       "      <th>count</th>\n",
       "      <td>3.381911e+07</td>\n",
       "      <td>3.381911e+07</td>\n",
       "      <td>3.381911e+07</td>\n",
       "      <td>3.381911e+07</td>\n",
       "    </tr>\n",
       "    <tr>\n",
       "      <th>mean</th>\n",
       "      <td>1.710566e+06</td>\n",
       "      <td>2.557551e+04</td>\n",
       "      <td>8.367738e+00</td>\n",
       "      <td>5.900617e-01</td>\n",
       "    </tr>\n",
       "    <tr>\n",
       "      <th>std</th>\n",
       "      <td>9.874008e+05</td>\n",
       "      <td>1.409770e+04</td>\n",
       "      <td>7.139540e+00</td>\n",
       "      <td>4.918220e-01</td>\n",
       "    </tr>\n",
       "    <tr>\n",
       "      <th>min</th>\n",
       "      <td>1.000000e+00</td>\n",
       "      <td>1.000000e+00</td>\n",
       "      <td>1.000000e+00</td>\n",
       "      <td>0.000000e+00</td>\n",
       "    </tr>\n",
       "    <tr>\n",
       "      <th>25%</th>\n",
       "      <td>8.554130e+05</td>\n",
       "      <td>1.351900e+04</td>\n",
       "      <td>3.000000e+00</td>\n",
       "      <td>0.000000e+00</td>\n",
       "    </tr>\n",
       "    <tr>\n",
       "      <th>50%</th>\n",
       "      <td>1.710660e+06</td>\n",
       "      <td>2.525600e+04</td>\n",
       "      <td>6.000000e+00</td>\n",
       "      <td>1.000000e+00</td>\n",
       "    </tr>\n",
       "    <tr>\n",
       "      <th>75%</th>\n",
       "      <td>2.565587e+06</td>\n",
       "      <td>3.793500e+04</td>\n",
       "      <td>1.100000e+01</td>\n",
       "      <td>1.000000e+00</td>\n",
       "    </tr>\n",
       "    <tr>\n",
       "      <th>max</th>\n",
       "      <td>3.421083e+06</td>\n",
       "      <td>4.968800e+04</td>\n",
       "      <td>1.450000e+02</td>\n",
       "      <td>1.000000e+00</td>\n",
       "    </tr>\n",
       "  </tbody>\n",
       "</table>\n",
       "</div>"
      ],
      "text/plain": [
       "           order_id    product_id  add_to_cart_order     reordered\n",
       "count  3.381911e+07  3.381911e+07       3.381911e+07  3.381911e+07\n",
       "mean   1.710566e+06  2.557551e+04       8.367738e+00  5.900617e-01\n",
       "std    9.874008e+05  1.409770e+04       7.139540e+00  4.918220e-01\n",
       "min    1.000000e+00  1.000000e+00       1.000000e+00  0.000000e+00\n",
       "25%    8.554130e+05  1.351900e+04       3.000000e+00  0.000000e+00\n",
       "50%    1.710660e+06  2.525600e+04       6.000000e+00  1.000000e+00\n",
       "75%    2.565587e+06  3.793500e+04       1.100000e+01  1.000000e+00\n",
       "max    3.421083e+06  4.968800e+04       1.450000e+02  1.000000e+00"
      ]
     },
     "execution_count": 130,
     "metadata": {},
     "output_type": "execute_result"
    }
   ],
   "source": [
    "orders_products.describe()"
   ]
  },
  {
   "cell_type": "markdown",
   "id": "362a7f63-8097-483c-978a-afb1b094bf3f",
   "metadata": {},
   "source": [
    "### orders_products_extended by merging orders_products with products, aisles and departments"
   ]
  },
  {
   "cell_type": "code",
   "execution_count": 133,
   "id": "e133e128-0926-4db7-b4c6-f1e14a64b8d4",
   "metadata": {},
   "outputs": [
    {
     "name": "stdout",
     "output_type": "stream",
     "text": [
      "CPU times: user 11.6 s, sys: 4.61 s, total: 16.2 s\n",
      "Wall time: 17 s\n"
     ]
    }
   ],
   "source": [
    "%%time\n",
    "orders_products_extended = pd.merge(left=orders_products, right=products, on='product_id', how='left')\n",
    "orders_products_extended = pd.merge(left=orders_products_extended, right=aisles, on='aisle_id', how='left')\n",
    "orders_products_extended = pd.merge(left=orders_products_extended, right=departments, on='department_id', how='left')"
   ]
  },
  {
   "cell_type": "code",
   "execution_count": 138,
   "id": "fcf71cac-a49e-4c67-9be4-fe472d1c4ee9",
   "metadata": {},
   "outputs": [
    {
     "data": {
      "text/html": [
       "<div>\n",
       "<style scoped>\n",
       "    .dataframe tbody tr th:only-of-type {\n",
       "        vertical-align: middle;\n",
       "    }\n",
       "\n",
       "    .dataframe tbody tr th {\n",
       "        vertical-align: top;\n",
       "    }\n",
       "\n",
       "    .dataframe thead th {\n",
       "        text-align: right;\n",
       "    }\n",
       "</style>\n",
       "<table border=\"1\" class=\"dataframe\">\n",
       "  <thead>\n",
       "    <tr style=\"text-align: right;\">\n",
       "      <th></th>\n",
       "      <th>order_id</th>\n",
       "      <th>product_id</th>\n",
       "      <th>add_to_cart_order</th>\n",
       "      <th>reordered</th>\n",
       "      <th>product_name</th>\n",
       "      <th>aisle_id</th>\n",
       "      <th>department_id</th>\n",
       "      <th>aisle</th>\n",
       "      <th>department</th>\n",
       "    </tr>\n",
       "  </thead>\n",
       "  <tbody>\n",
       "    <tr>\n",
       "      <th>0</th>\n",
       "      <td>1</td>\n",
       "      <td>49302</td>\n",
       "      <td>1</td>\n",
       "      <td>1</td>\n",
       "      <td>Bulgarian Yogurt</td>\n",
       "      <td>120</td>\n",
       "      <td>16</td>\n",
       "      <td>yogurt</td>\n",
       "      <td>dairy eggs</td>\n",
       "    </tr>\n",
       "    <tr>\n",
       "      <th>1</th>\n",
       "      <td>1</td>\n",
       "      <td>11109</td>\n",
       "      <td>2</td>\n",
       "      <td>1</td>\n",
       "      <td>Organic 4% Milk Fat Whole Milk Cottage Cheese</td>\n",
       "      <td>108</td>\n",
       "      <td>16</td>\n",
       "      <td>other creams cheeses</td>\n",
       "      <td>dairy eggs</td>\n",
       "    </tr>\n",
       "    <tr>\n",
       "      <th>2</th>\n",
       "      <td>1</td>\n",
       "      <td>10246</td>\n",
       "      <td>3</td>\n",
       "      <td>0</td>\n",
       "      <td>Organic Celery Hearts</td>\n",
       "      <td>83</td>\n",
       "      <td>4</td>\n",
       "      <td>fresh vegetables</td>\n",
       "      <td>produce</td>\n",
       "    </tr>\n",
       "    <tr>\n",
       "      <th>3</th>\n",
       "      <td>1</td>\n",
       "      <td>49683</td>\n",
       "      <td>4</td>\n",
       "      <td>0</td>\n",
       "      <td>Cucumber Kirby</td>\n",
       "      <td>83</td>\n",
       "      <td>4</td>\n",
       "      <td>fresh vegetables</td>\n",
       "      <td>produce</td>\n",
       "    </tr>\n",
       "    <tr>\n",
       "      <th>4</th>\n",
       "      <td>1</td>\n",
       "      <td>43633</td>\n",
       "      <td>5</td>\n",
       "      <td>1</td>\n",
       "      <td>Lightly Smoked Sardines in Olive Oil</td>\n",
       "      <td>95</td>\n",
       "      <td>15</td>\n",
       "      <td>canned meat seafood</td>\n",
       "      <td>canned goods</td>\n",
       "    </tr>\n",
       "  </tbody>\n",
       "</table>\n",
       "</div>"
      ],
      "text/plain": [
       "   order_id  product_id  add_to_cart_order  reordered  \\\n",
       "0         1       49302                  1          1   \n",
       "1         1       11109                  2          1   \n",
       "2         1       10246                  3          0   \n",
       "3         1       49683                  4          0   \n",
       "4         1       43633                  5          1   \n",
       "\n",
       "                                    product_name  aisle_id  department_id  \\\n",
       "0                               Bulgarian Yogurt       120             16   \n",
       "1  Organic 4% Milk Fat Whole Milk Cottage Cheese       108             16   \n",
       "2                          Organic Celery Hearts        83              4   \n",
       "3                                 Cucumber Kirby        83              4   \n",
       "4           Lightly Smoked Sardines in Olive Oil        95             15   \n",
       "\n",
       "                  aisle    department  \n",
       "0                yogurt    dairy eggs  \n",
       "1  other creams cheeses    dairy eggs  \n",
       "2      fresh vegetables       produce  \n",
       "3      fresh vegetables       produce  \n",
       "4   canned meat seafood  canned goods  "
      ]
     },
     "execution_count": 138,
     "metadata": {},
     "output_type": "execute_result"
    }
   ],
   "source": [
    "orders_products_extended.head()"
   ]
  },
  {
   "cell_type": "code",
   "execution_count": 136,
   "id": "e5b359f0-ea78-4f89-ac4a-79572cb2ac75",
   "metadata": {},
   "outputs": [
    {
     "name": "stdout",
     "output_type": "stream",
     "text": [
      "<class 'pandas.core.frame.DataFrame'>\n",
      "RangeIndex: 33819106 entries, 0 to 33819105\n",
      "Data columns (total 9 columns):\n",
      " #   Column             Dtype \n",
      "---  ------             ----- \n",
      " 0   order_id           int64 \n",
      " 1   product_id         int64 \n",
      " 2   add_to_cart_order  int64 \n",
      " 3   reordered          int64 \n",
      " 4   product_name       object\n",
      " 5   aisle_id           int64 \n",
      " 6   department_id      int64 \n",
      " 7   aisle              object\n",
      " 8   department         object\n",
      "dtypes: int64(6), object(3)\n",
      "memory usage: 2.3+ GB\n"
     ]
    }
   ],
   "source": [
    "orders_products_extended.info()"
   ]
  },
  {
   "cell_type": "code",
   "execution_count": 140,
   "id": "88c2c1ce-d819-4467-af19-f857811e1dd0",
   "metadata": {},
   "outputs": [
    {
     "name": "stdout",
     "output_type": "stream",
     "text": [
      "CPU times: user 3.55 s, sys: 88.3 ms, total: 3.64 s\n",
      "Wall time: 3.71 s\n"
     ]
    },
    {
     "data": {
      "text/plain": [
       "order_id             0\n",
       "product_id           0\n",
       "add_to_cart_order    0\n",
       "reordered            0\n",
       "product_name         0\n",
       "aisle_id             0\n",
       "department_id        0\n",
       "aisle                0\n",
       "department           0\n",
       "dtype: int64"
      ]
     },
     "execution_count": 140,
     "metadata": {},
     "output_type": "execute_result"
    }
   ],
   "source": [
    "%%time\n",
    "orders_products_extended.isnull().sum()"
   ]
  },
  {
   "cell_type": "code",
   "execution_count": 142,
   "id": "20c1553f-7da0-4edc-bf0e-fb7d04a3d002",
   "metadata": {},
   "outputs": [
    {
     "name": "stdout",
     "output_type": "stream",
     "text": [
      "CPU times: user 22.3 s, sys: 3.65 s, total: 26 s\n",
      "Wall time: 26.5 s\n"
     ]
    },
    {
     "data": {
      "text/plain": [
       "0"
      ]
     },
     "execution_count": 142,
     "metadata": {},
     "output_type": "execute_result"
    }
   ],
   "source": [
    "%%time\n",
    "orders_products_extended.duplicated().sum()"
   ]
  },
  {
   "cell_type": "code",
   "execution_count": 143,
   "id": "b55f75f8-3c4a-47c1-9816-a6fba67ca56c",
   "metadata": {},
   "outputs": [
    {
     "name": "stdout",
     "output_type": "stream",
     "text": [
      "CPU times: user 7.49 s, sys: 268 ms, total: 7.76 s\n",
      "Wall time: 7.78 s\n"
     ]
    },
    {
     "data": {
      "text/plain": [
       "order_id             3346083\n",
       "product_id             49685\n",
       "add_to_cart_order        145\n",
       "reordered                  2\n",
       "product_name           49685\n",
       "aisle_id                 134\n",
       "department_id             21\n",
       "aisle                    134\n",
       "department                21\n",
       "dtype: int64"
      ]
     },
     "execution_count": 143,
     "metadata": {},
     "output_type": "execute_result"
    }
   ],
   "source": [
    "%%time\n",
    "orders_products_extended.nunique()"
   ]
  },
  {
   "cell_type": "code",
   "execution_count": 146,
   "id": "b7feaa51-a832-480c-91f7-1b3993b391ee",
   "metadata": {},
   "outputs": [
    {
     "name": "stdout",
     "output_type": "stream",
     "text": [
      "CPU times: user 5.63 s, sys: 890 ms, total: 6.52 s\n",
      "Wall time: 6.58 s\n"
     ]
    },
    {
     "data": {
      "text/html": [
       "<div>\n",
       "<style scoped>\n",
       "    .dataframe tbody tr th:only-of-type {\n",
       "        vertical-align: middle;\n",
       "    }\n",
       "\n",
       "    .dataframe tbody tr th {\n",
       "        vertical-align: top;\n",
       "    }\n",
       "\n",
       "    .dataframe thead th {\n",
       "        text-align: right;\n",
       "    }\n",
       "</style>\n",
       "<table border=\"1\" class=\"dataframe\">\n",
       "  <thead>\n",
       "    <tr style=\"text-align: right;\">\n",
       "      <th></th>\n",
       "      <th>order_id</th>\n",
       "      <th>product_id</th>\n",
       "      <th>add_to_cart_order</th>\n",
       "      <th>reordered</th>\n",
       "      <th>aisle_id</th>\n",
       "      <th>department_id</th>\n",
       "    </tr>\n",
       "  </thead>\n",
       "  <tbody>\n",
       "    <tr>\n",
       "      <th>count</th>\n",
       "      <td>3.381911e+07</td>\n",
       "      <td>3.381911e+07</td>\n",
       "      <td>3.381911e+07</td>\n",
       "      <td>3.381911e+07</td>\n",
       "      <td>3.381911e+07</td>\n",
       "      <td>3.381911e+07</td>\n",
       "    </tr>\n",
       "    <tr>\n",
       "      <th>mean</th>\n",
       "      <td>1.710566e+06</td>\n",
       "      <td>2.557551e+04</td>\n",
       "      <td>8.367738e+00</td>\n",
       "      <td>5.900617e-01</td>\n",
       "      <td>7.121799e+01</td>\n",
       "      <td>9.918544e+00</td>\n",
       "    </tr>\n",
       "    <tr>\n",
       "      <th>std</th>\n",
       "      <td>9.874008e+05</td>\n",
       "      <td>1.409770e+04</td>\n",
       "      <td>7.139540e+00</td>\n",
       "      <td>4.918220e-01</td>\n",
       "      <td>3.819898e+01</td>\n",
       "      <td>6.281655e+00</td>\n",
       "    </tr>\n",
       "    <tr>\n",
       "      <th>min</th>\n",
       "      <td>1.000000e+00</td>\n",
       "      <td>1.000000e+00</td>\n",
       "      <td>1.000000e+00</td>\n",
       "      <td>0.000000e+00</td>\n",
       "      <td>1.000000e+00</td>\n",
       "      <td>1.000000e+00</td>\n",
       "    </tr>\n",
       "    <tr>\n",
       "      <th>25%</th>\n",
       "      <td>8.554130e+05</td>\n",
       "      <td>1.351900e+04</td>\n",
       "      <td>3.000000e+00</td>\n",
       "      <td>0.000000e+00</td>\n",
       "      <td>3.100000e+01</td>\n",
       "      <td>4.000000e+00</td>\n",
       "    </tr>\n",
       "    <tr>\n",
       "      <th>50%</th>\n",
       "      <td>1.710660e+06</td>\n",
       "      <td>2.525600e+04</td>\n",
       "      <td>6.000000e+00</td>\n",
       "      <td>1.000000e+00</td>\n",
       "      <td>8.300000e+01</td>\n",
       "      <td>9.000000e+00</td>\n",
       "    </tr>\n",
       "    <tr>\n",
       "      <th>75%</th>\n",
       "      <td>2.565587e+06</td>\n",
       "      <td>3.793500e+04</td>\n",
       "      <td>1.100000e+01</td>\n",
       "      <td>1.000000e+00</td>\n",
       "      <td>1.070000e+02</td>\n",
       "      <td>1.600000e+01</td>\n",
       "    </tr>\n",
       "    <tr>\n",
       "      <th>max</th>\n",
       "      <td>3.421083e+06</td>\n",
       "      <td>4.968800e+04</td>\n",
       "      <td>1.450000e+02</td>\n",
       "      <td>1.000000e+00</td>\n",
       "      <td>1.340000e+02</td>\n",
       "      <td>2.100000e+01</td>\n",
       "    </tr>\n",
       "  </tbody>\n",
       "</table>\n",
       "</div>"
      ],
      "text/plain": [
       "           order_id    product_id  add_to_cart_order     reordered  \\\n",
       "count  3.381911e+07  3.381911e+07       3.381911e+07  3.381911e+07   \n",
       "mean   1.710566e+06  2.557551e+04       8.367738e+00  5.900617e-01   \n",
       "std    9.874008e+05  1.409770e+04       7.139540e+00  4.918220e-01   \n",
       "min    1.000000e+00  1.000000e+00       1.000000e+00  0.000000e+00   \n",
       "25%    8.554130e+05  1.351900e+04       3.000000e+00  0.000000e+00   \n",
       "50%    1.710660e+06  2.525600e+04       6.000000e+00  1.000000e+00   \n",
       "75%    2.565587e+06  3.793500e+04       1.100000e+01  1.000000e+00   \n",
       "max    3.421083e+06  4.968800e+04       1.450000e+02  1.000000e+00   \n",
       "\n",
       "           aisle_id  department_id  \n",
       "count  3.381911e+07   3.381911e+07  \n",
       "mean   7.121799e+01   9.918544e+00  \n",
       "std    3.819898e+01   6.281655e+00  \n",
       "min    1.000000e+00   1.000000e+00  \n",
       "25%    3.100000e+01   4.000000e+00  \n",
       "50%    8.300000e+01   9.000000e+00  \n",
       "75%    1.070000e+02   1.600000e+01  \n",
       "max    1.340000e+02   2.100000e+01  "
      ]
     },
     "execution_count": 146,
     "metadata": {},
     "output_type": "execute_result"
    }
   ],
   "source": [
    "%%time\n",
    "orders_products_extended.describe()"
   ]
  },
  {
   "cell_type": "code",
   "execution_count": 148,
   "id": "406dba66-3fcf-4658-8dda-c320dbbb1d38",
   "metadata": {},
   "outputs": [
    {
     "name": "stdout",
     "output_type": "stream",
     "text": [
      "CPU times: user 10.6 s, sys: 980 ms, total: 11.6 s\n",
      "Wall time: 11.8 s\n"
     ]
    },
    {
     "data": {
      "text/html": [
       "<div>\n",
       "<style scoped>\n",
       "    .dataframe tbody tr th:only-of-type {\n",
       "        vertical-align: middle;\n",
       "    }\n",
       "\n",
       "    .dataframe tbody tr th {\n",
       "        vertical-align: top;\n",
       "    }\n",
       "\n",
       "    .dataframe thead th {\n",
       "        text-align: right;\n",
       "    }\n",
       "</style>\n",
       "<table border=\"1\" class=\"dataframe\">\n",
       "  <thead>\n",
       "    <tr style=\"text-align: right;\">\n",
       "      <th></th>\n",
       "      <th>product_name</th>\n",
       "      <th>aisle</th>\n",
       "      <th>department</th>\n",
       "    </tr>\n",
       "  </thead>\n",
       "  <tbody>\n",
       "    <tr>\n",
       "      <th>count</th>\n",
       "      <td>33819106</td>\n",
       "      <td>33819106</td>\n",
       "      <td>33819106</td>\n",
       "    </tr>\n",
       "    <tr>\n",
       "      <th>unique</th>\n",
       "      <td>49685</td>\n",
       "      <td>134</td>\n",
       "      <td>21</td>\n",
       "    </tr>\n",
       "    <tr>\n",
       "      <th>top</th>\n",
       "      <td>Banana</td>\n",
       "      <td>fresh fruits</td>\n",
       "      <td>produce</td>\n",
       "    </tr>\n",
       "    <tr>\n",
       "      <th>freq</th>\n",
       "      <td>491291</td>\n",
       "      <td>3792661</td>\n",
       "      <td>9888378</td>\n",
       "    </tr>\n",
       "  </tbody>\n",
       "</table>\n",
       "</div>"
      ],
      "text/plain": [
       "       product_name         aisle department\n",
       "count      33819106      33819106   33819106\n",
       "unique        49685           134         21\n",
       "top          Banana  fresh fruits    produce\n",
       "freq         491291       3792661    9888378"
      ]
     },
     "execution_count": 148,
     "metadata": {},
     "output_type": "execute_result"
    }
   ],
   "source": [
    "%%time\n",
    "orders_products_extended.describe(include=[object])"
   ]
  },
  {
   "cell_type": "markdown",
   "id": "92cb115b-6486-451c-899c-3316dce16b78",
   "metadata": {},
   "source": [
    "### Merging products, aisles and departments as inventory"
   ]
  },
  {
   "cell_type": "code",
   "execution_count": 151,
   "id": "9b561a8a-b490-4536-9fbd-5742dc24524d",
   "metadata": {},
   "outputs": [],
   "source": [
    "inventory = pd.merge(left=products, right=aisles, on='aisle_id', how='left')\n",
    "inventory = pd.merge(left=inventory, right=departments, on='department_id', how='left')"
   ]
  },
  {
   "cell_type": "code",
   "execution_count": 153,
   "id": "202ec241-c6c5-4aa4-b47d-56b068730b39",
   "metadata": {},
   "outputs": [
    {
     "data": {
      "text/html": [
       "<div>\n",
       "<style scoped>\n",
       "    .dataframe tbody tr th:only-of-type {\n",
       "        vertical-align: middle;\n",
       "    }\n",
       "\n",
       "    .dataframe tbody tr th {\n",
       "        vertical-align: top;\n",
       "    }\n",
       "\n",
       "    .dataframe thead th {\n",
       "        text-align: right;\n",
       "    }\n",
       "</style>\n",
       "<table border=\"1\" class=\"dataframe\">\n",
       "  <thead>\n",
       "    <tr style=\"text-align: right;\">\n",
       "      <th></th>\n",
       "      <th>product_id</th>\n",
       "      <th>product_name</th>\n",
       "      <th>aisle_id</th>\n",
       "      <th>department_id</th>\n",
       "      <th>aisle</th>\n",
       "      <th>department</th>\n",
       "    </tr>\n",
       "  </thead>\n",
       "  <tbody>\n",
       "    <tr>\n",
       "      <th>0</th>\n",
       "      <td>1</td>\n",
       "      <td>Chocolate Sandwich Cookies</td>\n",
       "      <td>61</td>\n",
       "      <td>19</td>\n",
       "      <td>cookies cakes</td>\n",
       "      <td>snacks</td>\n",
       "    </tr>\n",
       "    <tr>\n",
       "      <th>1</th>\n",
       "      <td>2</td>\n",
       "      <td>All-Seasons Salt</td>\n",
       "      <td>104</td>\n",
       "      <td>13</td>\n",
       "      <td>spices seasonings</td>\n",
       "      <td>pantry</td>\n",
       "    </tr>\n",
       "    <tr>\n",
       "      <th>2</th>\n",
       "      <td>3</td>\n",
       "      <td>Robust Golden Unsweetened Oolong Tea</td>\n",
       "      <td>94</td>\n",
       "      <td>7</td>\n",
       "      <td>tea</td>\n",
       "      <td>beverages</td>\n",
       "    </tr>\n",
       "    <tr>\n",
       "      <th>3</th>\n",
       "      <td>4</td>\n",
       "      <td>Smart Ones Classic Favorites Mini Rigatoni Wit...</td>\n",
       "      <td>38</td>\n",
       "      <td>1</td>\n",
       "      <td>frozen meals</td>\n",
       "      <td>frozen</td>\n",
       "    </tr>\n",
       "    <tr>\n",
       "      <th>4</th>\n",
       "      <td>5</td>\n",
       "      <td>Green Chile Anytime Sauce</td>\n",
       "      <td>5</td>\n",
       "      <td>13</td>\n",
       "      <td>marinades meat preparation</td>\n",
       "      <td>pantry</td>\n",
       "    </tr>\n",
       "  </tbody>\n",
       "</table>\n",
       "</div>"
      ],
      "text/plain": [
       "   product_id                                       product_name  aisle_id  \\\n",
       "0           1                         Chocolate Sandwich Cookies        61   \n",
       "1           2                                   All-Seasons Salt       104   \n",
       "2           3               Robust Golden Unsweetened Oolong Tea        94   \n",
       "3           4  Smart Ones Classic Favorites Mini Rigatoni Wit...        38   \n",
       "4           5                          Green Chile Anytime Sauce         5   \n",
       "\n",
       "   department_id                       aisle department  \n",
       "0             19               cookies cakes     snacks  \n",
       "1             13           spices seasonings     pantry  \n",
       "2              7                         tea  beverages  \n",
       "3              1                frozen meals     frozen  \n",
       "4             13  marinades meat preparation     pantry  "
      ]
     },
     "execution_count": 153,
     "metadata": {},
     "output_type": "execute_result"
    }
   ],
   "source": [
    "inventory.head()"
   ]
  },
  {
   "cell_type": "code",
   "execution_count": 155,
   "id": "28673a84-c6fb-43ca-ac5f-fc5fdd5b6512",
   "metadata": {},
   "outputs": [
    {
     "name": "stdout",
     "output_type": "stream",
     "text": [
      "<class 'pandas.core.frame.DataFrame'>\n",
      "RangeIndex: 49688 entries, 0 to 49687\n",
      "Data columns (total 6 columns):\n",
      " #   Column         Non-Null Count  Dtype \n",
      "---  ------         --------------  ----- \n",
      " 0   product_id     49688 non-null  int64 \n",
      " 1   product_name   49688 non-null  object\n",
      " 2   aisle_id       49688 non-null  int64 \n",
      " 3   department_id  49688 non-null  int64 \n",
      " 4   aisle          49688 non-null  object\n",
      " 5   department     49688 non-null  object\n",
      "dtypes: int64(3), object(3)\n",
      "memory usage: 2.3+ MB\n"
     ]
    }
   ],
   "source": [
    "inventory.info()"
   ]
  },
  {
   "cell_type": "code",
   "execution_count": 157,
   "id": "d56a8b81-dea7-4b4e-8e44-038e0f5aad32",
   "metadata": {},
   "outputs": [
    {
     "data": {
      "text/plain": [
       "product_id       0\n",
       "product_name     0\n",
       "aisle_id         0\n",
       "department_id    0\n",
       "aisle            0\n",
       "department       0\n",
       "dtype: int64"
      ]
     },
     "execution_count": 157,
     "metadata": {},
     "output_type": "execute_result"
    }
   ],
   "source": [
    "inventory.isnull().sum()"
   ]
  },
  {
   "cell_type": "code",
   "execution_count": 159,
   "id": "1f7a17c0-3a90-4161-a94b-7d0055b6a8df",
   "metadata": {},
   "outputs": [
    {
     "data": {
      "text/plain": [
       "0"
      ]
     },
     "execution_count": 159,
     "metadata": {},
     "output_type": "execute_result"
    }
   ],
   "source": [
    "inventory.duplicated().sum()"
   ]
  },
  {
   "cell_type": "code",
   "execution_count": 161,
   "id": "f8b4c6f1-d113-40d8-ba97-a9b52cb3000e",
   "metadata": {},
   "outputs": [
    {
     "data": {
      "text/plain": [
       "product_id       49688\n",
       "product_name     49688\n",
       "aisle_id           134\n",
       "department_id       21\n",
       "aisle              134\n",
       "department          21\n",
       "dtype: int64"
      ]
     },
     "execution_count": 161,
     "metadata": {},
     "output_type": "execute_result"
    }
   ],
   "source": [
    "inventory.nunique()"
   ]
  },
  {
   "cell_type": "code",
   "execution_count": 163,
   "id": "78efc198-06b7-4dda-8a6d-c52bbbd5c493",
   "metadata": {},
   "outputs": [
    {
     "data": {
      "text/plain": [
       "product_id       49688\n",
       "product_name     49688\n",
       "aisle_id           134\n",
       "department_id       21\n",
       "aisle              134\n",
       "department          21\n",
       "dtype: int64"
      ]
     },
     "execution_count": 163,
     "metadata": {},
     "output_type": "execute_result"
    }
   ],
   "source": [
    "inventory.nunique()"
   ]
  },
  {
   "cell_type": "code",
   "execution_count": 165,
   "id": "dbf9756f-26c1-42f4-9afe-37059b126506",
   "metadata": {},
   "outputs": [
    {
     "data": {
      "text/html": [
       "<div>\n",
       "<style scoped>\n",
       "    .dataframe tbody tr th:only-of-type {\n",
       "        vertical-align: middle;\n",
       "    }\n",
       "\n",
       "    .dataframe tbody tr th {\n",
       "        vertical-align: top;\n",
       "    }\n",
       "\n",
       "    .dataframe thead th {\n",
       "        text-align: right;\n",
       "    }\n",
       "</style>\n",
       "<table border=\"1\" class=\"dataframe\">\n",
       "  <thead>\n",
       "    <tr style=\"text-align: right;\">\n",
       "      <th></th>\n",
       "      <th>product_id</th>\n",
       "      <th>aisle_id</th>\n",
       "      <th>department_id</th>\n",
       "    </tr>\n",
       "  </thead>\n",
       "  <tbody>\n",
       "    <tr>\n",
       "      <th>count</th>\n",
       "      <td>49688.000000</td>\n",
       "      <td>49688.000000</td>\n",
       "      <td>49688.000000</td>\n",
       "    </tr>\n",
       "    <tr>\n",
       "      <th>mean</th>\n",
       "      <td>24844.500000</td>\n",
       "      <td>67.769582</td>\n",
       "      <td>11.728687</td>\n",
       "    </tr>\n",
       "    <tr>\n",
       "      <th>std</th>\n",
       "      <td>14343.834425</td>\n",
       "      <td>38.316162</td>\n",
       "      <td>5.850410</td>\n",
       "    </tr>\n",
       "    <tr>\n",
       "      <th>min</th>\n",
       "      <td>1.000000</td>\n",
       "      <td>1.000000</td>\n",
       "      <td>1.000000</td>\n",
       "    </tr>\n",
       "    <tr>\n",
       "      <th>25%</th>\n",
       "      <td>12422.750000</td>\n",
       "      <td>35.000000</td>\n",
       "      <td>7.000000</td>\n",
       "    </tr>\n",
       "    <tr>\n",
       "      <th>50%</th>\n",
       "      <td>24844.500000</td>\n",
       "      <td>69.000000</td>\n",
       "      <td>13.000000</td>\n",
       "    </tr>\n",
       "    <tr>\n",
       "      <th>75%</th>\n",
       "      <td>37266.250000</td>\n",
       "      <td>100.000000</td>\n",
       "      <td>17.000000</td>\n",
       "    </tr>\n",
       "    <tr>\n",
       "      <th>max</th>\n",
       "      <td>49688.000000</td>\n",
       "      <td>134.000000</td>\n",
       "      <td>21.000000</td>\n",
       "    </tr>\n",
       "  </tbody>\n",
       "</table>\n",
       "</div>"
      ],
      "text/plain": [
       "         product_id      aisle_id  department_id\n",
       "count  49688.000000  49688.000000   49688.000000\n",
       "mean   24844.500000     67.769582      11.728687\n",
       "std    14343.834425     38.316162       5.850410\n",
       "min        1.000000      1.000000       1.000000\n",
       "25%    12422.750000     35.000000       7.000000\n",
       "50%    24844.500000     69.000000      13.000000\n",
       "75%    37266.250000    100.000000      17.000000\n",
       "max    49688.000000    134.000000      21.000000"
      ]
     },
     "execution_count": 165,
     "metadata": {},
     "output_type": "execute_result"
    }
   ],
   "source": [
    "inventory.describe()"
   ]
  },
  {
   "cell_type": "code",
   "execution_count": 167,
   "id": "3e90f38f-6251-4b6e-a3c7-245ee3f431a1",
   "metadata": {},
   "outputs": [
    {
     "data": {
      "text/html": [
       "<div>\n",
       "<style scoped>\n",
       "    .dataframe tbody tr th:only-of-type {\n",
       "        vertical-align: middle;\n",
       "    }\n",
       "\n",
       "    .dataframe tbody tr th {\n",
       "        vertical-align: top;\n",
       "    }\n",
       "\n",
       "    .dataframe thead th {\n",
       "        text-align: right;\n",
       "    }\n",
       "</style>\n",
       "<table border=\"1\" class=\"dataframe\">\n",
       "  <thead>\n",
       "    <tr style=\"text-align: right;\">\n",
       "      <th></th>\n",
       "      <th>product_name</th>\n",
       "      <th>aisle</th>\n",
       "      <th>department</th>\n",
       "    </tr>\n",
       "  </thead>\n",
       "  <tbody>\n",
       "    <tr>\n",
       "      <th>count</th>\n",
       "      <td>49688</td>\n",
       "      <td>49688</td>\n",
       "      <td>49688</td>\n",
       "    </tr>\n",
       "    <tr>\n",
       "      <th>unique</th>\n",
       "      <td>49688</td>\n",
       "      <td>134</td>\n",
       "      <td>21</td>\n",
       "    </tr>\n",
       "    <tr>\n",
       "      <th>top</th>\n",
       "      <td>Chocolate Sandwich Cookies</td>\n",
       "      <td>missing</td>\n",
       "      <td>personal care</td>\n",
       "    </tr>\n",
       "    <tr>\n",
       "      <th>freq</th>\n",
       "      <td>1</td>\n",
       "      <td>1258</td>\n",
       "      <td>6563</td>\n",
       "    </tr>\n",
       "  </tbody>\n",
       "</table>\n",
       "</div>"
      ],
      "text/plain": [
       "                      product_name    aisle     department\n",
       "count                        49688    49688          49688\n",
       "unique                       49688      134             21\n",
       "top     Chocolate Sandwich Cookies  missing  personal care\n",
       "freq                             1     1258           6563"
      ]
     },
     "execution_count": 167,
     "metadata": {},
     "output_type": "execute_result"
    }
   ],
   "source": [
    "inventory.describe(include=[object])"
   ]
  },
  {
   "cell_type": "markdown",
   "id": "d87efd45-556e-49fb-9907-2823cc139f30",
   "metadata": {},
   "source": [
    "## EDA - Exploratory Data Analysis\n",
    "\n",
    "* How many orders each user made using histogram.\n",
    "* Which products are ordered the most\n",
    "* Which products are reordered the most\n",
    "* How often products are reordered using histogram.\n",
    "* Aisle with more products.\n",
    "* Departments with more products.\n",
    "* Products share by Department and Aisle using Treemap.\n",
    "\n",
    "\n",
    "\n",
    "When a user orders a product, what is the change of it being reordered?"
   ]
  },
  {
   "cell_type": "markdown",
   "id": "2b9d0453-6d5f-4c36-9b3b-c5004071ac74",
   "metadata": {},
   "source": [
    "### How many orders each user made"
   ]
  },
  {
   "cell_type": "code",
   "execution_count": 171,
   "id": "a9ffa2fd-b668-43d6-9307-9f2f13e34722",
   "metadata": {},
   "outputs": [
    {
     "data": {
      "text/html": [
       "<div>\n",
       "<style scoped>\n",
       "    .dataframe tbody tr th:only-of-type {\n",
       "        vertical-align: middle;\n",
       "    }\n",
       "\n",
       "    .dataframe tbody tr th {\n",
       "        vertical-align: top;\n",
       "    }\n",
       "\n",
       "    .dataframe thead th {\n",
       "        text-align: right;\n",
       "    }\n",
       "</style>\n",
       "<table border=\"1\" class=\"dataframe\">\n",
       "  <thead>\n",
       "    <tr style=\"text-align: right;\">\n",
       "      <th></th>\n",
       "      <th>order_id</th>\n",
       "      <th>user_id</th>\n",
       "      <th>eval_set</th>\n",
       "      <th>order_number</th>\n",
       "      <th>order_dow</th>\n",
       "      <th>order_hour_of_day</th>\n",
       "      <th>days_since_prior_order</th>\n",
       "    </tr>\n",
       "  </thead>\n",
       "  <tbody>\n",
       "    <tr>\n",
       "      <th>0</th>\n",
       "      <td>2539329</td>\n",
       "      <td>1</td>\n",
       "      <td>prior</td>\n",
       "      <td>1</td>\n",
       "      <td>2</td>\n",
       "      <td>8</td>\n",
       "      <td>NaN</td>\n",
       "    </tr>\n",
       "    <tr>\n",
       "      <th>1</th>\n",
       "      <td>2398795</td>\n",
       "      <td>1</td>\n",
       "      <td>prior</td>\n",
       "      <td>2</td>\n",
       "      <td>3</td>\n",
       "      <td>7</td>\n",
       "      <td>15.0</td>\n",
       "    </tr>\n",
       "  </tbody>\n",
       "</table>\n",
       "</div>"
      ],
      "text/plain": [
       "   order_id  user_id eval_set  order_number  order_dow  order_hour_of_day  \\\n",
       "0   2539329        1    prior             1          2                  8   \n",
       "1   2398795        1    prior             2          3                  7   \n",
       "\n",
       "   days_since_prior_order  \n",
       "0                     NaN  \n",
       "1                    15.0  "
      ]
     },
     "execution_count": 171,
     "metadata": {},
     "output_type": "execute_result"
    }
   ],
   "source": [
    "orders.head(2)"
   ]
  },
  {
   "cell_type": "code",
   "execution_count": 173,
   "id": "99efadaf-707b-4384-be6a-962c22577d27",
   "metadata": {},
   "outputs": [
    {
     "name": "stdout",
     "output_type": "stream",
     "text": [
      "CPU times: user 85.9 ms, sys: 40 ms, total: 126 ms\n",
      "Wall time: 125 ms\n"
     ]
    }
   ],
   "source": [
    "%%time\n",
    "orders_by_user = orders.groupby(['user_id'])['order_number'].max().reset_index()"
   ]
  },
  {
   "cell_type": "code",
   "execution_count": 174,
   "id": "03cd1ff2-69db-46df-85c1-cd9c3901e929",
   "metadata": {},
   "outputs": [
    {
     "data": {
      "text/html": [
       "<div>\n",
       "<style scoped>\n",
       "    .dataframe tbody tr th:only-of-type {\n",
       "        vertical-align: middle;\n",
       "    }\n",
       "\n",
       "    .dataframe tbody tr th {\n",
       "        vertical-align: top;\n",
       "    }\n",
       "\n",
       "    .dataframe thead th {\n",
       "        text-align: right;\n",
       "    }\n",
       "</style>\n",
       "<table border=\"1\" class=\"dataframe\">\n",
       "  <thead>\n",
       "    <tr style=\"text-align: right;\">\n",
       "      <th></th>\n",
       "      <th>user_id</th>\n",
       "      <th>order_number</th>\n",
       "    </tr>\n",
       "  </thead>\n",
       "  <tbody>\n",
       "    <tr>\n",
       "      <th>0</th>\n",
       "      <td>1</td>\n",
       "      <td>11</td>\n",
       "    </tr>\n",
       "    <tr>\n",
       "      <th>1</th>\n",
       "      <td>2</td>\n",
       "      <td>15</td>\n",
       "    </tr>\n",
       "    <tr>\n",
       "      <th>2</th>\n",
       "      <td>3</td>\n",
       "      <td>13</td>\n",
       "    </tr>\n",
       "    <tr>\n",
       "      <th>3</th>\n",
       "      <td>4</td>\n",
       "      <td>6</td>\n",
       "    </tr>\n",
       "    <tr>\n",
       "      <th>4</th>\n",
       "      <td>5</td>\n",
       "      <td>5</td>\n",
       "    </tr>\n",
       "  </tbody>\n",
       "</table>\n",
       "</div>"
      ],
      "text/plain": [
       "   user_id  order_number\n",
       "0        1            11\n",
       "1        2            15\n",
       "2        3            13\n",
       "3        4             6\n",
       "4        5             5"
      ]
     },
     "execution_count": 174,
     "metadata": {},
     "output_type": "execute_result"
    }
   ],
   "source": [
    "orders_by_user.head()"
   ]
  },
  {
   "cell_type": "code",
   "execution_count": 228,
   "id": "9644e8b5-3b32-4c29-bcae-7883e34119b3",
   "metadata": {},
   "outputs": [
    {
     "data": {
      "image/png": "[encoded data removed]",
      "text/plain": [
       "<Figure size 800x600 with 1 Axes>"
      ]
     },
     "metadata": {},
     "output_type": "display_data"
    }
   ],
   "source": [
    "plt.figure(figsize=(8,6))\n",
    "sns.histplot(data=orders_by_user['order_number'], color='tab:orange', bins=100)\n",
    "plt.xlabel('Order Count')\n",
    "plt.ylabel('Count')\n",
    "plt.title('Histogram of Number of Orders made by Users')\n",
    "plt.grid()\n",
    "plt.tight_layout()\n",
    "plt.savefig('images/orders_by_users_histo.png')\n",
    "plt.show()"
   ]
  },
  {
   "cell_type": "markdown",
   "id": "860679fe-8c17-402f-81c6-d4c68436412c",
   "metadata": {},
   "source": [
    "### Which products are ordered the most"
   ]
  },
  {
   "cell_type": "code",
   "execution_count": 236,
   "id": "52055864-8085-4e92-878f-2363d9d6db51",
   "metadata": {},
   "outputs": [
    {
     "name": "stdout",
     "output_type": "stream",
     "text": [
      "CPU times: user 3.07 s, sys: 42.9 ms, total: 3.12 s\n",
      "Wall time: 3.17 s\n"
     ]
    }
   ],
   "source": [
    "%%time\n",
    "product_name_df = orders_products_extended['product_name'].value_counts().reset_index()"
   ]
  },
  {
   "cell_type": "code",
   "execution_count": 237,
   "id": "abcbb098-6a91-4075-9e19-584829702fb8",
   "metadata": {},
   "outputs": [
    {
     "name": "stdout",
     "output_type": "stream",
     "text": [
      "<class 'pandas.core.frame.DataFrame'>\n",
      "RangeIndex: 49685 entries, 0 to 49684\n",
      "Data columns (total 2 columns):\n",
      " #   Column        Non-Null Count  Dtype \n",
      "---  ------        --------------  ----- \n",
      " 0   product_name  49685 non-null  object\n",
      " 1   count         49685 non-null  int64 \n",
      "dtypes: int64(1), object(1)\n",
      "memory usage: 776.5+ KB\n"
     ]
    }
   ],
   "source": [
    "product_name_df.info()"
   ]
  },
  {
   "cell_type": "code",
   "execution_count": 238,
   "id": "55bd5d1a-7d10-4fa9-93fd-6126c43b85e4",
   "metadata": {},
   "outputs": [
    {
     "data": {
      "image/png": "[encoded data removed]",
      "text/plain": [
       "<Figure size 1200x600 with 1 Axes>"
      ]
     },
     "metadata": {},
     "output_type": "display_data"
    }
   ],
   "source": [
    "top_n = 15\n",
    "plt.figure(figsize=(12, 6))\n",
    "bar_plot = sns.barplot(data=product_name_df.head(top_n), x='product_name', y='count')\n",
    "for index, count in enumerate(product_name_df.head(top_n)['count']):\n",
    "    bar_plot.text(index, count, s=f'{count}', color='black', ha=\"center\")\n",
    "# plt.tight_layout()\n",
    "plt.title(f'Top {top_n} Most Popular Products')\n",
    "plt.xlabel('Product Name')\n",
    "plt.ylabel('Number of Orders')\n",
    "plt.xticks(rotation=90)\n",
    "plt.tight_layout()\n",
    "plt.savefig('images/top_most_popular_products.png')\n",
    "plt.show()\n"
   ]
  },
  {
   "cell_type": "markdown",
   "id": "e7755719-c717-4bbe-9869-d52b9547bb86",
   "metadata": {},
   "source": [
    "### Which products are reordered the most"
   ]
  },
  {
   "cell_type": "code",
   "execution_count": 243,
   "id": "f0071b76-9577-4a62-bb6f-7aa3de70f64c",
   "metadata": {},
   "outputs": [],
   "source": [
    "products_reordered_df = orders_products_extended.loc[orders_products_extended['reordered'] == 1]['product_name'].\\\n",
    "    value_counts().reset_index()"
   ]
  },
  {
   "cell_type": "code",
   "execution_count": 244,
   "id": "c2649635-421f-4c96-a165-a17d94603d45",
   "metadata": {},
   "outputs": [
    {
     "name": "stdout",
     "output_type": "stream",
     "text": [
      "<class 'pandas.core.frame.DataFrame'>\n",
      "RangeIndex: 45603 entries, 0 to 45602\n",
      "Data columns (total 2 columns):\n",
      " #   Column        Non-Null Count  Dtype \n",
      "---  ------        --------------  ----- \n",
      " 0   product_name  45603 non-null  object\n",
      " 1   count         45603 non-null  int64 \n",
      "dtypes: int64(1), object(1)\n",
      "memory usage: 712.7+ KB\n"
     ]
    }
   ],
   "source": [
    "products_reordered_df.info()"
   ]
  },
  {
   "cell_type": "code",
   "execution_count": 247,
   "id": "7980a65d-d0fb-4269-a8d8-1d62f605752a",
   "metadata": {},
   "outputs": [
    {
     "data": {
      "image/png": "[encoded data removed]",
      "text/plain": [
       "<Figure size 1200x600 with 1 Axes>"
      ]
     },
     "metadata": {},
     "output_type": "display_data"
    }
   ],
   "source": [
    "top_n = 15\n",
    "plt.figure(figsize=(12, 6))\n",
    "bar_plot = sns.barplot(data=products_reordered_df.head(top_n), x='product_name', y='count')\n",
    "for index, count in enumerate(products_reordered_df.head(top_n)['count']):\n",
    "    bar_plot.text(index, count, s=f'{count}', color='black', ha=\"center\")\n",
    "# plt.tight_layout()\n",
    "plt.title(f'Top {top_n} Most Reordered Products')\n",
    "plt.xlabel('Product Name')\n",
    "plt.ylabel('Number of Orders')\n",
    "plt.xticks(rotation=90)\n",
    "plt.tight_layout()\n",
    "plt.savefig('images/top_most_reordered_products.png')\n",
    "plt.show()"
   ]
  },
  {
   "cell_type": "markdown",
   "id": "7a3fd42a-6702-47a0-bd71-fdc588c23566",
   "metadata": {},
   "source": [
    "### How often products are reordered using histogram"
   ]
  },
  {
   "cell_type": "code",
   "execution_count": 250,
   "id": "874a6827-f89c-48b6-9ed9-9ad0bf62c565",
   "metadata": {},
   "outputs": [
    {
     "name": "stdout",
     "output_type": "stream",
     "text": [
      "CPU times: user 3.1 s, sys: 47.4 ms, total: 3.14 s\n",
      "Wall time: 3.13 s\n"
     ]
    }
   ],
   "source": [
    "%%time\n",
    "products_reordered = orders_products_extended['product_name'].value_counts().reset_index()"
   ]
  },
  {
   "cell_type": "code",
   "execution_count": 251,
   "id": "f942b981-0105-4b76-8c47-4b947e2fa0bd",
   "metadata": {},
   "outputs": [
    {
     "data": {
      "text/html": [
       "<div>\n",
       "<style scoped>\n",
       "    .dataframe tbody tr th:only-of-type {\n",
       "        vertical-align: middle;\n",
       "    }\n",
       "\n",
       "    .dataframe tbody tr th {\n",
       "        vertical-align: top;\n",
       "    }\n",
       "\n",
       "    .dataframe thead th {\n",
       "        text-align: right;\n",
       "    }\n",
       "</style>\n",
       "<table border=\"1\" class=\"dataframe\">\n",
       "  <thead>\n",
       "    <tr style=\"text-align: right;\">\n",
       "      <th></th>\n",
       "      <th>product_name</th>\n",
       "      <th>count</th>\n",
       "    </tr>\n",
       "  </thead>\n",
       "  <tbody>\n",
       "    <tr>\n",
       "      <th>0</th>\n",
       "      <td>Banana</td>\n",
       "      <td>491291</td>\n",
       "    </tr>\n",
       "    <tr>\n",
       "      <th>1</th>\n",
       "      <td>Bag of Organic Bananas</td>\n",
       "      <td>394930</td>\n",
       "    </tr>\n",
       "    <tr>\n",
       "      <th>2</th>\n",
       "      <td>Organic Strawberries</td>\n",
       "      <td>275577</td>\n",
       "    </tr>\n",
       "    <tr>\n",
       "      <th>3</th>\n",
       "      <td>Organic Baby Spinach</td>\n",
       "      <td>251705</td>\n",
       "    </tr>\n",
       "    <tr>\n",
       "      <th>4</th>\n",
       "      <td>Organic Hass Avocado</td>\n",
       "      <td>220877</td>\n",
       "    </tr>\n",
       "  </tbody>\n",
       "</table>\n",
       "</div>"
      ],
      "text/plain": [
       "             product_name   count\n",
       "0                  Banana  491291\n",
       "1  Bag of Organic Bananas  394930\n",
       "2    Organic Strawberries  275577\n",
       "3    Organic Baby Spinach  251705\n",
       "4    Organic Hass Avocado  220877"
      ]
     },
     "execution_count": 251,
     "metadata": {},
     "output_type": "execute_result"
    }
   ],
   "source": [
    "products_reordered.head()"
   ]
  },
  {
   "cell_type": "code",
   "execution_count": 254,
   "id": "9d32e715-bdd3-4bff-8792-185651f0bf12",
   "metadata": {},
   "outputs": [],
   "source": [
    "products_reordered['count'] = products_reordered['count'].apply(lambda x: min(x, 500))"
   ]
  },
  {
   "cell_type": "code",
   "execution_count": 256,
   "id": "6baf3e63-115d-4152-b699-57b5d4322c47",
   "metadata": {},
   "outputs": [
    {
     "data": {
      "image/png": "[encoded data removed]",
      "text/plain": [
       "<Figure size 1000x800 with 1 Axes>"
      ]
     },
     "metadata": {},
     "output_type": "display_data"
    },
    {
     "name": "stdout",
     "output_type": "stream",
     "text": [
      "CPU times: user 499 ms, sys: 87.3 ms, total: 586 ms\n",
      "Wall time: 324 ms\n"
     ]
    }
   ],
   "source": [
    "%%time\n",
    "plt.figure(figsize=(10, 8))\n",
    "sns.histplot(data=products_reordered['count'], bins=50)\n",
    "plt.title(f'Reordered Products Histogram')\n",
    "plt.xlabel('Reordered Products Count')\n",
    "plt.ylabel('Count')\n",
    "plt.tight_layout()\n",
    "plt.savefig('images/reordered_products_histo.png')\n",
    "plt.show()"
   ]
  },
  {
   "cell_type": "markdown",
   "id": "9989c720-73a1-4112-92ee-85805e728ad9",
   "metadata": {},
   "source": [
    "### Which Aisles and Departments have more products"
   ]
  },
  {
   "cell_type": "code",
   "execution_count": 260,
   "id": "724d3110-a797-4c43-b8bf-fb82f4ec245c",
   "metadata": {},
   "outputs": [
    {
     "data": {
      "text/html": [
       "<div>\n",
       "<style scoped>\n",
       "    .dataframe tbody tr th:only-of-type {\n",
       "        vertical-align: middle;\n",
       "    }\n",
       "\n",
       "    .dataframe tbody tr th {\n",
       "        vertical-align: top;\n",
       "    }\n",
       "\n",
       "    .dataframe thead th {\n",
       "        text-align: right;\n",
       "    }\n",
       "</style>\n",
       "<table border=\"1\" class=\"dataframe\">\n",
       "  <thead>\n",
       "    <tr style=\"text-align: right;\">\n",
       "      <th></th>\n",
       "      <th>product_id</th>\n",
       "      <th>product_name</th>\n",
       "      <th>aisle_id</th>\n",
       "      <th>department_id</th>\n",
       "      <th>aisle</th>\n",
       "      <th>department</th>\n",
       "    </tr>\n",
       "  </thead>\n",
       "  <tbody>\n",
       "    <tr>\n",
       "      <th>0</th>\n",
       "      <td>1</td>\n",
       "      <td>Chocolate Sandwich Cookies</td>\n",
       "      <td>61</td>\n",
       "      <td>19</td>\n",
       "      <td>cookies cakes</td>\n",
       "      <td>snacks</td>\n",
       "    </tr>\n",
       "    <tr>\n",
       "      <th>1</th>\n",
       "      <td>2</td>\n",
       "      <td>All-Seasons Salt</td>\n",
       "      <td>104</td>\n",
       "      <td>13</td>\n",
       "      <td>spices seasonings</td>\n",
       "      <td>pantry</td>\n",
       "    </tr>\n",
       "    <tr>\n",
       "      <th>2</th>\n",
       "      <td>3</td>\n",
       "      <td>Robust Golden Unsweetened Oolong Tea</td>\n",
       "      <td>94</td>\n",
       "      <td>7</td>\n",
       "      <td>tea</td>\n",
       "      <td>beverages</td>\n",
       "    </tr>\n",
       "    <tr>\n",
       "      <th>3</th>\n",
       "      <td>4</td>\n",
       "      <td>Smart Ones Classic Favorites Mini Rigatoni Wit...</td>\n",
       "      <td>38</td>\n",
       "      <td>1</td>\n",
       "      <td>frozen meals</td>\n",
       "      <td>frozen</td>\n",
       "    </tr>\n",
       "    <tr>\n",
       "      <th>4</th>\n",
       "      <td>5</td>\n",
       "      <td>Green Chile Anytime Sauce</td>\n",
       "      <td>5</td>\n",
       "      <td>13</td>\n",
       "      <td>marinades meat preparation</td>\n",
       "      <td>pantry</td>\n",
       "    </tr>\n",
       "  </tbody>\n",
       "</table>\n",
       "</div>"
      ],
      "text/plain": [
       "   product_id                                       product_name  aisle_id  \\\n",
       "0           1                         Chocolate Sandwich Cookies        61   \n",
       "1           2                                   All-Seasons Salt       104   \n",
       "2           3               Robust Golden Unsweetened Oolong Tea        94   \n",
       "3           4  Smart Ones Classic Favorites Mini Rigatoni Wit...        38   \n",
       "4           5                          Green Chile Anytime Sauce         5   \n",
       "\n",
       "   department_id                       aisle department  \n",
       "0             19               cookies cakes     snacks  \n",
       "1             13           spices seasonings     pantry  \n",
       "2              7                         tea  beverages  \n",
       "3              1                frozen meals     frozen  \n",
       "4             13  marinades meat preparation     pantry  "
      ]
     },
     "execution_count": 260,
     "metadata": {},
     "output_type": "execute_result"
    }
   ],
   "source": [
    "inventory.head()"
   ]
  },
  {
   "cell_type": "code",
   "execution_count": 262,
   "id": "edef8c90-2a74-421a-85e7-ae307e6a67d8",
   "metadata": {},
   "outputs": [],
   "source": [
    "top_aisles = inventory.groupby('aisle').count()['product_id'].sort_values(ascending=False).reset_index()"
   ]
  },
  {
   "cell_type": "code",
   "execution_count": 264,
   "id": "8de2928a-4554-491d-979c-6fc341768ccb",
   "metadata": {},
   "outputs": [
    {
     "data": {
      "text/html": [
       "<div>\n",
       "<style scoped>\n",
       "    .dataframe tbody tr th:only-of-type {\n",
       "        vertical-align: middle;\n",
       "    }\n",
       "\n",
       "    .dataframe tbody tr th {\n",
       "        vertical-align: top;\n",
       "    }\n",
       "\n",
       "    .dataframe thead th {\n",
       "        text-align: right;\n",
       "    }\n",
       "</style>\n",
       "<table border=\"1\" class=\"dataframe\">\n",
       "  <thead>\n",
       "    <tr style=\"text-align: right;\">\n",
       "      <th></th>\n",
       "      <th>aisle</th>\n",
       "      <th>product_id</th>\n",
       "    </tr>\n",
       "  </thead>\n",
       "  <tbody>\n",
       "    <tr>\n",
       "      <th>0</th>\n",
       "      <td>missing</td>\n",
       "      <td>1258</td>\n",
       "    </tr>\n",
       "    <tr>\n",
       "      <th>1</th>\n",
       "      <td>candy chocolate</td>\n",
       "      <td>1246</td>\n",
       "    </tr>\n",
       "    <tr>\n",
       "      <th>2</th>\n",
       "      <td>ice cream ice</td>\n",
       "      <td>1091</td>\n",
       "    </tr>\n",
       "    <tr>\n",
       "      <th>3</th>\n",
       "      <td>vitamins supplements</td>\n",
       "      <td>1038</td>\n",
       "    </tr>\n",
       "    <tr>\n",
       "      <th>4</th>\n",
       "      <td>yogurt</td>\n",
       "      <td>1026</td>\n",
       "    </tr>\n",
       "  </tbody>\n",
       "</table>\n",
       "</div>"
      ],
      "text/plain": [
       "                  aisle  product_id\n",
       "0               missing        1258\n",
       "1       candy chocolate        1246\n",
       "2         ice cream ice        1091\n",
       "3  vitamins supplements        1038\n",
       "4                yogurt        1026"
      ]
     },
     "execution_count": 264,
     "metadata": {},
     "output_type": "execute_result"
    }
   ],
   "source": [
    "top_aisles.head()"
   ]
  },
  {
   "cell_type": "code",
   "execution_count": 266,
   "id": "3a9bf763-a6f4-4bb6-a527-3cc038bbc076",
   "metadata": {},
   "outputs": [
    {
     "data": {
      "image/png": "[encoded data removed]",
      "text/plain": [
       "<Figure size 1000x600 with 1 Axes>"
      ]
     },
     "metadata": {},
     "output_type": "display_data"
    }
   ],
   "source": [
    "plt.figure(figsize=(10, 6))\n",
    "bar_plot = sns.barplot(data=top_aisles.head(20), x='aisle', y='product_id', palette='rocket', hue='aisle')\n",
    "for index, value in enumerate(top_aisles.head(20)['product_id']):\n",
    "    bar_plot.text(x=index, y=value, s=f'{value}', ha='center')\n",
    "plt.title('Aisles with more products')\n",
    "plt.xlabel('Aisle')\n",
    "plt.ylabel('Products Count')\n",
    "plt.xticks(rotation=90)\n",
    "plt.tight_layout()\n",
    "plt.savefig('images/aisles_with_products.png')\n",
    "plt.show()"
   ]
  },
  {
   "cell_type": "code",
   "execution_count": 268,
   "id": "13b30a38-87f5-4194-a39d-fec8c9b2709f",
   "metadata": {},
   "outputs": [],
   "source": [
    "top_departments = inventory.groupby('department').count()['product_id'].sort_values(ascending=False).reset_index()"
   ]
  },
  {
   "cell_type": "code",
   "execution_count": 270,
   "id": "e2a51a7a-6020-44f9-b474-1f8c118ea971",
   "metadata": {},
   "outputs": [
    {
     "data": {
      "text/html": [
       "<div>\n",
       "<style scoped>\n",
       "    .dataframe tbody tr th:only-of-type {\n",
       "        vertical-align: middle;\n",
       "    }\n",
       "\n",
       "    .dataframe tbody tr th {\n",
       "        vertical-align: top;\n",
       "    }\n",
       "\n",
       "    .dataframe thead th {\n",
       "        text-align: right;\n",
       "    }\n",
       "</style>\n",
       "<table border=\"1\" class=\"dataframe\">\n",
       "  <thead>\n",
       "    <tr style=\"text-align: right;\">\n",
       "      <th></th>\n",
       "      <th>department</th>\n",
       "      <th>product_id</th>\n",
       "    </tr>\n",
       "  </thead>\n",
       "  <tbody>\n",
       "    <tr>\n",
       "      <th>0</th>\n",
       "      <td>personal care</td>\n",
       "      <td>6563</td>\n",
       "    </tr>\n",
       "    <tr>\n",
       "      <th>1</th>\n",
       "      <td>snacks</td>\n",
       "      <td>6264</td>\n",
       "    </tr>\n",
       "    <tr>\n",
       "      <th>2</th>\n",
       "      <td>pantry</td>\n",
       "      <td>5371</td>\n",
       "    </tr>\n",
       "    <tr>\n",
       "      <th>3</th>\n",
       "      <td>beverages</td>\n",
       "      <td>4365</td>\n",
       "    </tr>\n",
       "    <tr>\n",
       "      <th>4</th>\n",
       "      <td>frozen</td>\n",
       "      <td>4007</td>\n",
       "    </tr>\n",
       "  </tbody>\n",
       "</table>\n",
       "</div>"
      ],
      "text/plain": [
       "      department  product_id\n",
       "0  personal care        6563\n",
       "1         snacks        6264\n",
       "2         pantry        5371\n",
       "3      beverages        4365\n",
       "4         frozen        4007"
      ]
     },
     "execution_count": 270,
     "metadata": {},
     "output_type": "execute_result"
    }
   ],
   "source": [
    "top_departments.head()"
   ]
  },
  {
   "cell_type": "code",
   "execution_count": 272,
   "id": "e3f3e0ee-8581-4465-a607-dfdd333336a6",
   "metadata": {},
   "outputs": [
    {
     "data": {
      "image/png": "[encoded data removed]",
      "text/plain": [
       "<Figure size 1000x600 with 1 Axes>"
      ]
     },
     "metadata": {},
     "output_type": "display_data"
    }
   ],
   "source": [
    "plt.figure(figsize=(10, 6))\n",
    "bar_plot = sns.barplot(data=top_departments, x='department', y='product_id', palette='rocket', hue='department')\n",
    "for index, value in enumerate(top_departments['product_id']):\n",
    "    bar_plot.text(x=index, y=value, s=f'{value}', ha='center')\n",
    "plt.title('Departments with more products')\n",
    "plt.xlabel('Departments')\n",
    "plt.ylabel('Products Count')\n",
    "plt.xticks(rotation=90)\n",
    "plt.tight_layout()\n",
    "plt.savefig('images/departments_with_products.png')\n",
    "plt.show()"
   ]
  },
  {
   "cell_type": "markdown",
   "id": "fd90ff13-eafc-4868-bb96-70d48a6ec7c6",
   "metadata": {},
   "source": [
    "### Product Treemap by Department and Aisle"
   ]
  },
  {
   "cell_type": "code",
   "execution_count": 277,
   "id": "23e75731-72f4-4b1a-a90a-c8451b763da8",
   "metadata": {},
   "outputs": [
    {
     "data": {
      "application/vnd.plotly.v1+json": {
       "config": {
        "plotlyServerURL": "https://plot.ly"
       },
       "data": [
        {
         "branchvalues": "total",
         "customdata": [
          [
           "international"
          ],
          [
           "bakery"
          ],
          [
           "pantry"
          ],
          [
           "pantry"
          ],
          [
           "personal care"
          ],
          [
           "bakery"
          ],
          [
           "breakfast"
          ],
          [
           "alcohol"
          ],
          [
           "bakery"
          ],
          [
           "dairy eggs"
          ],
          [
           "snacks"
          ],
          [
           "canned goods"
          ],
          [
           "canned goods"
          ],
          [
           "canned goods"
          ],
          [
           "pantry"
          ],
          [
           "snacks"
          ],
          [
           "beverages"
          ],
          [
           "beverages"
          ],
          [
           "snacks"
          ],
          [
           "breakfast"
          ],
          [
           "canned goods"
          ],
          [
           "household"
          ],
          [
           "snacks"
          ],
          [
           "dairy eggs"
          ],
          [
           "personal care"
          ],
          [
           "babies"
          ],
          [
           "pantry"
          ],
          [
           "personal care"
          ],
          [
           "snacks"
          ],
          [
           "beverages"
          ],
          [
           "personal care"
          ],
          [
           "personal care"
          ],
          [
           "personal care"
          ],
          [
           "frozen"
          ],
          [
           "frozen"
          ],
          [
           "frozen"
          ],
          [
           "frozen"
          ],
          [
           "frozen"
          ],
          [
           "produce"
          ],
          [
           "dry goods pasta"
          ],
          [
           "produce"
          ],
          [
           "produce"
          ],
          [
           "deli"
          ],
          [
           "frozen"
          ],
          [
           "frozen"
          ],
          [
           "frozen"
          ],
          [
           "frozen"
          ],
          [
           "frozen"
          ],
          [
           "international"
          ],
          [
           "pantry"
          ],
          [
           "snacks"
          ],
          [
           "dry goods pasta"
          ],
          [
           "breakfast"
          ],
          [
           "pantry"
          ],
          [
           "other"
          ],
          [
           "personal care"
          ],
          [
           "missing"
          ],
          [
           "deli"
          ],
          [
           "dry goods pasta"
          ],
          [
           "international"
          ],
          [
           "international"
          ],
          [
           "household"
          ],
          [
           "beverages"
          ],
          [
           "household"
          ],
          [
           "produce"
          ],
          [
           "pantry"
          ],
          [
           "dry goods pasta"
          ],
          [
           "household"
          ],
          [
           "meat seafood"
          ],
          [
           "meat seafood"
          ],
          [
           "meat seafood"
          ],
          [
           "produce"
          ],
          [
           "dairy eggs"
          ],
          [
           "dairy eggs"
          ],
          [
           "household"
          ],
          [
           "snacks"
          ],
          [
           "meat seafood"
          ],
          [
           "deli"
          ],
          [
           "meat seafood"
          ],
          [
           "pantry"
          ],
          [
           "dairy eggs"
          ],
          [
           "beverages"
          ],
          [
           "personal care"
          ],
          [
           "pantry"
          ],
          [
           "deli"
          ],
          [
           "personal care"
          ],
          [
           "dairy eggs"
          ],
          [
           "household"
          ],
          [
           "dairy eggs"
          ],
          [
           "alcohol"
          ],
          [
           "beverages"
          ],
          [
           "personal care"
          ],
          [
           "household"
          ],
          [
           "pantry"
          ],
          [
           "bakery"
          ],
          [
           "pantry"
          ],
          [
           "alcohol"
          ],
          [
           "alcohol"
          ],
          [
           "snacks"
          ],
          [
           "pets"
          ],
          [
           "personal care"
          ],
          [
           "household"
          ],
          [
           "breakfast"
          ],
          [
           "personal care"
          ],
          [
           "dairy eggs"
          ],
          [
           "dry goods pasta"
          ],
          [
           "household"
          ],
          [
           "babies"
          ],
          [
           "pets"
          ],
          [
           "bakery"
          ],
          [
           "bulk"
          ],
          [
           "bulk"
          ],
          [
           "personal care"
          ],
          [
           "babies"
          ],
          [
           "babies"
          ],
          [
           "personal care"
          ],
          [
           "meat seafood"
          ],
          [
           "frozen"
          ],
          [
           "household"
          ],
          [
           "snacks"
          ],
          [
           "dairy eggs"
          ],
          [
           "snacks"
          ],
          [
           "meat seafood"
          ],
          [
           "beverages"
          ],
          [
           "snacks"
          ],
          [
           "pantry"
          ],
          [
           "personal care"
          ],
          [
           "alcohol"
          ],
          [
           "personal care"
          ],
          [
           "personal care"
          ],
          [
           "beverages"
          ],
          [
           "canned goods"
          ],
          [
           "dairy eggs"
          ],
          [
           "deli"
          ],
          [
           "alcohol"
          ],
          [
           "babies"
          ],
          [
           "bakery"
          ],
          [
           "beverages"
          ],
          [
           "breakfast"
          ],
          [
           "bulk"
          ],
          [
           "canned goods"
          ],
          [
           "dairy eggs"
          ],
          [
           "deli"
          ],
          [
           "dry goods pasta"
          ],
          [
           "frozen"
          ],
          [
           "household"
          ],
          [
           "international"
          ],
          [
           "meat seafood"
          ],
          [
           "missing"
          ],
          [
           "other"
          ],
          [
           "pantry"
          ],
          [
           "personal care"
          ],
          [
           "pets"
          ],
          [
           "produce"
          ],
          [
           "snacks"
          ]
         ],
         "domain": {
          "x": [
           0,
           1
          ],
          "y": [
           0,
           1
          ]
         },
         "hovertemplate": "labels=%{label}<br>count=%{value}<br>parent=%{parent}<br>id=%{id}<br>department=%{customdata[0]}<extra></extra>",
         "ids": [
          "international/<br>asian<br>foods",
          "bakery/<br>bakery<br>desserts",
          "pantry/<br>baking<br>ingredients",
          "pantry/<br>baking<br>supplies<br>decor",
          "personal care/<br>beauty",
          "bakery/<br>breakfast<br>bakery",
          "breakfast/<br>breakfast<br>bars<br>pastries",
          "alcohol/<br>beers<br>coolers",
          "bakery/<br>bread",
          "dairy eggs/<br>butter",
          "snacks/<br>candy<br>chocolate",
          "canned goods/<br>canned<br>fruit<br>applesauce",
          "canned goods/<br>canned<br>jarred<br>vegetables",
          "canned goods/<br>canned<br>meals<br>beans",
          "pantry/<br>condiments",
          "snacks/<br>cookies<br>cakes",
          "beverages/<br>coffee",
          "beverages/<br>cocoa<br>drink<br>mixes",
          "snacks/<br>chips<br>pretzels",
          "breakfast/<br>cereal",
          "canned goods/<br>canned<br>meat<br>seafood",
          "household/<br>cleaning<br>products",
          "snacks/<br>crackers",
          "dairy eggs/<br>cream",
          "personal care/<br>deodorants",
          "babies/<br>diapers<br>wipes",
          "pantry/<br>doughs<br>gelatins<br>bake<br>mixes",
          "personal care/<br>digestion",
          "snacks/<br>energy<br>granola<br>bars",
          "beverages/<br>energy<br>sports<br>drinks",
          "personal care/<br>facial<br>care",
          "personal care/<br>feminine<br>care",
          "personal care/<br>first<br>aid",
          "frozen/<br>frozen<br>breakfast",
          "frozen/<br>frozen<br>breads<br>doughs",
          "frozen/<br>frozen<br>juice",
          "frozen/<br>frozen<br>dessert",
          "frozen/<br>frozen<br>appetizers<br>sides",
          "produce/<br>fresh<br>fruits",
          "dry goods pasta/<br>fresh<br>pasta",
          "produce/<br>fresh<br>herbs",
          "produce/<br>fresh<br>vegetables",
          "deli/<br>fresh<br>dips<br>tapenades",
          "frozen/<br>frozen<br>meals",
          "frozen/<br>frozen<br>meat<br>seafood",
          "frozen/<br>frozen<br>pizza",
          "frozen/<br>frozen<br>produce",
          "frozen/<br>frozen<br>vegan<br>vegetarian",
          "international/<br>indian<br>foods",
          "pantry/<br>honeys<br>syrups<br>nectars",
          "snacks/<br>fruit<br>vegetable<br>snacks",
          "dry goods pasta/<br>grains<br>rice<br>dried<br>goods",
          "breakfast/<br>granola",
          "pantry/<br>marinades<br>meat<br>preparation",
          "other/<br>other",
          "personal care/<br>muscles<br>joints<br>pain<br>relief",
          "missing/<br>missing",
          "deli/<br>lunch<br>meat",
          "dry goods pasta/<br>instant<br>foods",
          "international/<br>latino<br>foods",
          "international/<br>kosher<br>foods",
          "household/<br>kitchen<br>supplies",
          "beverages/<br>juice<br>nectars",
          "household/<br>laundry",
          "produce/<br>packaged<br>vegetables<br>fruits",
          "pantry/<br>pickled<br>goods<br>olives",
          "dry goods pasta/<br>pasta<br>sauce",
          "household/<br>paper<br>goods",
          "meat seafood/<br>packaged<br>seafood",
          "meat seafood/<br>packaged<br>meat",
          "meat seafood/<br>packaged<br>poultry",
          "produce/<br>packaged<br>produce",
          "dairy eggs/<br>packaged<br>cheese",
          "dairy eggs/<br>other<br>creams<br>cheeses",
          "household/<br>plates<br>bowls<br>cups<br>flatware",
          "snacks/<br>popcorn<br>jerky",
          "meat seafood/<br>poultry<br>counter",
          "deli/<br>prepared<br>meals",
          "meat seafood/<br>seafood<br>counter",
          "pantry/<br>salad<br>dressing<br>toppings",
          "dairy eggs/<br>refrigerated<br>pudding<br>desserts",
          "beverages/<br>refrigerated",
          "personal care/<br>protein<br>meal<br>replacements",
          "pantry/<br>preserved<br>dips<br>spreads",
          "deli/<br>prepared<br>soups<br>salads",
          "personal care/<br>shave<br>needs",
          "dairy eggs/<br>specialty<br>cheeses",
          "household/air<br>fresheners<br>candles",
          "dairy eggs/<br>yogurt",
          "alcohol/<br>white<br>wines",
          "beverages/<br>water<br>seltzer<br>sparkling<br>water",
          "personal care/<br>vitamins<br>supplements",
          "household/<br>trash<br>bags<br>liners",
          "pantry/<br>spices<br>seasonings",
          "bakery/<br>tortillas<br>flat<br>bread",
          "pantry/<br>spreads",
          "alcohol/<br>spirits",
          "alcohol/<br>specialty<br>wines<br>champagnes",
          "snacks/<br>trail<br>mix<br>snack<br>mix",
          "pets/dog<br>food<br>care",
          "personal care/hair<br>care",
          "household/food<br>storage",
          "breakfast/hot<br>cereal<br>pancake<br>mixes",
          "personal care/eye<br>ear<br>care",
          "dairy eggs/eggs",
          "dry goods pasta/dry<br>pasta",
          "household/dish<br>detergents",
          "babies/baby<br>food<br>formula",
          "pets/cat<br>food<br>care",
          "bakery/buns<br>rolls",
          "bulk/bulk<br>grains<br>rice<br>dried<br>goods",
          "bulk/bulk<br>dried<br>fruits<br>vegetables",
          "personal care/body<br>lotions<br>soap",
          "babies/baby<br>bath<br>body<br>care",
          "babies/baby<br>accessories",
          "personal care/cold<br>flu<br>allergy",
          "meat seafood/hot<br>dogs<br>bacon<br>sausage",
          "frozen/ice<br>cream<br>ice",
          "household/more<br>household",
          "snacks/mint<br>gum",
          "dairy eggs/milk",
          "snacks/ice<br>cream<br>toppings",
          "meat seafood/meat<br>counter",
          "beverages/tea",
          "snacks/nuts<br>seeds<br>dried<br>fruit",
          "pantry/oils<br>vinegars",
          "personal care/oral<br>hygiene",
          "alcohol/red<br>wines",
          "personal care/skin<br>care",
          "personal care/soap",
          "beverages/soft<br>drinks",
          "canned goods/soup<br>broth<br>bouillon",
          "dairy eggs/soy<br>lactosefree",
          "deli/tofu<br>meat<br>alternatives",
          "alcohol",
          "babies",
          "bakery",
          "beverages",
          "breakfast",
          "bulk",
          "canned goods",
          "dairy eggs",
          "deli",
          "dry goods pasta",
          "frozen",
          "household",
          "international",
          "meat seafood",
          "missing",
          "other",
          "pantry",
          "personal care",
          "pets",
          "produce",
          "snacks"
         ],
         "labels": [
          "<br>asian<br>foods",
          "<br>bakery<br>desserts",
          "<br>baking<br>ingredients",
          "<br>baking<br>supplies<br>decor",
          "<br>beauty",
          "<br>breakfast<br>bakery",
          "<br>breakfast<br>bars<br>pastries",
          "<br>beers<br>coolers",
          "<br>bread",
          "<br>butter",
          "<br>candy<br>chocolate",
          "<br>canned<br>fruit<br>applesauce",
          "<br>canned<br>jarred<br>vegetables",
          "<br>canned<br>meals<br>beans",
          "<br>condiments",
          "<br>cookies<br>cakes",
          "<br>coffee",
          "<br>cocoa<br>drink<br>mixes",
          "<br>chips<br>pretzels",
          "<br>cereal",
          "<br>canned<br>meat<br>seafood",
          "<br>cleaning<br>products",
          "<br>crackers",
          "<br>cream",
          "<br>deodorants",
          "<br>diapers<br>wipes",
          "<br>doughs<br>gelatins<br>bake<br>mixes",
          "<br>digestion",
          "<br>energy<br>granola<br>bars",
          "<br>energy<br>sports<br>drinks",
          "<br>facial<br>care",
          "<br>feminine<br>care",
          "<br>first<br>aid",
          "<br>frozen<br>breakfast",
          "<br>frozen<br>breads<br>doughs",
          "<br>frozen<br>juice",
          "<br>frozen<br>dessert",
          "<br>frozen<br>appetizers<br>sides",
          "<br>fresh<br>fruits",
          "<br>fresh<br>pasta",
          "<br>fresh<br>herbs",
          "<br>fresh<br>vegetables",
          "<br>fresh<br>dips<br>tapenades",
          "<br>frozen<br>meals",
          "<br>frozen<br>meat<br>seafood",
          "<br>frozen<br>pizza",
          "<br>frozen<br>produce",
          "<br>frozen<br>vegan<br>vegetarian",
          "<br>indian<br>foods",
          "<br>honeys<br>syrups<br>nectars",
          "<br>fruit<br>vegetable<br>snacks",
          "<br>grains<br>rice<br>dried<br>goods",
          "<br>granola",
          "<br>marinades<br>meat<br>preparation",
          "<br>other",
          "<br>muscles<br>joints<br>pain<br>relief",
          "<br>missing",
          "<br>lunch<br>meat",
          "<br>instant<br>foods",
          "<br>latino<br>foods",
          "<br>kosher<br>foods",
          "<br>kitchen<br>supplies",
          "<br>juice<br>nectars",
          "<br>laundry",
          "<br>packaged<br>vegetables<br>fruits",
          "<br>pickled<br>goods<br>olives",
          "<br>pasta<br>sauce",
          "<br>paper<br>goods",
          "<br>packaged<br>seafood",
          "<br>packaged<br>meat",
          "<br>packaged<br>poultry",
          "<br>packaged<br>produce",
          "<br>packaged<br>cheese",
          "<br>other<br>creams<br>cheeses",
          "<br>plates<br>bowls<br>cups<br>flatware",
          "<br>popcorn<br>jerky",
          "<br>poultry<br>counter",
          "<br>prepared<br>meals",
          "<br>seafood<br>counter",
          "<br>salad<br>dressing<br>toppings",
          "<br>refrigerated<br>pudding<br>desserts",
          "<br>refrigerated",
          "<br>protein<br>meal<br>replacements",
          "<br>preserved<br>dips<br>spreads",
          "<br>prepared<br>soups<br>salads",
          "<br>shave<br>needs",
          "<br>specialty<br>cheeses",
          "air<br>fresheners<br>candles",
          "<br>yogurt",
          "<br>white<br>wines",
          "<br>water<br>seltzer<br>sparkling<br>water",
          "<br>vitamins<br>supplements",
          "<br>trash<br>bags<br>liners",
          "<br>spices<br>seasonings",
          "<br>tortillas<br>flat<br>bread",
          "<br>spreads",
          "<br>spirits",
          "<br>specialty<br>wines<br>champagnes",
          "<br>trail<br>mix<br>snack<br>mix",
          "dog<br>food<br>care",
          "hair<br>care",
          "food<br>storage",
          "hot<br>cereal<br>pancake<br>mixes",
          "eye<br>ear<br>care",
          "eggs",
          "dry<br>pasta",
          "dish<br>detergents",
          "baby<br>food<br>formula",
          "cat<br>food<br>care",
          "buns<br>rolls",
          "bulk<br>grains<br>rice<br>dried<br>goods",
          "bulk<br>dried<br>fruits<br>vegetables",
          "body<br>lotions<br>soap",
          "baby<br>bath<br>body<br>care",
          "baby<br>accessories",
          "cold<br>flu<br>allergy",
          "hot<br>dogs<br>bacon<br>sausage",
          "ice<br>cream<br>ice",
          "more<br>household",
          "mint<br>gum",
          "milk",
          "ice<br>cream<br>toppings",
          "meat<br>counter",
          "tea",
          "nuts<br>seeds<br>dried<br>fruit",
          "oils<br>vinegars",
          "oral<br>hygiene",
          "red<br>wines",
          "skin<br>care",
          "soap",
          "soft<br>drinks",
          "soup<br>broth<br>bouillon",
          "soy<br>lactosefree",
          "tofu<br>meat<br>alternatives",
          "alcohol",
          "babies",
          "bakery",
          "beverages",
          "breakfast",
          "bulk",
          "canned goods",
          "dairy eggs",
          "deli",
          "dry goods pasta",
          "frozen",
          "household",
          "international",
          "meat seafood",
          "missing",
          "other",
          "pantry",
          "personal care",
          "pets",
          "produce",
          "snacks"
         ],
         "marker": {
          "colors": [
           "#636efa",
           "#EF553B",
           "#00cc96",
           "#00cc96",
           "#ab63fa",
           "#EF553B",
           "#FFA15A",
           "#19d3f3",
           "#EF553B",
           "#FF6692",
           "#B6E880",
           "#FF97FF",
           "#FF97FF",
           "#FF97FF",
           "#00cc96",
           "#B6E880",
           "#FECB52",
           "#FECB52",
           "#B6E880",
           "#FFA15A",
           "#FF97FF",
           "#636efa",
           "#B6E880",
           "#FF6692",
           "#ab63fa",
           "#EF553B",
           "#00cc96",
           "#ab63fa",
           "#B6E880",
           "#FECB52",
           "#ab63fa",
           "#ab63fa",
           "#ab63fa",
           "#00cc96",
           "#00cc96",
           "#00cc96",
           "#00cc96",
           "#00cc96",
           "#ab63fa",
           "#FFA15A",
           "#ab63fa",
           "#ab63fa",
           "#19d3f3",
           "#00cc96",
           "#00cc96",
           "#00cc96",
           "#00cc96",
           "#00cc96",
           "#636efa",
           "#00cc96",
           "#B6E880",
           "#FFA15A",
           "#FFA15A",
           "#00cc96",
           "#FF6692",
           "#ab63fa",
           "#B6E880",
           "#19d3f3",
           "#FFA15A",
           "#636efa",
           "#636efa",
           "#636efa",
           "#FECB52",
           "#636efa",
           "#ab63fa",
           "#00cc96",
           "#FFA15A",
           "#636efa",
           "#FF97FF",
           "#FF97FF",
           "#FF97FF",
           "#ab63fa",
           "#FF6692",
           "#FF6692",
           "#636efa",
           "#B6E880",
           "#FF97FF",
           "#19d3f3",
           "#FF97FF",
           "#00cc96",
           "#FF6692",
           "#FECB52",
           "#ab63fa",
           "#00cc96",
           "#19d3f3",
           "#ab63fa",
           "#FF6692",
           "#636efa",
           "#FF6692",
           "#19d3f3",
           "#FECB52",
           "#ab63fa",
           "#636efa",
           "#00cc96",
           "#EF553B",
           "#00cc96",
           "#19d3f3",
           "#19d3f3",
           "#B6E880",
           "#FECB52",
           "#ab63fa",
           "#636efa",
           "#FFA15A",
           "#ab63fa",
           "#FF6692",
           "#FFA15A",
           "#636efa",
           "#EF553B",
           "#FECB52",
           "#EF553B",
           "#636efa",
           "#636efa",
           "#ab63fa",
           "#EF553B",
           "#EF553B",
           "#ab63fa",
           "#FF97FF",
           "#00cc96",
           "#636efa",
           "#B6E880",
           "#FF6692",
           "#B6E880",
           "#FF97FF",
           "#FECB52",
           "#B6E880",
           "#00cc96",
           "#ab63fa",
           "#19d3f3",
           "#ab63fa",
           "#ab63fa",
           "#FECB52",
           "#FF97FF",
           "#FF6692",
           "#19d3f3",
           "#19d3f3",
           "#EF553B",
           "#EF553B",
           "#FECB52",
           "#FFA15A",
           "#636efa",
           "#FF97FF",
           "#FF6692",
           "#19d3f3",
           "#FFA15A",
           "#00cc96",
           "#636efa",
           "#636efa",
           "#FF97FF",
           "#B6E880",
           "#FF6692",
           "#00cc96",
           "#ab63fa",
           "#FECB52",
           "#ab63fa",
           "#B6E880"
          ]
         },
         "name": "",
         "parents": [
          "international",
          "bakery",
          "pantry",
          "pantry",
          "personal care",
          "bakery",
          "breakfast",
          "alcohol",
          "bakery",
          "dairy eggs",
          "snacks",
          "canned goods",
          "canned goods",
          "canned goods",
          "pantry",
          "snacks",
          "beverages",
          "beverages",
          "snacks",
          "breakfast",
          "canned goods",
          "household",
          "snacks",
          "dairy eggs",
          "personal care",
          "babies",
          "pantry",
          "personal care",
          "snacks",
          "beverages",
          "personal care",
          "personal care",
          "personal care",
          "frozen",
          "frozen",
          "frozen",
          "frozen",
          "frozen",
          "produce",
          "dry goods pasta",
          "produce",
          "produce",
          "deli",
          "frozen",
          "frozen",
          "frozen",
          "frozen",
          "frozen",
          "international",
          "pantry",
          "snacks",
          "dry goods pasta",
          "breakfast",
          "pantry",
          "other",
          "personal care",
          "missing",
          "deli",
          "dry goods pasta",
          "international",
          "international",
          "household",
          "beverages",
          "household",
          "produce",
          "pantry",
          "dry goods pasta",
          "household",
          "meat seafood",
          "meat seafood",
          "meat seafood",
          "produce",
          "dairy eggs",
          "dairy eggs",
          "household",
          "snacks",
          "meat seafood",
          "deli",
          "meat seafood",
          "pantry",
          "dairy eggs",
          "beverages",
          "personal care",
          "pantry",
          "deli",
          "personal care",
          "dairy eggs",
          "household",
          "dairy eggs",
          "alcohol",
          "beverages",
          "personal care",
          "household",
          "pantry",
          "bakery",
          "pantry",
          "alcohol",
          "alcohol",
          "snacks",
          "pets",
          "personal care",
          "household",
          "breakfast",
          "personal care",
          "dairy eggs",
          "dry goods pasta",
          "household",
          "babies",
          "pets",
          "bakery",
          "bulk",
          "bulk",
          "personal care",
          "babies",
          "babies",
          "personal care",
          "meat seafood",
          "frozen",
          "household",
          "snacks",
          "dairy eggs",
          "snacks",
          "meat seafood",
          "beverages",
          "snacks",
          "pantry",
          "personal care",
          "alcohol",
          "personal care",
          "personal care",
          "beverages",
          "canned goods",
          "dairy eggs",
          "deli",
          "",
          "",
          "",
          "",
          "",
          "",
          "",
          "",
          "",
          "",
          "",
          "",
          "",
          "",
          "",
          "",
          "",
          "",
          "",
          "",
          ""
         ],
         "type": "treemap",
         "values": [
          605,
          297,
          623,
          290,
          178,
          226,
          173,
          385,
          557,
          150,
          1246,
          243,
          487,
          342,
          466,
          874,
          680,
          223,
          989,
          454,
          283,
          655,
          747,
          161,
          317,
          187,
          463,
          338,
          832,
          294,
          277,
          285,
          240,
          296,
          81,
          47,
          112,
          386,
          382,
          123,
          86,
          569,
          327,
          880,
          229,
          335,
          361,
          189,
          108,
          229,
          356,
          336,
          185,
          409,
          548,
          172,
          1258,
          373,
          543,
          257,
          169,
          218,
          792,
          506,
          615,
          402,
          399,
          322,
          80,
          100,
          99,
          32,
          891,
          191,
          199,
          316,
          82,
          317,
          54,
          560,
          98,
          675,
          325,
          264,
          146,
          198,
          271,
          355,
          1026,
          147,
          344,
          1038,
          112,
          797,
          241,
          493,
          195,
          95,
          69,
          473,
          816,
          206,
          303,
          113,
          125,
          457,
          204,
          718,
          499,
          195,
          26,
          12,
          504,
          132,
          44,
          427,
          387,
          1091,
          308,
          168,
          243,
          85,
          105,
          894,
          582,
          375,
          565,
          232,
          245,
          525,
          463,
          737,
          293,
          159,
          1054,
          1081,
          1516,
          4365,
          1115,
          38,
          2092,
          3449,
          1322,
          1858,
          4007,
          3085,
          1139,
          907,
          1258,
          548,
          5371,
          6563,
          972,
          1684,
          6264
         ]
        }
       ],
       "layout": {
        "height": 800,
        "legend": {
         "tracegroupgap": 0
        },
        "template": {
         "data": {
          "bar": [
           {
            "error_x": {
             "color": "#2a3f5f"
            },
            "error_y": {
             "color": "#2a3f5f"
            },
            "marker": {
             "line": {
              "color": "#E5ECF6",
              "width": 0.5
             },
             "pattern": {
              "fillmode": "overlay",
              "size": 10,
              "solidity": 0.2
             }
            },
            "type": "bar"
           }
          ],
          "barpolar": [
           {
            "marker": {
             "line": {
              "color": "#E5ECF6",
              "width": 0.5
             },
             "pattern": {
              "fillmode": "overlay",
              "size": 10,
              "solidity": 0.2
             }
            },
            "type": "barpolar"
           }
          ],
          "carpet": [
           {
            "aaxis": {
             "endlinecolor": "#2a3f5f",
             "gridcolor": "white",
             "linecolor": "white",
             "minorgridcolor": "white",
             "startlinecolor": "#2a3f5f"
            },
            "baxis": {
             "endlinecolor": "#2a3f5f",
             "gridcolor": "white",
             "linecolor": "white",
             "minorgridcolor": "white",
             "startlinecolor": "#2a3f5f"
            },
            "type": "carpet"
           }
          ],
          "choropleth": [
           {
            "colorbar": {
             "outlinewidth": 0,
             "ticks": ""
            },
            "type": "choropleth"
           }
          ],
          "contour": [
           {
            "colorbar": {
             "outlinewidth": 0,
             "ticks": ""
            },
            "colorscale": [
             [
              0,
              "#0d0887"
             ],
             [
              0.1111111111111111,
              "#46039f"
             ],
             [
              0.2222222222222222,
              "#7201a8"
             ],
             [
              0.3333333333333333,
              "#9c179e"
             ],
             [
              0.4444444444444444,
              "#bd3786"
             ],
             [
              0.5555555555555556,
              "#d8576b"
             ],
             [
              0.6666666666666666,
              "#ed7953"
             ],
             [
              0.7777777777777778,
              "#fb9f3a"
             ],
             [
              0.8888888888888888,
              "#fdca26"
             ],
             [
              1,
              "#f0f921"
             ]
            ],
            "type": "contour"
           }
          ],
          "contourcarpet": [
           {
            "colorbar": {
             "outlinewidth": 0,
             "ticks": ""
            },
            "type": "contourcarpet"
           }
          ],
          "heatmap": [
           {
            "colorbar": {
             "outlinewidth": 0,
             "ticks": ""
            },
            "colorscale": [
             [
              0,
              "#0d0887"
             ],
             [
              0.1111111111111111,
              "#46039f"
             ],
             [
              0.2222222222222222,
              "#7201a8"
             ],
             [
              0.3333333333333333,
              "#9c179e"
             ],
             [
              0.4444444444444444,
              "#bd3786"
             ],
             [
              0.5555555555555556,
              "#d8576b"
             ],
             [
              0.6666666666666666,
              "#ed7953"
             ],
             [
              0.7777777777777778,
              "#fb9f3a"
             ],
             [
              0.8888888888888888,
              "#fdca26"
             ],
             [
              1,
              "#f0f921"
             ]
            ],
            "type": "heatmap"
           }
          ],
          "heatmapgl": [
           {
            "colorbar": {
             "outlinewidth": 0,
             "ticks": ""
            },
            "colorscale": [
             [
              0,
              "#0d0887"
             ],
             [
              0.1111111111111111,
              "#46039f"
             ],
             [
              0.2222222222222222,
              "#7201a8"
             ],
             [
              0.3333333333333333,
              "#9c179e"
             ],
             [
              0.4444444444444444,
              "#bd3786"
             ],
             [
              0.5555555555555556,
              "#d8576b"
             ],
             [
              0.6666666666666666,
              "#ed7953"
             ],
             [
              0.7777777777777778,
              "#fb9f3a"
             ],
             [
              0.8888888888888888,
              "#fdca26"
             ],
             [
              1,
              "#f0f921"
             ]
            ],
            "type": "heatmapgl"
           }
          ],
          "histogram": [
           {
            "marker": {
             "pattern": {
              "fillmode": "overlay",
              "size": 10,
              "solidity": 0.2
             }
            },
            "type": "histogram"
           }
          ],
          "histogram2d": [
           {
            "colorbar": {
             "outlinewidth": 0,
             "ticks": ""
            },
            "colorscale": [
             [
              0,
              "#0d0887"
             ],
             [
              0.1111111111111111,
              "#46039f"
             ],
             [
              0.2222222222222222,
              "#7201a8"
             ],
             [
              0.3333333333333333,
              "#9c179e"
             ],
             [
              0.4444444444444444,
              "#bd3786"
             ],
             [
              0.5555555555555556,
              "#d8576b"
             ],
             [
              0.6666666666666666,
              "#ed7953"
             ],
             [
              0.7777777777777778,
              "#fb9f3a"
             ],
             [
              0.8888888888888888,
              "#fdca26"
             ],
             [
              1,
              "#f0f921"
             ]
            ],
            "type": "histogram2d"
           }
          ],
          "histogram2dcontour": [
           {
            "colorbar": {
             "outlinewidth": 0,
             "ticks": ""
            },
            "colorscale": [
             [
              0,
              "#0d0887"
             ],
             [
              0.1111111111111111,
              "#46039f"
             ],
             [
              0.2222222222222222,
              "#7201a8"
             ],
             [
              0.3333333333333333,
              "#9c179e"
             ],
             [
              0.4444444444444444,
              "#bd3786"
             ],
             [
              0.5555555555555556,
              "#d8576b"
             ],
             [
              0.6666666666666666,
              "#ed7953"
             ],
             [
              0.7777777777777778,
              "#fb9f3a"
             ],
             [
              0.8888888888888888,
              "#fdca26"
             ],
             [
              1,
              "#f0f921"
             ]
            ],
            "type": "histogram2dcontour"
           }
          ],
          "mesh3d": [
           {
            "colorbar": {
             "outlinewidth": 0,
             "ticks": ""
            },
            "type": "mesh3d"
           }
          ],
          "parcoords": [
           {
            "line": {
             "colorbar": {
              "outlinewidth": 0,
              "ticks": ""
             }
            },
            "type": "parcoords"
           }
          ],
          "pie": [
           {
            "automargin": true,
            "type": "pie"
           }
          ],
          "scatter": [
           {
            "fillpattern": {
             "fillmode": "overlay",
             "size": 10,
             "solidity": 0.2
            },
            "type": "scatter"
           }
          ],
          "scatter3d": [
           {
            "line": {
             "colorbar": {
              "outlinewidth": 0,
              "ticks": ""
             }
            },
            "marker": {
             "colorbar": {
              "outlinewidth": 0,
              "ticks": ""
             }
            },
            "type": "scatter3d"
           }
          ],
          "scattercarpet": [
           {
            "marker": {
             "colorbar": {
              "outlinewidth": 0,
              "ticks": ""
             }
            },
            "type": "scattercarpet"
           }
          ],
          "scattergeo": [
           {
            "marker": {
             "colorbar": {
              "outlinewidth": 0,
              "ticks": ""
             }
            },
            "type": "scattergeo"
           }
          ],
          "scattergl": [
           {
            "marker": {
             "colorbar": {
              "outlinewidth": 0,
              "ticks": ""
             }
            },
            "type": "scattergl"
           }
          ],
          "scattermapbox": [
           {
            "marker": {
             "colorbar": {
              "outlinewidth": 0,
              "ticks": ""
             }
            },
            "type": "scattermapbox"
           }
          ],
          "scatterpolar": [
           {
            "marker": {
             "colorbar": {
              "outlinewidth": 0,
              "ticks": ""
             }
            },
            "type": "scatterpolar"
           }
          ],
          "scatterpolargl": [
           {
            "marker": {
             "colorbar": {
              "outlinewidth": 0,
              "ticks": ""
             }
            },
            "type": "scatterpolargl"
           }
          ],
          "scatterternary": [
           {
            "marker": {
             "colorbar": {
              "outlinewidth": 0,
              "ticks": ""
             }
            },
            "type": "scatterternary"
           }
          ],
          "surface": [
           {
            "colorbar": {
             "outlinewidth": 0,
             "ticks": ""
            },
            "colorscale": [
             [
              0,
              "#0d0887"
             ],
             [
              0.1111111111111111,
              "#46039f"
             ],
             [
              0.2222222222222222,
              "#7201a8"
             ],
             [
              0.3333333333333333,
              "#9c179e"
             ],
             [
              0.4444444444444444,
              "#bd3786"
             ],
             [
              0.5555555555555556,
              "#d8576b"
             ],
             [
              0.6666666666666666,
              "#ed7953"
             ],
             [
              0.7777777777777778,
              "#fb9f3a"
             ],
             [
              0.8888888888888888,
              "#fdca26"
             ],
             [
              1,
              "#f0f921"
             ]
            ],
            "type": "surface"
           }
          ],
          "table": [
           {
            "cells": {
             "fill": {
              "color": "#EBF0F8"
             },
             "line": {
              "color": "white"
             }
            },
            "header": {
             "fill": {
              "color": "#C8D4E3"
             },
             "line": {
              "color": "white"
             }
            },
            "type": "table"
           }
          ]
         },
         "layout": {
          "annotationdefaults": {
           "arrowcolor": "#2a3f5f",
           "arrowhead": 0,
           "arrowwidth": 1
          },
          "autotypenumbers": "strict",
          "coloraxis": {
           "colorbar": {
            "outlinewidth": 0,
            "ticks": ""
           }
          },
          "colorscale": {
           "diverging": [
            [
             0,
             "#8e0152"
            ],
            [
             0.1,
             "#c51b7d"
            ],
            [
             0.2,
             "#de77ae"
            ],
            [
             0.3,
             "#f1b6da"
            ],
            [
             0.4,
             "#fde0ef"
            ],
            [
             0.5,
             "#f7f7f7"
            ],
            [
             0.6,
             "#e6f5d0"
            ],
            [
             0.7,
             "#b8e186"
            ],
            [
             0.8,
             "#7fbc41"
            ],
            [
             0.9,
             "#4d9221"
            ],
            [
             1,
             "#276419"
            ]
           ],
           "sequential": [
            [
             0,
             "#0d0887"
            ],
            [
             0.1111111111111111,
             "#46039f"
            ],
            [
             0.2222222222222222,
             "#7201a8"
            ],
            [
             0.3333333333333333,
             "#9c179e"
            ],
            [
             0.4444444444444444,
             "#bd3786"
            ],
            [
             0.5555555555555556,
             "#d8576b"
            ],
            [
             0.6666666666666666,
             "#ed7953"
            ],
            [
             0.7777777777777778,
             "#fb9f3a"
            ],
            [
             0.8888888888888888,
             "#fdca26"
            ],
            [
             1,
             "#f0f921"
            ]
           ],
           "sequentialminus": [
            [
             0,
             "#0d0887"
            ],
            [
             0.1111111111111111,
             "#46039f"
            ],
            [
             0.2222222222222222,
             "#7201a8"
            ],
            [
             0.3333333333333333,
             "#9c179e"
            ],
            [
             0.4444444444444444,
             "#bd3786"
            ],
            [
             0.5555555555555556,
             "#d8576b"
            ],
            [
             0.6666666666666666,
             "#ed7953"
            ],
            [
             0.7777777777777778,
             "#fb9f3a"
            ],
            [
             0.8888888888888888,
             "#fdca26"
            ],
            [
             1,
             "#f0f921"
            ]
           ]
          },
          "colorway": [
           "#636efa",
           "#EF553B",
           "#00cc96",
           "#ab63fa",
           "#FFA15A",
           "#19d3f3",
           "#FF6692",
           "#B6E880",
           "#FF97FF",
           "#FECB52"
          ],
          "font": {
           "color": "#2a3f5f"
          },
          "geo": {
           "bgcolor": "white",
           "lakecolor": "white",
           "landcolor": "#E5ECF6",
           "showlakes": true,
           "showland": true,
           "subunitcolor": "white"
          },
          "hoverlabel": {
           "align": "left"
          },
          "hovermode": "closest",
          "mapbox": {
           "style": "light"
          },
          "paper_bgcolor": "white",
          "plot_bgcolor": "#E5ECF6",
          "polar": {
           "angularaxis": {
            "gridcolor": "white",
            "linecolor": "white",
            "ticks": ""
           },
           "bgcolor": "#E5ECF6",
           "radialaxis": {
            "gridcolor": "white",
            "linecolor": "white",
            "ticks": ""
           }
          },
          "scene": {
           "xaxis": {
            "backgroundcolor": "#E5ECF6",
            "gridcolor": "white",
            "gridwidth": 2,
            "linecolor": "white",
            "showbackground": true,
            "ticks": "",
            "zerolinecolor": "white"
           },
           "yaxis": {
            "backgroundcolor": "#E5ECF6",
            "gridcolor": "white",
            "gridwidth": 2,
            "linecolor": "white",
            "showbackground": true,
            "ticks": "",
            "zerolinecolor": "white"
           },
           "zaxis": {
            "backgroundcolor": "#E5ECF6",
            "gridcolor": "white",
            "gridwidth": 2,
            "linecolor": "white",
            "showbackground": true,
            "ticks": "",
            "zerolinecolor": "white"
           }
          },
          "shapedefaults": {
           "line": {
            "color": "#2a3f5f"
           }
          },
          "ternary": {
           "aaxis": {
            "gridcolor": "white",
            "linecolor": "white",
            "ticks": ""
           },
           "baxis": {
            "gridcolor": "white",
            "linecolor": "white",
            "ticks": ""
           },
           "bgcolor": "#E5ECF6",
           "caxis": {
            "gridcolor": "white",
            "linecolor": "white",
            "ticks": ""
           }
          },
          "title": {
           "x": 0.05
          },
          "xaxis": {
           "automargin": true,
           "gridcolor": "white",
           "linecolor": "white",
           "ticks": "",
           "title": {
            "standoff": 15
           },
           "zerolinecolor": "white",
           "zerolinewidth": 2
          },
          "yaxis": {
           "automargin": true,
           "gridcolor": "white",
           "linecolor": "white",
           "ticks": "",
           "title": {
            "standoff": 15
           },
           "zerolinecolor": "white",
           "zerolinewidth": 2
          }
         }
        },
        "title": {
         "text": "Product Treemap by Department and Aisle"
        },
        "width": 1100
       }
      },
      "image/png": "[encoded data removed]",
      "text/html": [
       "<div>                            <div id=\"e9a63141-e2ae-4854-8de3-93cb4aea1200\" class=\"plotly-graph-div\" style=\"height:800px; width:1100px;\"></div>            <script type=\"text/javascript\">                require([\"plotly\"], function(Plotly) {                    window.PLOTLYENV=window.PLOTLYENV || {};                                    if (document.getElementById(\"e9a63141-e2ae-4854-8de3-93cb4aea1200\")) {                    Plotly.newPlot(                        \"e9a63141-e2ae-4854-8de3-93cb4aea1200\",                        [{\"branchvalues\":\"total\",\"customdata\":[[\"international\"],[\"bakery\"],[\"pantry\"],[\"pantry\"],[\"personal care\"],[\"bakery\"],[\"breakfast\"],[\"alcohol\"],[\"bakery\"],[\"dairy eggs\"],[\"snacks\"],[\"canned goods\"],[\"canned goods\"],[\"canned goods\"],[\"pantry\"],[\"snacks\"],[\"beverages\"],[\"beverages\"],[\"snacks\"],[\"breakfast\"],[\"canned goods\"],[\"household\"],[\"snacks\"],[\"dairy eggs\"],[\"personal care\"],[\"babies\"],[\"pantry\"],[\"personal care\"],[\"snacks\"],[\"beverages\"],[\"personal care\"],[\"personal care\"],[\"personal care\"],[\"frozen\"],[\"frozen\"],[\"frozen\"],[\"frozen\"],[\"frozen\"],[\"produce\"],[\"dry goods pasta\"],[\"produce\"],[\"produce\"],[\"deli\"],[\"frozen\"],[\"frozen\"],[\"frozen\"],[\"frozen\"],[\"frozen\"],[\"international\"],[\"pantry\"],[\"snacks\"],[\"dry goods pasta\"],[\"breakfast\"],[\"pantry\"],[\"other\"],[\"personal care\"],[\"missing\"],[\"deli\"],[\"dry goods pasta\"],[\"international\"],[\"international\"],[\"household\"],[\"beverages\"],[\"household\"],[\"produce\"],[\"pantry\"],[\"dry goods pasta\"],[\"household\"],[\"meat seafood\"],[\"meat seafood\"],[\"meat seafood\"],[\"produce\"],[\"dairy eggs\"],[\"dairy eggs\"],[\"household\"],[\"snacks\"],[\"meat seafood\"],[\"deli\"],[\"meat seafood\"],[\"pantry\"],[\"dairy eggs\"],[\"beverages\"],[\"personal care\"],[\"pantry\"],[\"deli\"],[\"personal care\"],[\"dairy eggs\"],[\"household\"],[\"dairy eggs\"],[\"alcohol\"],[\"beverages\"],[\"personal care\"],[\"household\"],[\"pantry\"],[\"bakery\"],[\"pantry\"],[\"alcohol\"],[\"alcohol\"],[\"snacks\"],[\"pets\"],[\"personal care\"],[\"household\"],[\"breakfast\"],[\"personal care\"],[\"dairy eggs\"],[\"dry goods pasta\"],[\"household\"],[\"babies\"],[\"pets\"],[\"bakery\"],[\"bulk\"],[\"bulk\"],[\"personal care\"],[\"babies\"],[\"babies\"],[\"personal care\"],[\"meat seafood\"],[\"frozen\"],[\"household\"],[\"snacks\"],[\"dairy eggs\"],[\"snacks\"],[\"meat seafood\"],[\"beverages\"],[\"snacks\"],[\"pantry\"],[\"personal care\"],[\"alcohol\"],[\"personal care\"],[\"personal care\"],[\"beverages\"],[\"canned goods\"],[\"dairy eggs\"],[\"deli\"],[\"alcohol\"],[\"babies\"],[\"bakery\"],[\"beverages\"],[\"breakfast\"],[\"bulk\"],[\"canned goods\"],[\"dairy eggs\"],[\"deli\"],[\"dry goods pasta\"],[\"frozen\"],[\"household\"],[\"international\"],[\"meat seafood\"],[\"missing\"],[\"other\"],[\"pantry\"],[\"personal care\"],[\"pets\"],[\"produce\"],[\"snacks\"]],\"domain\":{\"x\":[0.0,1.0],\"y\":[0.0,1.0]},\"hovertemplate\":\"labels=%{label}\\u003cbr\\u003ecount=%{value}\\u003cbr\\u003eparent=%{parent}\\u003cbr\\u003eid=%{id}\\u003cbr\\u003edepartment=%{customdata[0]}\\u003cextra\\u003e\\u003c\\u002fextra\\u003e\",\"ids\":[\"international\\u002f\\u003cbr\\u003easian\\u003cbr\\u003efoods\",\"bakery\\u002f\\u003cbr\\u003ebakery\\u003cbr\\u003edesserts\",\"pantry\\u002f\\u003cbr\\u003ebaking\\u003cbr\\u003eingredients\",\"pantry\\u002f\\u003cbr\\u003ebaking\\u003cbr\\u003esupplies\\u003cbr\\u003edecor\",\"personal care\\u002f\\u003cbr\\u003ebeauty\",\"bakery\\u002f\\u003cbr\\u003ebreakfast\\u003cbr\\u003ebakery\",\"breakfast\\u002f\\u003cbr\\u003ebreakfast\\u003cbr\\u003ebars\\u003cbr\\u003epastries\",\"alcohol\\u002f\\u003cbr\\u003ebeers\\u003cbr\\u003ecoolers\",\"bakery\\u002f\\u003cbr\\u003ebread\",\"dairy eggs\\u002f\\u003cbr\\u003ebutter\",\"snacks\\u002f\\u003cbr\\u003ecandy\\u003cbr\\u003echocolate\",\"canned goods\\u002f\\u003cbr\\u003ecanned\\u003cbr\\u003efruit\\u003cbr\\u003eapplesauce\",\"canned goods\\u002f\\u003cbr\\u003ecanned\\u003cbr\\u003ejarred\\u003cbr\\u003evegetables\",\"canned goods\\u002f\\u003cbr\\u003ecanned\\u003cbr\\u003emeals\\u003cbr\\u003ebeans\",\"pantry\\u002f\\u003cbr\\u003econdiments\",\"snacks\\u002f\\u003cbr\\u003ecookies\\u003cbr\\u003ecakes\",\"beverages\\u002f\\u003cbr\\u003ecoffee\",\"beverages\\u002f\\u003cbr\\u003ecocoa\\u003cbr\\u003edrink\\u003cbr\\u003emixes\",\"snacks\\u002f\\u003cbr\\u003echips\\u003cbr\\u003epretzels\",\"breakfast\\u002f\\u003cbr\\u003ecereal\",\"canned goods\\u002f\\u003cbr\\u003ecanned\\u003cbr\\u003emeat\\u003cbr\\u003eseafood\",\"household\\u002f\\u003cbr\\u003ecleaning\\u003cbr\\u003eproducts\",\"snacks\\u002f\\u003cbr\\u003ecrackers\",\"dairy eggs\\u002f\\u003cbr\\u003ecream\",\"personal care\\u002f\\u003cbr\\u003edeodorants\",\"babies\\u002f\\u003cbr\\u003ediapers\\u003cbr\\u003ewipes\",\"pantry\\u002f\\u003cbr\\u003edoughs\\u003cbr\\u003egelatins\\u003cbr\\u003ebake\\u003cbr\\u003emixes\",\"personal care\\u002f\\u003cbr\\u003edigestion\",\"snacks\\u002f\\u003cbr\\u003eenergy\\u003cbr\\u003egranola\\u003cbr\\u003ebars\",\"beverages\\u002f\\u003cbr\\u003eenergy\\u003cbr\\u003esports\\u003cbr\\u003edrinks\",\"personal care\\u002f\\u003cbr\\u003efacial\\u003cbr\\u003ecare\",\"personal care\\u002f\\u003cbr\\u003efeminine\\u003cbr\\u003ecare\",\"personal care\\u002f\\u003cbr\\u003efirst\\u003cbr\\u003eaid\",\"frozen\\u002f\\u003cbr\\u003efrozen\\u003cbr\\u003ebreakfast\",\"frozen\\u002f\\u003cbr\\u003efrozen\\u003cbr\\u003ebreads\\u003cbr\\u003edoughs\",\"frozen\\u002f\\u003cbr\\u003efrozen\\u003cbr\\u003ejuice\",\"frozen\\u002f\\u003cbr\\u003efrozen\\u003cbr\\u003edessert\",\"frozen\\u002f\\u003cbr\\u003efrozen\\u003cbr\\u003eappetizers\\u003cbr\\u003esides\",\"produce\\u002f\\u003cbr\\u003efresh\\u003cbr\\u003efruits\",\"dry goods pasta\\u002f\\u003cbr\\u003efresh\\u003cbr\\u003epasta\",\"produce\\u002f\\u003cbr\\u003efresh\\u003cbr\\u003eherbs\",\"produce\\u002f\\u003cbr\\u003efresh\\u003cbr\\u003evegetables\",\"deli\\u002f\\u003cbr\\u003efresh\\u003cbr\\u003edips\\u003cbr\\u003etapenades\",\"frozen\\u002f\\u003cbr\\u003efrozen\\u003cbr\\u003emeals\",\"frozen\\u002f\\u003cbr\\u003efrozen\\u003cbr\\u003emeat\\u003cbr\\u003eseafood\",\"frozen\\u002f\\u003cbr\\u003efrozen\\u003cbr\\u003epizza\",\"frozen\\u002f\\u003cbr\\u003efrozen\\u003cbr\\u003eproduce\",\"frozen\\u002f\\u003cbr\\u003efrozen\\u003cbr\\u003evegan\\u003cbr\\u003evegetarian\",\"international\\u002f\\u003cbr\\u003eindian\\u003cbr\\u003efoods\",\"pantry\\u002f\\u003cbr\\u003ehoneys\\u003cbr\\u003esyrups\\u003cbr\\u003enectars\",\"snacks\\u002f\\u003cbr\\u003efruit\\u003cbr\\u003evegetable\\u003cbr\\u003esnacks\",\"dry goods pasta\\u002f\\u003cbr\\u003egrains\\u003cbr\\u003erice\\u003cbr\\u003edried\\u003cbr\\u003egoods\",\"breakfast\\u002f\\u003cbr\\u003egranola\",\"pantry\\u002f\\u003cbr\\u003emarinades\\u003cbr\\u003emeat\\u003cbr\\u003epreparation\",\"other\\u002f\\u003cbr\\u003eother\",\"personal care\\u002f\\u003cbr\\u003emuscles\\u003cbr\\u003ejoints\\u003cbr\\u003epain\\u003cbr\\u003erelief\",\"missing\\u002f\\u003cbr\\u003emissing\",\"deli\\u002f\\u003cbr\\u003elunch\\u003cbr\\u003emeat\",\"dry goods pasta\\u002f\\u003cbr\\u003einstant\\u003cbr\\u003efoods\",\"international\\u002f\\u003cbr\\u003elatino\\u003cbr\\u003efoods\",\"international\\u002f\\u003cbr\\u003ekosher\\u003cbr\\u003efoods\",\"household\\u002f\\u003cbr\\u003ekitchen\\u003cbr\\u003esupplies\",\"beverages\\u002f\\u003cbr\\u003ejuice\\u003cbr\\u003enectars\",\"household\\u002f\\u003cbr\\u003elaundry\",\"produce\\u002f\\u003cbr\\u003epackaged\\u003cbr\\u003evegetables\\u003cbr\\u003efruits\",\"pantry\\u002f\\u003cbr\\u003epickled\\u003cbr\\u003egoods\\u003cbr\\u003eolives\",\"dry goods pasta\\u002f\\u003cbr\\u003epasta\\u003cbr\\u003esauce\",\"household\\u002f\\u003cbr\\u003epaper\\u003cbr\\u003egoods\",\"meat seafood\\u002f\\u003cbr\\u003epackaged\\u003cbr\\u003eseafood\",\"meat seafood\\u002f\\u003cbr\\u003epackaged\\u003cbr\\u003emeat\",\"meat seafood\\u002f\\u003cbr\\u003epackaged\\u003cbr\\u003epoultry\",\"produce\\u002f\\u003cbr\\u003epackaged\\u003cbr\\u003eproduce\",\"dairy eggs\\u002f\\u003cbr\\u003epackaged\\u003cbr\\u003echeese\",\"dairy eggs\\u002f\\u003cbr\\u003eother\\u003cbr\\u003ecreams\\u003cbr\\u003echeeses\",\"household\\u002f\\u003cbr\\u003eplates\\u003cbr\\u003ebowls\\u003cbr\\u003ecups\\u003cbr\\u003eflatware\",\"snacks\\u002f\\u003cbr\\u003epopcorn\\u003cbr\\u003ejerky\",\"meat seafood\\u002f\\u003cbr\\u003epoultry\\u003cbr\\u003ecounter\",\"deli\\u002f\\u003cbr\\u003eprepared\\u003cbr\\u003emeals\",\"meat seafood\\u002f\\u003cbr\\u003eseafood\\u003cbr\\u003ecounter\",\"pantry\\u002f\\u003cbr\\u003esalad\\u003cbr\\u003edressing\\u003cbr\\u003etoppings\",\"dairy eggs\\u002f\\u003cbr\\u003erefrigerated\\u003cbr\\u003epudding\\u003cbr\\u003edesserts\",\"beverages\\u002f\\u003cbr\\u003erefrigerated\",\"personal care\\u002f\\u003cbr\\u003eprotein\\u003cbr\\u003emeal\\u003cbr\\u003ereplacements\",\"pantry\\u002f\\u003cbr\\u003epreserved\\u003cbr\\u003edips\\u003cbr\\u003espreads\",\"deli\\u002f\\u003cbr\\u003eprepared\\u003cbr\\u003esoups\\u003cbr\\u003esalads\",\"personal care\\u002f\\u003cbr\\u003eshave\\u003cbr\\u003eneeds\",\"dairy eggs\\u002f\\u003cbr\\u003especialty\\u003cbr\\u003echeeses\",\"household\\u002fair\\u003cbr\\u003efresheners\\u003cbr\\u003ecandles\",\"dairy eggs\\u002f\\u003cbr\\u003eyogurt\",\"alcohol\\u002f\\u003cbr\\u003ewhite\\u003cbr\\u003ewines\",\"beverages\\u002f\\u003cbr\\u003ewater\\u003cbr\\u003eseltzer\\u003cbr\\u003esparkling\\u003cbr\\u003ewater\",\"personal care\\u002f\\u003cbr\\u003evitamins\\u003cbr\\u003esupplements\",\"household\\u002f\\u003cbr\\u003etrash\\u003cbr\\u003ebags\\u003cbr\\u003eliners\",\"pantry\\u002f\\u003cbr\\u003espices\\u003cbr\\u003eseasonings\",\"bakery\\u002f\\u003cbr\\u003etortillas\\u003cbr\\u003eflat\\u003cbr\\u003ebread\",\"pantry\\u002f\\u003cbr\\u003espreads\",\"alcohol\\u002f\\u003cbr\\u003espirits\",\"alcohol\\u002f\\u003cbr\\u003especialty\\u003cbr\\u003ewines\\u003cbr\\u003echampagnes\",\"snacks\\u002f\\u003cbr\\u003etrail\\u003cbr\\u003emix\\u003cbr\\u003esnack\\u003cbr\\u003emix\",\"pets\\u002fdog\\u003cbr\\u003efood\\u003cbr\\u003ecare\",\"personal care\\u002fhair\\u003cbr\\u003ecare\",\"household\\u002ffood\\u003cbr\\u003estorage\",\"breakfast\\u002fhot\\u003cbr\\u003ecereal\\u003cbr\\u003epancake\\u003cbr\\u003emixes\",\"personal care\\u002feye\\u003cbr\\u003eear\\u003cbr\\u003ecare\",\"dairy eggs\\u002feggs\",\"dry goods pasta\\u002fdry\\u003cbr\\u003epasta\",\"household\\u002fdish\\u003cbr\\u003edetergents\",\"babies\\u002fbaby\\u003cbr\\u003efood\\u003cbr\\u003eformula\",\"pets\\u002fcat\\u003cbr\\u003efood\\u003cbr\\u003ecare\",\"bakery\\u002fbuns\\u003cbr\\u003erolls\",\"bulk\\u002fbulk\\u003cbr\\u003egrains\\u003cbr\\u003erice\\u003cbr\\u003edried\\u003cbr\\u003egoods\",\"bulk\\u002fbulk\\u003cbr\\u003edried\\u003cbr\\u003efruits\\u003cbr\\u003evegetables\",\"personal care\\u002fbody\\u003cbr\\u003elotions\\u003cbr\\u003esoap\",\"babies\\u002fbaby\\u003cbr\\u003ebath\\u003cbr\\u003ebody\\u003cbr\\u003ecare\",\"babies\\u002fbaby\\u003cbr\\u003eaccessories\",\"personal care\\u002fcold\\u003cbr\\u003eflu\\u003cbr\\u003eallergy\",\"meat seafood\\u002fhot\\u003cbr\\u003edogs\\u003cbr\\u003ebacon\\u003cbr\\u003esausage\",\"frozen\\u002fice\\u003cbr\\u003ecream\\u003cbr\\u003eice\",\"household\\u002fmore\\u003cbr\\u003ehousehold\",\"snacks\\u002fmint\\u003cbr\\u003egum\",\"dairy eggs\\u002fmilk\",\"snacks\\u002fice\\u003cbr\\u003ecream\\u003cbr\\u003etoppings\",\"meat seafood\\u002fmeat\\u003cbr\\u003ecounter\",\"beverages\\u002ftea\",\"snacks\\u002fnuts\\u003cbr\\u003eseeds\\u003cbr\\u003edried\\u003cbr\\u003efruit\",\"pantry\\u002foils\\u003cbr\\u003evinegars\",\"personal care\\u002foral\\u003cbr\\u003ehygiene\",\"alcohol\\u002fred\\u003cbr\\u003ewines\",\"personal care\\u002fskin\\u003cbr\\u003ecare\",\"personal care\\u002fsoap\",\"beverages\\u002fsoft\\u003cbr\\u003edrinks\",\"canned goods\\u002fsoup\\u003cbr\\u003ebroth\\u003cbr\\u003ebouillon\",\"dairy eggs\\u002fsoy\\u003cbr\\u003elactosefree\",\"deli\\u002ftofu\\u003cbr\\u003emeat\\u003cbr\\u003ealternatives\",\"alcohol\",\"babies\",\"bakery\",\"beverages\",\"breakfast\",\"bulk\",\"canned goods\",\"dairy eggs\",\"deli\",\"dry goods pasta\",\"frozen\",\"household\",\"international\",\"meat seafood\",\"missing\",\"other\",\"pantry\",\"personal care\",\"pets\",\"produce\",\"snacks\"],\"labels\":[\"\\u003cbr\\u003easian\\u003cbr\\u003efoods\",\"\\u003cbr\\u003ebakery\\u003cbr\\u003edesserts\",\"\\u003cbr\\u003ebaking\\u003cbr\\u003eingredients\",\"\\u003cbr\\u003ebaking\\u003cbr\\u003esupplies\\u003cbr\\u003edecor\",\"\\u003cbr\\u003ebeauty\",\"\\u003cbr\\u003ebreakfast\\u003cbr\\u003ebakery\",\"\\u003cbr\\u003ebreakfast\\u003cbr\\u003ebars\\u003cbr\\u003epastries\",\"\\u003cbr\\u003ebeers\\u003cbr\\u003ecoolers\",\"\\u003cbr\\u003ebread\",\"\\u003cbr\\u003ebutter\",\"\\u003cbr\\u003ecandy\\u003cbr\\u003echocolate\",\"\\u003cbr\\u003ecanned\\u003cbr\\u003efruit\\u003cbr\\u003eapplesauce\",\"\\u003cbr\\u003ecanned\\u003cbr\\u003ejarred\\u003cbr\\u003evegetables\",\"\\u003cbr\\u003ecanned\\u003cbr\\u003emeals\\u003cbr\\u003ebeans\",\"\\u003cbr\\u003econdiments\",\"\\u003cbr\\u003ecookies\\u003cbr\\u003ecakes\",\"\\u003cbr\\u003ecoffee\",\"\\u003cbr\\u003ecocoa\\u003cbr\\u003edrink\\u003cbr\\u003emixes\",\"\\u003cbr\\u003echips\\u003cbr\\u003epretzels\",\"\\u003cbr\\u003ecereal\",\"\\u003cbr\\u003ecanned\\u003cbr\\u003emeat\\u003cbr\\u003eseafood\",\"\\u003cbr\\u003ecleaning\\u003cbr\\u003eproducts\",\"\\u003cbr\\u003ecrackers\",\"\\u003cbr\\u003ecream\",\"\\u003cbr\\u003edeodorants\",\"\\u003cbr\\u003ediapers\\u003cbr\\u003ewipes\",\"\\u003cbr\\u003edoughs\\u003cbr\\u003egelatins\\u003cbr\\u003ebake\\u003cbr\\u003emixes\",\"\\u003cbr\\u003edigestion\",\"\\u003cbr\\u003eenergy\\u003cbr\\u003egranola\\u003cbr\\u003ebars\",\"\\u003cbr\\u003eenergy\\u003cbr\\u003esports\\u003cbr\\u003edrinks\",\"\\u003cbr\\u003efacial\\u003cbr\\u003ecare\",\"\\u003cbr\\u003efeminine\\u003cbr\\u003ecare\",\"\\u003cbr\\u003efirst\\u003cbr\\u003eaid\",\"\\u003cbr\\u003efrozen\\u003cbr\\u003ebreakfast\",\"\\u003cbr\\u003efrozen\\u003cbr\\u003ebreads\\u003cbr\\u003edoughs\",\"\\u003cbr\\u003efrozen\\u003cbr\\u003ejuice\",\"\\u003cbr\\u003efrozen\\u003cbr\\u003edessert\",\"\\u003cbr\\u003efrozen\\u003cbr\\u003eappetizers\\u003cbr\\u003esides\",\"\\u003cbr\\u003efresh\\u003cbr\\u003efruits\",\"\\u003cbr\\u003efresh\\u003cbr\\u003epasta\",\"\\u003cbr\\u003efresh\\u003cbr\\u003eherbs\",\"\\u003cbr\\u003efresh\\u003cbr\\u003evegetables\",\"\\u003cbr\\u003efresh\\u003cbr\\u003edips\\u003cbr\\u003etapenades\",\"\\u003cbr\\u003efrozen\\u003cbr\\u003emeals\",\"\\u003cbr\\u003efrozen\\u003cbr\\u003emeat\\u003cbr\\u003eseafood\",\"\\u003cbr\\u003efrozen\\u003cbr\\u003epizza\",\"\\u003cbr\\u003efrozen\\u003cbr\\u003eproduce\",\"\\u003cbr\\u003efrozen\\u003cbr\\u003evegan\\u003cbr\\u003evegetarian\",\"\\u003cbr\\u003eindian\\u003cbr\\u003efoods\",\"\\u003cbr\\u003ehoneys\\u003cbr\\u003esyrups\\u003cbr\\u003enectars\",\"\\u003cbr\\u003efruit\\u003cbr\\u003evegetable\\u003cbr\\u003esnacks\",\"\\u003cbr\\u003egrains\\u003cbr\\u003erice\\u003cbr\\u003edried\\u003cbr\\u003egoods\",\"\\u003cbr\\u003egranola\",\"\\u003cbr\\u003emarinades\\u003cbr\\u003emeat\\u003cbr\\u003epreparation\",\"\\u003cbr\\u003eother\",\"\\u003cbr\\u003emuscles\\u003cbr\\u003ejoints\\u003cbr\\u003epain\\u003cbr\\u003erelief\",\"\\u003cbr\\u003emissing\",\"\\u003cbr\\u003elunch\\u003cbr\\u003emeat\",\"\\u003cbr\\u003einstant\\u003cbr\\u003efoods\",\"\\u003cbr\\u003elatino\\u003cbr\\u003efoods\",\"\\u003cbr\\u003ekosher\\u003cbr\\u003efoods\",\"\\u003cbr\\u003ekitchen\\u003cbr\\u003esupplies\",\"\\u003cbr\\u003ejuice\\u003cbr\\u003enectars\",\"\\u003cbr\\u003elaundry\",\"\\u003cbr\\u003epackaged\\u003cbr\\u003evegetables\\u003cbr\\u003efruits\",\"\\u003cbr\\u003epickled\\u003cbr\\u003egoods\\u003cbr\\u003eolives\",\"\\u003cbr\\u003epasta\\u003cbr\\u003esauce\",\"\\u003cbr\\u003epaper\\u003cbr\\u003egoods\",\"\\u003cbr\\u003epackaged\\u003cbr\\u003eseafood\",\"\\u003cbr\\u003epackaged\\u003cbr\\u003emeat\",\"\\u003cbr\\u003epackaged\\u003cbr\\u003epoultry\",\"\\u003cbr\\u003epackaged\\u003cbr\\u003eproduce\",\"\\u003cbr\\u003epackaged\\u003cbr\\u003echeese\",\"\\u003cbr\\u003eother\\u003cbr\\u003ecreams\\u003cbr\\u003echeeses\",\"\\u003cbr\\u003eplates\\u003cbr\\u003ebowls\\u003cbr\\u003ecups\\u003cbr\\u003eflatware\",\"\\u003cbr\\u003epopcorn\\u003cbr\\u003ejerky\",\"\\u003cbr\\u003epoultry\\u003cbr\\u003ecounter\",\"\\u003cbr\\u003eprepared\\u003cbr\\u003emeals\",\"\\u003cbr\\u003eseafood\\u003cbr\\u003ecounter\",\"\\u003cbr\\u003esalad\\u003cbr\\u003edressing\\u003cbr\\u003etoppings\",\"\\u003cbr\\u003erefrigerated\\u003cbr\\u003epudding\\u003cbr\\u003edesserts\",\"\\u003cbr\\u003erefrigerated\",\"\\u003cbr\\u003eprotein\\u003cbr\\u003emeal\\u003cbr\\u003ereplacements\",\"\\u003cbr\\u003epreserved\\u003cbr\\u003edips\\u003cbr\\u003espreads\",\"\\u003cbr\\u003eprepared\\u003cbr\\u003esoups\\u003cbr\\u003esalads\",\"\\u003cbr\\u003eshave\\u003cbr\\u003eneeds\",\"\\u003cbr\\u003especialty\\u003cbr\\u003echeeses\",\"air\\u003cbr\\u003efresheners\\u003cbr\\u003ecandles\",\"\\u003cbr\\u003eyogurt\",\"\\u003cbr\\u003ewhite\\u003cbr\\u003ewines\",\"\\u003cbr\\u003ewater\\u003cbr\\u003eseltzer\\u003cbr\\u003esparkling\\u003cbr\\u003ewater\",\"\\u003cbr\\u003evitamins\\u003cbr\\u003esupplements\",\"\\u003cbr\\u003etrash\\u003cbr\\u003ebags\\u003cbr\\u003eliners\",\"\\u003cbr\\u003espices\\u003cbr\\u003eseasonings\",\"\\u003cbr\\u003etortillas\\u003cbr\\u003eflat\\u003cbr\\u003ebread\",\"\\u003cbr\\u003espreads\",\"\\u003cbr\\u003espirits\",\"\\u003cbr\\u003especialty\\u003cbr\\u003ewines\\u003cbr\\u003echampagnes\",\"\\u003cbr\\u003etrail\\u003cbr\\u003emix\\u003cbr\\u003esnack\\u003cbr\\u003emix\",\"dog\\u003cbr\\u003efood\\u003cbr\\u003ecare\",\"hair\\u003cbr\\u003ecare\",\"food\\u003cbr\\u003estorage\",\"hot\\u003cbr\\u003ecereal\\u003cbr\\u003epancake\\u003cbr\\u003emixes\",\"eye\\u003cbr\\u003eear\\u003cbr\\u003ecare\",\"eggs\",\"dry\\u003cbr\\u003epasta\",\"dish\\u003cbr\\u003edetergents\",\"baby\\u003cbr\\u003efood\\u003cbr\\u003eformula\",\"cat\\u003cbr\\u003efood\\u003cbr\\u003ecare\",\"buns\\u003cbr\\u003erolls\",\"bulk\\u003cbr\\u003egrains\\u003cbr\\u003erice\\u003cbr\\u003edried\\u003cbr\\u003egoods\",\"bulk\\u003cbr\\u003edried\\u003cbr\\u003efruits\\u003cbr\\u003evegetables\",\"body\\u003cbr\\u003elotions\\u003cbr\\u003esoap\",\"baby\\u003cbr\\u003ebath\\u003cbr\\u003ebody\\u003cbr\\u003ecare\",\"baby\\u003cbr\\u003eaccessories\",\"cold\\u003cbr\\u003eflu\\u003cbr\\u003eallergy\",\"hot\\u003cbr\\u003edogs\\u003cbr\\u003ebacon\\u003cbr\\u003esausage\",\"ice\\u003cbr\\u003ecream\\u003cbr\\u003eice\",\"more\\u003cbr\\u003ehousehold\",\"mint\\u003cbr\\u003egum\",\"milk\",\"ice\\u003cbr\\u003ecream\\u003cbr\\u003etoppings\",\"meat\\u003cbr\\u003ecounter\",\"tea\",\"nuts\\u003cbr\\u003eseeds\\u003cbr\\u003edried\\u003cbr\\u003efruit\",\"oils\\u003cbr\\u003evinegars\",\"oral\\u003cbr\\u003ehygiene\",\"red\\u003cbr\\u003ewines\",\"skin\\u003cbr\\u003ecare\",\"soap\",\"soft\\u003cbr\\u003edrinks\",\"soup\\u003cbr\\u003ebroth\\u003cbr\\u003ebouillon\",\"soy\\u003cbr\\u003elactosefree\",\"tofu\\u003cbr\\u003emeat\\u003cbr\\u003ealternatives\",\"alcohol\",\"babies\",\"bakery\",\"beverages\",\"breakfast\",\"bulk\",\"canned goods\",\"dairy eggs\",\"deli\",\"dry goods pasta\",\"frozen\",\"household\",\"international\",\"meat seafood\",\"missing\",\"other\",\"pantry\",\"personal care\",\"pets\",\"produce\",\"snacks\"],\"marker\":{\"colors\":[\"#636efa\",\"#EF553B\",\"#00cc96\",\"#00cc96\",\"#ab63fa\",\"#EF553B\",\"#FFA15A\",\"#19d3f3\",\"#EF553B\",\"#FF6692\",\"#B6E880\",\"#FF97FF\",\"#FF97FF\",\"#FF97FF\",\"#00cc96\",\"#B6E880\",\"#FECB52\",\"#FECB52\",\"#B6E880\",\"#FFA15A\",\"#FF97FF\",\"#636efa\",\"#B6E880\",\"#FF6692\",\"#ab63fa\",\"#EF553B\",\"#00cc96\",\"#ab63fa\",\"#B6E880\",\"#FECB52\",\"#ab63fa\",\"#ab63fa\",\"#ab63fa\",\"#00cc96\",\"#00cc96\",\"#00cc96\",\"#00cc96\",\"#00cc96\",\"#ab63fa\",\"#FFA15A\",\"#ab63fa\",\"#ab63fa\",\"#19d3f3\",\"#00cc96\",\"#00cc96\",\"#00cc96\",\"#00cc96\",\"#00cc96\",\"#636efa\",\"#00cc96\",\"#B6E880\",\"#FFA15A\",\"#FFA15A\",\"#00cc96\",\"#FF6692\",\"#ab63fa\",\"#B6E880\",\"#19d3f3\",\"#FFA15A\",\"#636efa\",\"#636efa\",\"#636efa\",\"#FECB52\",\"#636efa\",\"#ab63fa\",\"#00cc96\",\"#FFA15A\",\"#636efa\",\"#FF97FF\",\"#FF97FF\",\"#FF97FF\",\"#ab63fa\",\"#FF6692\",\"#FF6692\",\"#636efa\",\"#B6E880\",\"#FF97FF\",\"#19d3f3\",\"#FF97FF\",\"#00cc96\",\"#FF6692\",\"#FECB52\",\"#ab63fa\",\"#00cc96\",\"#19d3f3\",\"#ab63fa\",\"#FF6692\",\"#636efa\",\"#FF6692\",\"#19d3f3\",\"#FECB52\",\"#ab63fa\",\"#636efa\",\"#00cc96\",\"#EF553B\",\"#00cc96\",\"#19d3f3\",\"#19d3f3\",\"#B6E880\",\"#FECB52\",\"#ab63fa\",\"#636efa\",\"#FFA15A\",\"#ab63fa\",\"#FF6692\",\"#FFA15A\",\"#636efa\",\"#EF553B\",\"#FECB52\",\"#EF553B\",\"#636efa\",\"#636efa\",\"#ab63fa\",\"#EF553B\",\"#EF553B\",\"#ab63fa\",\"#FF97FF\",\"#00cc96\",\"#636efa\",\"#B6E880\",\"#FF6692\",\"#B6E880\",\"#FF97FF\",\"#FECB52\",\"#B6E880\",\"#00cc96\",\"#ab63fa\",\"#19d3f3\",\"#ab63fa\",\"#ab63fa\",\"#FECB52\",\"#FF97FF\",\"#FF6692\",\"#19d3f3\",\"#19d3f3\",\"#EF553B\",\"#EF553B\",\"#FECB52\",\"#FFA15A\",\"#636efa\",\"#FF97FF\",\"#FF6692\",\"#19d3f3\",\"#FFA15A\",\"#00cc96\",\"#636efa\",\"#636efa\",\"#FF97FF\",\"#B6E880\",\"#FF6692\",\"#00cc96\",\"#ab63fa\",\"#FECB52\",\"#ab63fa\",\"#B6E880\"]},\"name\":\"\",\"parents\":[\"international\",\"bakery\",\"pantry\",\"pantry\",\"personal care\",\"bakery\",\"breakfast\",\"alcohol\",\"bakery\",\"dairy eggs\",\"snacks\",\"canned goods\",\"canned goods\",\"canned goods\",\"pantry\",\"snacks\",\"beverages\",\"beverages\",\"snacks\",\"breakfast\",\"canned goods\",\"household\",\"snacks\",\"dairy eggs\",\"personal care\",\"babies\",\"pantry\",\"personal care\",\"snacks\",\"beverages\",\"personal care\",\"personal care\",\"personal care\",\"frozen\",\"frozen\",\"frozen\",\"frozen\",\"frozen\",\"produce\",\"dry goods pasta\",\"produce\",\"produce\",\"deli\",\"frozen\",\"frozen\",\"frozen\",\"frozen\",\"frozen\",\"international\",\"pantry\",\"snacks\",\"dry goods pasta\",\"breakfast\",\"pantry\",\"other\",\"personal care\",\"missing\",\"deli\",\"dry goods pasta\",\"international\",\"international\",\"household\",\"beverages\",\"household\",\"produce\",\"pantry\",\"dry goods pasta\",\"household\",\"meat seafood\",\"meat seafood\",\"meat seafood\",\"produce\",\"dairy eggs\",\"dairy eggs\",\"household\",\"snacks\",\"meat seafood\",\"deli\",\"meat seafood\",\"pantry\",\"dairy eggs\",\"beverages\",\"personal care\",\"pantry\",\"deli\",\"personal care\",\"dairy eggs\",\"household\",\"dairy eggs\",\"alcohol\",\"beverages\",\"personal care\",\"household\",\"pantry\",\"bakery\",\"pantry\",\"alcohol\",\"alcohol\",\"snacks\",\"pets\",\"personal care\",\"household\",\"breakfast\",\"personal care\",\"dairy eggs\",\"dry goods pasta\",\"household\",\"babies\",\"pets\",\"bakery\",\"bulk\",\"bulk\",\"personal care\",\"babies\",\"babies\",\"personal care\",\"meat seafood\",\"frozen\",\"household\",\"snacks\",\"dairy eggs\",\"snacks\",\"meat seafood\",\"beverages\",\"snacks\",\"pantry\",\"personal care\",\"alcohol\",\"personal care\",\"personal care\",\"beverages\",\"canned goods\",\"dairy eggs\",\"deli\",\"\",\"\",\"\",\"\",\"\",\"\",\"\",\"\",\"\",\"\",\"\",\"\",\"\",\"\",\"\",\"\",\"\",\"\",\"\",\"\",\"\"],\"values\":[605,297,623,290,178,226,173,385,557,150,1246,243,487,342,466,874,680,223,989,454,283,655,747,161,317,187,463,338,832,294,277,285,240,296,81,47,112,386,382,123,86,569,327,880,229,335,361,189,108,229,356,336,185,409,548,172,1258,373,543,257,169,218,792,506,615,402,399,322,80,100,99,32,891,191,199,316,82,317,54,560,98,675,325,264,146,198,271,355,1026,147,344,1038,112,797,241,493,195,95,69,473,816,206,303,113,125,457,204,718,499,195,26,12,504,132,44,427,387,1091,308,168,243,85,105,894,582,375,565,232,245,525,463,737,293,159,1054,1081,1516,4365,1115,38,2092,3449,1322,1858,4007,3085,1139,907,1258,548,5371,6563,972,1684,6264],\"type\":\"treemap\"}],                        {\"template\":{\"data\":{\"histogram2dcontour\":[{\"type\":\"histogram2dcontour\",\"colorbar\":{\"outlinewidth\":0,\"ticks\":\"\"},\"colorscale\":[[0.0,\"#0d0887\"],[0.1111111111111111,\"#46039f\"],[0.2222222222222222,\"#7201a8\"],[0.3333333333333333,\"#9c179e\"],[0.4444444444444444,\"#bd3786\"],[0.5555555555555556,\"#d8576b\"],[0.6666666666666666,\"#ed7953\"],[0.7777777777777778,\"#fb9f3a\"],[0.8888888888888888,\"#fdca26\"],[1.0,\"#f0f921\"]]}],\"choropleth\":[{\"type\":\"choropleth\",\"colorbar\":{\"outlinewidth\":0,\"ticks\":\"\"}}],\"histogram2d\":[{\"type\":\"histogram2d\",\"colorbar\":{\"outlinewidth\":0,\"ticks\":\"\"},\"colorscale\":[[0.0,\"#0d0887\"],[0.1111111111111111,\"#46039f\"],[0.2222222222222222,\"#7201a8\"],[0.3333333333333333,\"#9c179e\"],[0.4444444444444444,\"#bd3786\"],[0.5555555555555556,\"#d8576b\"],[0.6666666666666666,\"#ed7953\"],[0.7777777777777778,\"#fb9f3a\"],[0.8888888888888888,\"#fdca26\"],[1.0,\"#f0f921\"]]}],\"heatmap\":[{\"type\":\"heatmap\",\"colorbar\":{\"outlinewidth\":0,\"ticks\":\"\"},\"colorscale\":[[0.0,\"#0d0887\"],[0.1111111111111111,\"#46039f\"],[0.2222222222222222,\"#7201a8\"],[0.3333333333333333,\"#9c179e\"],[0.4444444444444444,\"#bd3786\"],[0.5555555555555556,\"#d8576b\"],[0.6666666666666666,\"#ed7953\"],[0.7777777777777778,\"#fb9f3a\"],[0.8888888888888888,\"#fdca26\"],[1.0,\"#f0f921\"]]}],\"heatmapgl\":[{\"type\":\"heatmapgl\",\"colorbar\":{\"outlinewidth\":0,\"ticks\":\"\"},\"colorscale\":[[0.0,\"#0d0887\"],[0.1111111111111111,\"#46039f\"],[0.2222222222222222,\"#7201a8\"],[0.3333333333333333,\"#9c179e\"],[0.4444444444444444,\"#bd3786\"],[0.5555555555555556,\"#d8576b\"],[0.6666666666666666,\"#ed7953\"],[0.7777777777777778,\"#fb9f3a\"],[0.8888888888888888,\"#fdca26\"],[1.0,\"#f0f921\"]]}],\"contourcarpet\":[{\"type\":\"contourcarpet\",\"colorbar\":{\"outlinewidth\":0,\"ticks\":\"\"}}],\"contour\":[{\"type\":\"contour\",\"colorbar\":{\"outlinewidth\":0,\"ticks\":\"\"},\"colorscale\":[[0.0,\"#0d0887\"],[0.1111111111111111,\"#46039f\"],[0.2222222222222222,\"#7201a8\"],[0.3333333333333333,\"#9c179e\"],[0.4444444444444444,\"#bd3786\"],[0.5555555555555556,\"#d8576b\"],[0.6666666666666666,\"#ed7953\"],[0.7777777777777778,\"#fb9f3a\"],[0.8888888888888888,\"#fdca26\"],[1.0,\"#f0f921\"]]}],\"surface\":[{\"type\":\"surface\",\"colorbar\":{\"outlinewidth\":0,\"ticks\":\"\"},\"colorscale\":[[0.0,\"#0d0887\"],[0.1111111111111111,\"#46039f\"],[0.2222222222222222,\"#7201a8\"],[0.3333333333333333,\"#9c179e\"],[0.4444444444444444,\"#bd3786\"],[0.5555555555555556,\"#d8576b\"],[0.6666666666666666,\"#ed7953\"],[0.7777777777777778,\"#fb9f3a\"],[0.8888888888888888,\"#fdca26\"],[1.0,\"#f0f921\"]]}],\"mesh3d\":[{\"type\":\"mesh3d\",\"colorbar\":{\"outlinewidth\":0,\"ticks\":\"\"}}],\"scatter\":[{\"fillpattern\":{\"fillmode\":\"overlay\",\"size\":10,\"solidity\":0.2},\"type\":\"scatter\"}],\"parcoords\":[{\"type\":\"parcoords\",\"line\":{\"colorbar\":{\"outlinewidth\":0,\"ticks\":\"\"}}}],\"scatterpolargl\":[{\"type\":\"scatterpolargl\",\"marker\":{\"colorbar\":{\"outlinewidth\":0,\"ticks\":\"\"}}}],\"bar\":[{\"error_x\":{\"color\":\"#2a3f5f\"},\"error_y\":{\"color\":\"#2a3f5f\"},\"marker\":{\"line\":{\"color\":\"#E5ECF6\",\"width\":0.5},\"pattern\":{\"fillmode\":\"overlay\",\"size\":10,\"solidity\":0.2}},\"type\":\"bar\"}],\"scattergeo\":[{\"type\":\"scattergeo\",\"marker\":{\"colorbar\":{\"outlinewidth\":0,\"ticks\":\"\"}}}],\"scatterpolar\":[{\"type\":\"scatterpolar\",\"marker\":{\"colorbar\":{\"outlinewidth\":0,\"ticks\":\"\"}}}],\"histogram\":[{\"marker\":{\"pattern\":{\"fillmode\":\"overlay\",\"size\":10,\"solidity\":0.2}},\"type\":\"histogram\"}],\"scattergl\":[{\"type\":\"scattergl\",\"marker\":{\"colorbar\":{\"outlinewidth\":0,\"ticks\":\"\"}}}],\"scatter3d\":[{\"type\":\"scatter3d\",\"line\":{\"colorbar\":{\"outlinewidth\":0,\"ticks\":\"\"}},\"marker\":{\"colorbar\":{\"outlinewidth\":0,\"ticks\":\"\"}}}],\"scattermapbox\":[{\"type\":\"scattermapbox\",\"marker\":{\"colorbar\":{\"outlinewidth\":0,\"ticks\":\"\"}}}],\"scatterternary\":[{\"type\":\"scatterternary\",\"marker\":{\"colorbar\":{\"outlinewidth\":0,\"ticks\":\"\"}}}],\"scattercarpet\":[{\"type\":\"scattercarpet\",\"marker\":{\"colorbar\":{\"outlinewidth\":0,\"ticks\":\"\"}}}],\"carpet\":[{\"aaxis\":{\"endlinecolor\":\"#2a3f5f\",\"gridcolor\":\"white\",\"linecolor\":\"white\",\"minorgridcolor\":\"white\",\"startlinecolor\":\"#2a3f5f\"},\"baxis\":{\"endlinecolor\":\"#2a3f5f\",\"gridcolor\":\"white\",\"linecolor\":\"white\",\"minorgridcolor\":\"white\",\"startlinecolor\":\"#2a3f5f\"},\"type\":\"carpet\"}],\"table\":[{\"cells\":{\"fill\":{\"color\":\"#EBF0F8\"},\"line\":{\"color\":\"white\"}},\"header\":{\"fill\":{\"color\":\"#C8D4E3\"},\"line\":{\"color\":\"white\"}},\"type\":\"table\"}],\"barpolar\":[{\"marker\":{\"line\":{\"color\":\"#E5ECF6\",\"width\":0.5},\"pattern\":{\"fillmode\":\"overlay\",\"size\":10,\"solidity\":0.2}},\"type\":\"barpolar\"}],\"pie\":[{\"automargin\":true,\"type\":\"pie\"}]},\"layout\":{\"autotypenumbers\":\"strict\",\"colorway\":[\"#636efa\",\"#EF553B\",\"#00cc96\",\"#ab63fa\",\"#FFA15A\",\"#19d3f3\",\"#FF6692\",\"#B6E880\",\"#FF97FF\",\"#FECB52\"],\"font\":{\"color\":\"#2a3f5f\"},\"hovermode\":\"closest\",\"hoverlabel\":{\"align\":\"left\"},\"paper_bgcolor\":\"white\",\"plot_bgcolor\":\"#E5ECF6\",\"polar\":{\"bgcolor\":\"#E5ECF6\",\"angularaxis\":{\"gridcolor\":\"white\",\"linecolor\":\"white\",\"ticks\":\"\"},\"radialaxis\":{\"gridcolor\":\"white\",\"linecolor\":\"white\",\"ticks\":\"\"}},\"ternary\":{\"bgcolor\":\"#E5ECF6\",\"aaxis\":{\"gridcolor\":\"white\",\"linecolor\":\"white\",\"ticks\":\"\"},\"baxis\":{\"gridcolor\":\"white\",\"linecolor\":\"white\",\"ticks\":\"\"},\"caxis\":{\"gridcolor\":\"white\",\"linecolor\":\"white\",\"ticks\":\"\"}},\"coloraxis\":{\"colorbar\":{\"outlinewidth\":0,\"ticks\":\"\"}},\"colorscale\":{\"sequential\":[[0.0,\"#0d0887\"],[0.1111111111111111,\"#46039f\"],[0.2222222222222222,\"#7201a8\"],[0.3333333333333333,\"#9c179e\"],[0.4444444444444444,\"#bd3786\"],[0.5555555555555556,\"#d8576b\"],[0.6666666666666666,\"#ed7953\"],[0.7777777777777778,\"#fb9f3a\"],[0.8888888888888888,\"#fdca26\"],[1.0,\"#f0f921\"]],\"sequentialminus\":[[0.0,\"#0d0887\"],[0.1111111111111111,\"#46039f\"],[0.2222222222222222,\"#7201a8\"],[0.3333333333333333,\"#9c179e\"],[0.4444444444444444,\"#bd3786\"],[0.5555555555555556,\"#d8576b\"],[0.6666666666666666,\"#ed7953\"],[0.7777777777777778,\"#fb9f3a\"],[0.8888888888888888,\"#fdca26\"],[1.0,\"#f0f921\"]],\"diverging\":[[0,\"#8e0152\"],[0.1,\"#c51b7d\"],[0.2,\"#de77ae\"],[0.3,\"#f1b6da\"],[0.4,\"#fde0ef\"],[0.5,\"#f7f7f7\"],[0.6,\"#e6f5d0\"],[0.7,\"#b8e186\"],[0.8,\"#7fbc41\"],[0.9,\"#4d9221\"],[1,\"#276419\"]]},\"xaxis\":{\"gridcolor\":\"white\",\"linecolor\":\"white\",\"ticks\":\"\",\"title\":{\"standoff\":15},\"zerolinecolor\":\"white\",\"automargin\":true,\"zerolinewidth\":2},\"yaxis\":{\"gridcolor\":\"white\",\"linecolor\":\"white\",\"ticks\":\"\",\"title\":{\"standoff\":15},\"zerolinecolor\":\"white\",\"automargin\":true,\"zerolinewidth\":2},\"scene\":{\"xaxis\":{\"backgroundcolor\":\"#E5ECF6\",\"gridcolor\":\"white\",\"linecolor\":\"white\",\"showbackground\":true,\"ticks\":\"\",\"zerolinecolor\":\"white\",\"gridwidth\":2},\"yaxis\":{\"backgroundcolor\":\"#E5ECF6\",\"gridcolor\":\"white\",\"linecolor\":\"white\",\"showbackground\":true,\"ticks\":\"\",\"zerolinecolor\":\"white\",\"gridwidth\":2},\"zaxis\":{\"backgroundcolor\":\"#E5ECF6\",\"gridcolor\":\"white\",\"linecolor\":\"white\",\"showbackground\":true,\"ticks\":\"\",\"zerolinecolor\":\"white\",\"gridwidth\":2}},\"shapedefaults\":{\"line\":{\"color\":\"#2a3f5f\"}},\"annotationdefaults\":{\"arrowcolor\":\"#2a3f5f\",\"arrowhead\":0,\"arrowwidth\":1},\"geo\":{\"bgcolor\":\"white\",\"landcolor\":\"#E5ECF6\",\"subunitcolor\":\"white\",\"showland\":true,\"showlakes\":true,\"lakecolor\":\"white\"},\"title\":{\"x\":0.05},\"mapbox\":{\"style\":\"light\"}}},\"legend\":{\"tracegroupgap\":0},\"title\":{\"text\":\"Product Treemap by Department and Aisle\"},\"height\":800,\"width\":1100},                        {\"responsive\": true}                    ).then(function(){\n",
       "                            \n",
       "var gd = document.getElementById('e9a63141-e2ae-4854-8de3-93cb4aea1200');\n",
       "var x = new MutationObserver(function (mutations, observer) {{\n",
       "        var display = window.getComputedStyle(gd).display;\n",
       "        if (!display || display === 'none') {{\n",
       "            console.log([gd, 'removed!']);\n",
       "            Plotly.purge(gd);\n",
       "            observer.disconnect();\n",
       "        }}\n",
       "}});\n",
       "\n",
       "// Listen for the removal of the full notebook cells\n",
       "var notebookContainer = gd.closest('#notebook-container');\n",
       "if (notebookContainer) {{\n",
       "    x.observe(notebookContainer, {childList: true});\n",
       "}}\n",
       "\n",
       "// Listen for the clearing of the current output cell\n",
       "var outputEl = gd.closest('.output');\n",
       "if (outputEl) {{\n",
       "    x.observe(outputEl, {childList: true});\n",
       "}}\n",
       "\n",
       "                        })                };                });            </script>        </div>"
      ]
     },
     "metadata": {},
     "output_type": "display_data"
    },
    {
     "name": "stdout",
     "output_type": "stream",
     "text": [
      "CPU times: user 446 ms, sys: 36.6 ms, total: 483 ms\n",
      "Wall time: 5.78 s\n"
     ]
    }
   ],
   "source": [
    "%%time\n",
    "\n",
    "import plotly.express as px\n",
    "import textwrap\n",
    "\n",
    "# Aggregate data by department and aisle\n",
    "aggregated_data = inventory.groupby(['department', 'aisle']).size().reset_index(name='count')\n",
    "\n",
    "# Function to wrap text for labels\n",
    "def wrap_text(text, width=5):\n",
    "    words = text.split(' ')\n",
    "    lines = []\n",
    "    current_line = []\n",
    "    current_length = 0\n",
    "    for word in words:\n",
    "        if current_length + len(word) + 1 <= width:\n",
    "            current_line.append(word)\n",
    "            current_length += len(word) + 1\n",
    "        else:\n",
    "            lines.append(' '.join(current_line))\n",
    "            current_line = [word]\n",
    "            current_length = len(word) + 1\n",
    "    lines.append(' '.join(current_line))\n",
    "    return '<br>'.join(lines)\n",
    "\n",
    "# Apply word wrapping to labels\n",
    "# textwrap is not helpful when you want text wrap on space first and then on width. So, it could wrap word in more than 1 line\n",
    "# aggregated_data['wrapped_aisle'] = aggregated_data['aisle'].apply(lambda x: \"<br>\".join(textwrap.wrap(x,width=12)))\n",
    "aggregated_data['wrapped_aisle'] = aggregated_data['aisle'].apply(lambda x: wrap_text(x))\n",
    "\n",
    "# Create the treemap with different colors for each department\n",
    "fig = px.treemap(\n",
    "    aggregated_data, \n",
    "    path=['department', 'wrapped_aisle'], \n",
    "    values='count',\n",
    "    color='department',  # Set color dimension to department\n",
    "    title='Product Treemap by Department and Aisle',\n",
    "    width=1100,\n",
    "    height=800\n",
    ")\n",
    "\n",
    "fig.write_image('images/product_treemap.png')\n",
    "# Show the plot\n",
    "fig.show()\n"
   ]
  },
  {
   "cell_type": "code",
   "execution_count": null,
   "id": "a8c06ebf-835f-492c-a7f0-b5f3d3667100",
   "metadata": {},
   "outputs": [],
   "source": []
  },
  {
   "cell_type": "markdown",
   "id": "d9d0d936-3320-42fa-a10c-c16c630a32b4",
   "metadata": {},
   "source": [
    "## Data Preparation"
   ]
  },
  {
   "cell_type": "code",
   "execution_count": null,
   "id": "1fb6f781-9d8d-43d1-be35-cc383ebf794c",
   "metadata": {},
   "outputs": [],
   "source": []
  },
  {
   "cell_type": "code",
   "execution_count": null,
   "id": "b945096d-ab86-452e-b228-f1a47dae27a4",
   "metadata": {},
   "outputs": [],
   "source": []
  }
 ],
 "metadata": {
  "kernelspec": {
   "display_name": "Python 3 (ipykernel)",
   "language": "python",
   "name": "python3"
  },
  "language_info": {
   "codemirror_mode": {
    "name": "ipython",
    "version": 3
   },
   "file_extension": ".py",
   "mimetype": "text/x-python",
   "name": "python",
   "nbconvert_exporter": "python",
   "pygments_lexer": "ipython3",
   "version": "3.11.9"
  }
 },
 "nbformat": 4,
 "nbformat_minor": 5
}
